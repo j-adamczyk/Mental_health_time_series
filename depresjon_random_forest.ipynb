{
 "cells": [
  {
   "cell_type": "code",
   "execution_count": 1,
   "id": "prostate-blank",
   "metadata": {},
   "outputs": [
    {
     "name": "stderr",
     "output_type": "stream",
     "text": [
      "Q:\\ProgramData\\Miniconda3\\lib\\site-packages\\numpy\\_distributor_init.py:30: UserWarning: loaded more than 1 DLL from .libs:\n",
      "Q:\\ProgramData\\Miniconda3\\lib\\site-packages\\numpy\\.libs\\libopenblas.NOIJJG62EMASZI6NYURL6JBKM4EVBGM7.gfortran-win_amd64.dll\n",
      "Q:\\ProgramData\\Miniconda3\\lib\\site-packages\\numpy\\.libs\\libopenblas.PYQHXLVVQ7VESDPUVUADXEVJOBGHJPAY.gfortran-win_amd64.dll\n",
      "  warnings.warn(\"loaded more than 1 DLL from .libs:\\n%s\" %\n"
     ]
    }
   ],
   "source": [
    "from sklearn.ensemble import RandomForestClassifier\n",
    "\n",
    "def create_rf(n_trees):\n",
    "    return RandomForestClassifier(n_estimators=n_trees)"
   ]
  },
  {
   "cell_type": "code",
   "execution_count": 2,
   "id": "mature-pontiac",
   "metadata": {},
   "outputs": [],
   "source": [
    "import pandas as pd\n",
    "import numpy as np"
   ]
  },
  {
   "cell_type": "code",
   "execution_count": 3,
   "id": "advisory-married",
   "metadata": {
    "scrolled": true
   },
   "outputs": [
    {
     "name": "stdout",
     "output_type": "stream",
     "text": [
      "<class 'pandas.core.frame.DataFrame'>\n",
      "RangeIndex: 55 entries, 0 to 54\n",
      "Data columns (total 3 columns):\n",
      " #   Column      Non-Null Count  Dtype \n",
      "---  ------      --------------  ----- \n",
      " 0   Unnamed: 0  55 non-null     int64 \n",
      " 1   number      55 non-null     object\n",
      " 2   ill         55 non-null     int64 \n",
      "dtypes: int64(2), object(1)\n",
      "memory usage: 1.4+ KB\n"
     ]
    }
   ],
   "source": [
    "ids = pd.read_csv('csv/ids.csv')\n",
    "ids.info()"
   ]
  },
  {
   "cell_type": "code",
   "execution_count": 4,
   "id": "bright-level",
   "metadata": {
    "scrolled": true
   },
   "outputs": [],
   "source": [
    "names = ['all', 'night', 'day']\n",
    "selected = {}\n",
    "hourly_selected = {}\n",
    "\n",
    "for n in names:\n",
    "    selected[n] = pd.read_csv(f'csv/selected_{n}.csv')\n",
    "    hourly_selected[n] = pd.read_csv(f'csv/selected_hourly_{n}.csv')"
   ]
  },
  {
   "cell_type": "code",
   "execution_count": 5,
   "id": "convinced-novelty",
   "metadata": {},
   "outputs": [],
   "source": [
    "from sklearn.model_selection import cross_val_score\n",
    "\n",
    "folds = 10\n",
    "y = ids['ill']\n",
    "\n",
    "def cross_validate(name: str, data: pd.DataFrame):\n",
    "    print(f'{folds}-fold cross validation on dataset: {name}')\n",
    "    \n",
    "    rf500 = create_rf(500)\n",
    "    rf1000 = create_rf(1000)\n",
    "    \n",
    "    scores500 = cross_val_score(rf500, data, y, cv=folds)\n",
    "    print(f'Average score on 500 trees RF: {np.mean(scores500)}')\n",
    "    print('All scores:', scores500)\n",
    "    \n",
    "    scores1000 = cross_val_score(rf1000, data, y, cv=folds)\n",
    "    print(f'Average score on 1000 trees RF: {np.mean(scores1000)}')\n",
    "    print('All scores:', scores1000)"
   ]
  },
  {
   "cell_type": "code",
   "execution_count": 6,
   "id": "anonymous-jordan",
   "metadata": {},
   "outputs": [
    {
     "name": "stdout",
     "output_type": "stream",
     "text": [
      "10-fold cross validation on dataset: all\n",
      "Average score on 500 trees RF: 0.9233333333333335\n",
      "All scores: [0.83333333 1.         1.         1.         1.         1.\n",
      " 1.         0.8        0.8        0.8       ]\n",
      "Average score on 1000 trees RF: 0.9433333333333336\n",
      "All scores: [0.83333333 1.         1.         1.         1.         1.\n",
      " 1.         1.         0.8        0.8       ]\n",
      "10-fold cross validation on dataset: night\n",
      "Average score on 500 trees RF: 0.8333333333333334\n",
      "All scores: [1.         1.         0.5        0.83333333 1.         0.8\n",
      " 1.         0.6        0.6        1.        ]\n",
      "Average score on 1000 trees RF: 0.8533333333333333\n",
      "All scores: [1.         0.83333333 0.66666667 0.83333333 1.         0.8\n",
      " 1.         0.8        0.6        1.        ]\n",
      "10-fold cross validation on dataset: day\n",
      "Average score on 500 trees RF: 0.9633333333333335\n",
      "All scores: [0.83333333 1.         1.         1.         1.         1.\n",
      " 1.         1.         1.         0.8       ]\n",
      "Average score on 1000 trees RF: 0.9633333333333335\n",
      "All scores: [0.83333333 1.         1.         1.         1.         1.\n",
      " 1.         1.         1.         0.8       ]\n"
     ]
    }
   ],
   "source": [
    "for name, data in selected.items():\n",
    "    cross_validate(name, data)"
   ]
  },
  {
   "cell_type": "code",
   "execution_count": 7,
   "id": "strategic-history",
   "metadata": {},
   "outputs": [
    {
     "name": "stdout",
     "output_type": "stream",
     "text": [
      "10-fold cross validation on dataset: all\n",
      "Average score on 500 trees RF: 0.9800000000000001\n",
      "All scores: [1.  1.  1.  1.  1.  1.  1.  1.  1.  0.8]\n",
      "Average score on 1000 trees RF: 0.9433333333333334\n",
      "All scores: [0.83333333 1.         1.         1.         1.         1.\n",
      " 1.         0.8        1.         0.8       ]\n",
      "10-fold cross validation on dataset: night\n",
      "Average score on 500 trees RF: 0.9066666666666666\n",
      "All scores: [1.         1.         0.83333333 0.83333333 1.         0.8\n",
      " 1.         0.6        1.         1.        ]\n",
      "Average score on 1000 trees RF: 0.9266666666666667\n",
      "All scores: [1.         1.         0.83333333 0.83333333 1.         1.\n",
      " 1.         0.6        1.         1.        ]\n",
      "10-fold cross validation on dataset: day\n",
      "Average score on 500 trees RF: 0.9633333333333335\n",
      "All scores: [0.83333333 1.         1.         1.         1.         1.\n",
      " 1.         1.         1.         0.8       ]\n",
      "Average score on 1000 trees RF: 0.9633333333333335\n",
      "All scores: [0.83333333 1.         1.         1.         1.         1.\n",
      " 1.         1.         1.         0.8       ]\n"
     ]
    }
   ],
   "source": [
    "for name, data in hourly_selected.items():\n",
    "    cross_validate(name, data)"
   ]
  }
 ],
 "metadata": {
  "kernelspec": {
   "display_name": "Python 3",
   "language": "python",
   "name": "python3"
  },
  "language_info": {
   "codemirror_mode": {
    "name": "ipython",
    "version": 3
   },
   "file_extension": ".py",
   "mimetype": "text/x-python",
   "name": "python",
   "nbconvert_exporter": "python",
   "pygments_lexer": "ipython3",
   "version": "3.8.3"
  }
 },
 "nbformat": 4,
 "nbformat_minor": 5
}
