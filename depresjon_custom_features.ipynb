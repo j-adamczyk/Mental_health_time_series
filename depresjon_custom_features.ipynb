{
 "cells": [
  {
   "cell_type": "markdown",
   "id": "f08cefb7",
   "metadata": {},
   "source": [
    "# Depresjon - custom features"
   ]
  },
  {
   "cell_type": "markdown",
   "id": "38559fe8",
   "metadata": {},
   "source": [
    "This notebook aims to get better results than the `depresjon_eda_and_basic_reproduction` one, using alternative hand-crafted features and other algorithms."
   ]
  },
  {
   "cell_type": "markdown",
   "id": "8afc64af",
   "metadata": {},
   "source": [
    "## Libraries"
   ]
  },
  {
   "cell_type": "code",
   "execution_count": 30,
   "id": "8ba953d7",
   "metadata": {},
   "outputs": [],
   "source": [
    "import os\n",
    "from typing import Callable, Tuple, Union\n",
    "\n",
    "import matplotlib.pyplot as plt\n",
    "import numpy as np\n",
    "import pandas as pd\n",
    "import scipy as sp"
   ]
  },
  {
   "cell_type": "markdown",
   "id": "d014d634",
   "metadata": {},
   "source": [
    "## Data loading"
   ]
  },
  {
   "cell_type": "markdown",
   "id": "7aafc181",
   "metadata": {},
   "source": [
    "This part largely follows the `depresjon_eda_and_basic_reproduction` notebook."
   ]
  },
  {
   "cell_type": "code",
   "execution_count": 31,
   "id": "fa9cf4dd",
   "metadata": {},
   "outputs": [],
   "source": [
    "data_dir = \"./depresjon_data\"\n",
    "condition_dir = os.path.join(data_dir, \"condition\")\n",
    "control_dir = os.path.join(data_dir, \"control\")\n",
    "scores_file = os.path.join(data_dir, \"scores.csv\")\n",
    "\n",
    "conditions = [pd.read_csv(os.path.join(condition_dir, filename)) for filename in os.listdir(condition_dir)]\n",
    "controls = [pd.read_csv(os.path.join(control_dir, filename)) for filename in os.listdir(control_dir)]"
   ]
  },
  {
   "cell_type": "code",
   "execution_count": 32,
   "id": "0b6e0151",
   "metadata": {},
   "outputs": [
    {
     "data": {
      "text/html": [
       "<div>\n",
       "<style scoped>\n",
       "    .dataframe tbody tr th:only-of-type {\n",
       "        vertical-align: middle;\n",
       "    }\n",
       "\n",
       "    .dataframe tbody tr th {\n",
       "        vertical-align: top;\n",
       "    }\n",
       "\n",
       "    .dataframe thead th {\n",
       "        text-align: right;\n",
       "    }\n",
       "</style>\n",
       "<table border=\"1\" class=\"dataframe\">\n",
       "  <thead>\n",
       "    <tr style=\"text-align: right;\">\n",
       "      <th></th>\n",
       "      <th>number</th>\n",
       "      <th>days</th>\n",
       "      <th>gender</th>\n",
       "      <th>age</th>\n",
       "      <th>afftype</th>\n",
       "      <th>melanch</th>\n",
       "      <th>inpatient</th>\n",
       "      <th>edu</th>\n",
       "      <th>marriage</th>\n",
       "      <th>work</th>\n",
       "      <th>madrs1</th>\n",
       "      <th>madrs2</th>\n",
       "    </tr>\n",
       "  </thead>\n",
       "  <tbody>\n",
       "    <tr>\n",
       "      <th>0</th>\n",
       "      <td>condition_1</td>\n",
       "      <td>11</td>\n",
       "      <td>2</td>\n",
       "      <td>35-39</td>\n",
       "      <td>2.0</td>\n",
       "      <td>2.0</td>\n",
       "      <td>2.0</td>\n",
       "      <td>6-10</td>\n",
       "      <td>1.0</td>\n",
       "      <td>2.0</td>\n",
       "      <td>19.0</td>\n",
       "      <td>19.0</td>\n",
       "    </tr>\n",
       "    <tr>\n",
       "      <th>1</th>\n",
       "      <td>condition_2</td>\n",
       "      <td>18</td>\n",
       "      <td>2</td>\n",
       "      <td>40-44</td>\n",
       "      <td>1.0</td>\n",
       "      <td>2.0</td>\n",
       "      <td>2.0</td>\n",
       "      <td>6-10</td>\n",
       "      <td>2.0</td>\n",
       "      <td>2.0</td>\n",
       "      <td>24.0</td>\n",
       "      <td>11.0</td>\n",
       "    </tr>\n",
       "    <tr>\n",
       "      <th>2</th>\n",
       "      <td>condition_3</td>\n",
       "      <td>13</td>\n",
       "      <td>1</td>\n",
       "      <td>45-49</td>\n",
       "      <td>2.0</td>\n",
       "      <td>2.0</td>\n",
       "      <td>2.0</td>\n",
       "      <td>6-10</td>\n",
       "      <td>2.0</td>\n",
       "      <td>2.0</td>\n",
       "      <td>24.0</td>\n",
       "      <td>25.0</td>\n",
       "    </tr>\n",
       "    <tr>\n",
       "      <th>3</th>\n",
       "      <td>condition_4</td>\n",
       "      <td>13</td>\n",
       "      <td>2</td>\n",
       "      <td>25-29</td>\n",
       "      <td>2.0</td>\n",
       "      <td>2.0</td>\n",
       "      <td>2.0</td>\n",
       "      <td>11-15</td>\n",
       "      <td>1.0</td>\n",
       "      <td>1.0</td>\n",
       "      <td>20.0</td>\n",
       "      <td>16.0</td>\n",
       "    </tr>\n",
       "    <tr>\n",
       "      <th>4</th>\n",
       "      <td>condition_5</td>\n",
       "      <td>13</td>\n",
       "      <td>2</td>\n",
       "      <td>50-54</td>\n",
       "      <td>2.0</td>\n",
       "      <td>2.0</td>\n",
       "      <td>2.0</td>\n",
       "      <td>11-15</td>\n",
       "      <td>2.0</td>\n",
       "      <td>2.0</td>\n",
       "      <td>26.0</td>\n",
       "      <td>26.0</td>\n",
       "    </tr>\n",
       "  </tbody>\n",
       "</table>\n",
       "</div>"
      ],
      "text/plain": [
       "        number  days  gender    age  afftype  melanch  inpatient    edu  \\\n",
       "0  condition_1    11       2  35-39      2.0      2.0        2.0   6-10   \n",
       "1  condition_2    18       2  40-44      1.0      2.0        2.0   6-10   \n",
       "2  condition_3    13       1  45-49      2.0      2.0        2.0   6-10   \n",
       "3  condition_4    13       2  25-29      2.0      2.0        2.0  11-15   \n",
       "4  condition_5    13       2  50-54      2.0      2.0        2.0  11-15   \n",
       "\n",
       "   marriage  work  madrs1  madrs2  \n",
       "0       1.0   2.0    19.0    19.0  \n",
       "1       2.0   2.0    24.0    11.0  \n",
       "2       2.0   2.0    24.0    25.0  \n",
       "3       1.0   1.0    20.0    16.0  \n",
       "4       2.0   2.0    26.0    26.0  "
      ]
     },
     "execution_count": 32,
     "metadata": {},
     "output_type": "execute_result"
    }
   ],
   "source": [
    "static_data = pd.read_csv(scores_file)\n",
    "static_data.head()"
   ]
  },
  {
   "cell_type": "code",
   "execution_count": 33,
   "id": "6d3bc822",
   "metadata": {},
   "outputs": [],
   "source": [
    "for df in (conditions + controls):\n",
    "    df[\"timestamp\"] = pd.to_datetime(df[\"timestamp\"], format=\"%Y-%m-%d %H:%M:%S\")\n",
    "\n",
    "for df in (conditions + controls):\n",
    "    if \"date\" in df.columns:\n",
    "        df.drop(\"date\", axis=1, inplace=True)"
   ]
  },
  {
   "cell_type": "markdown",
   "id": "85a57ff7",
   "metadata": {},
   "source": [
    "## Feature engineering"
   ]
  },
  {
   "cell_type": "markdown",
   "id": "a9c7ffaf",
   "metadata": {},
   "source": [
    "As my first modification, I throw out the hourly segmentation - we're calculating single number features anyway. All features are calculated directly from all data."
   ]
  },
  {
   "cell_type": "code",
   "execution_count": 34,
   "id": "ac8b214b",
   "metadata": {},
   "outputs": [],
   "source": [
    "from scipy.fft import fft"
   ]
  },
  {
   "cell_type": "code",
   "execution_count": 35,
   "id": "f668eb81",
   "metadata": {},
   "outputs": [],
   "source": [
    "def total_power(df: pd.Series) -> pd.Series:\n",
    "    \"\"\"\n",
    "    Applies FFT and PSD to the input, calculating total power.\n",
    "    \"\"\"\n",
    "    df = df.to_numpy()\n",
    "    df = fft(df)  # returns np.ndarray\n",
    "    df = np.mean(np.square(np.abs(df)))  # PSD\n",
    "    return pd.Series(df)"
   ]
  },
  {
   "cell_type": "code",
   "execution_count": 36,
   "id": "03c39e6e",
   "metadata": {},
   "outputs": [],
   "source": [
    "conditions_time = conditions.copy()\n",
    "controls_time = controls.copy()\n",
    "\n",
    "conditions_freq = conditions.copy()\n",
    "controls_freq = controls.copy()"
   ]
  },
  {
   "cell_type": "markdown",
   "id": "6871988b",
   "metadata": {},
   "source": [
    "Day, night and all dataset division will still be used."
   ]
  },
  {
   "cell_type": "code",
   "execution_count": 37,
   "id": "7de942b8",
   "metadata": {},
   "outputs": [],
   "source": [
    "def get_night_day_division(df: pd.DataFrame) -> Tuple[pd.DataFrame, pd.DataFrame]:\n",
    "    night_df = df.loc[(df[\"timestamp\"].dt.hour >= 21) | (df[\"timestamp\"].dt.hour < 8)]\n",
    "    day_df = df.loc[(df[\"timestamp\"].dt.hour >= 8) & (df[\"timestamp\"].dt.hour < 21)]\n",
    "    return night_df, day_df"
   ]
  },
  {
   "cell_type": "code",
   "execution_count": 38,
   "id": "1cf3f596",
   "metadata": {},
   "outputs": [],
   "source": [
    "conditions_time_night = []\n",
    "conditions_time_day = []\n",
    "\n",
    "controls_time_night = []\n",
    "controls_time_day = []\n",
    "\n",
    "for df in conditions_time:\n",
    "    night_df, day_df = get_night_day_division(df)\n",
    "    conditions_time_night.append(night_df)\n",
    "    conditions_time_day.append(day_df)\n",
    "\n",
    "for df in controls_time:\n",
    "    night_df, day_df = get_night_day_division(df)\n",
    "    controls_time_night.append(night_df)\n",
    "    controls_time_day.append(day_df)"
   ]
  },
  {
   "cell_type": "code",
   "execution_count": 39,
   "id": "33ba8ad6",
   "metadata": {},
   "outputs": [],
   "source": [
    "conditions_freq_night = []\n",
    "conditions_freq_day = []\n",
    "\n",
    "controls_freq_night = []\n",
    "controls_freq_day = []\n",
    "\n",
    "for df in conditions_freq:\n",
    "    night_df, day_df = get_night_day_division(df)\n",
    "    conditions_freq_night.append(night_df)\n",
    "    conditions_freq_day.append(day_df)\n",
    "\n",
    "for df in controls_freq:\n",
    "    night_df, day_df = get_night_day_division(df)\n",
    "    controls_freq_night.append(night_df)\n",
    "    controls_freq_day.append(day_df)"
   ]
  },
  {
   "cell_type": "markdown",
   "id": "8b3d830b",
   "metadata": {},
   "source": [
    "Nothing will be trimmed to the same length - there is no need anyway, since we're calculating single numer aggregates. Reorganizing the variables will be useful, though, and extracting the Numpy arrays."
   ]
  },
  {
   "cell_type": "code",
   "execution_count": 40,
   "id": "c9c84151",
   "metadata": {},
   "outputs": [],
   "source": [
    "conditions_time = {\n",
    "    \"night\": [df[\"activity\"].values for df in conditions_time_night],\n",
    "    \"day\": [df[\"activity\"].values for df in conditions_time_day],\n",
    "    \"all\": [df[\"activity\"].values for df in conditions_time]\n",
    "}\n",
    "\n",
    "controls_time = {\n",
    "    \"night\": [df[\"activity\"].values for df in controls_time_night],\n",
    "    \"day\": [df[\"activity\"].values for df in controls_time_day],\n",
    "    \"all\": [df[\"activity\"].values for df in controls_time]\n",
    "}\n",
    "\n",
    "\n",
    "conditions_freq = {\n",
    "    \"night\": [df[\"activity\"].values for df in conditions_freq_night],\n",
    "    \"day\": [df[\"activity\"].values for df in conditions_freq_day],\n",
    "    \"all\": [df[\"activity\"].values for df in conditions_freq]\n",
    "}\n",
    "\n",
    "controls_freq = {\n",
    "    \"night\": [df[\"activity\"].values for df in controls_freq_night],\n",
    "    \"day\": [df[\"activity\"].values for df in controls_freq_day],\n",
    "    \"all\": [df[\"activity\"].values for df in controls_freq]\n",
    "}"
   ]
  },
  {
   "cell_type": "markdown",
   "id": "b3e93323",
   "metadata": {},
   "source": [
    "I'll still be working on lists of arrays, since lengths for patients are different. This is less pretty in code, but allows usage of more information."
   ]
  },
  {
   "cell_type": "markdown",
   "id": "18c3c1cf",
   "metadata": {},
   "source": [
    "### Time domain"
   ]
  },
  {
   "cell_type": "markdown",
   "id": "666028f9",
   "metadata": {},
   "source": [
    "Time features are extracted in almost the same way as in the article, since those statistical aggregates generally make sense. I also add two features: the 1st and 3rd quartile, and skewness.\n",
    "Interquartile range only tells us about the range of \"medium\" values in between. We can suspect that depressed subjects will have high 1st quartile, especially in the day part, where their average activity is visibly lower (for reference see the paper).\n",
    "There is no particular reason to include skewness for the frequency part only. One could definitely espect a left (negatively) skewed distribution for depressed subjects.\n",
    "\n",
    "Features:\n",
    "- `mean`, `median`, `stddev`, `variance`, `kurtosis`, `minimum`, `maximum` - quite self explanatory statistical features\n",
    "- `coeff_of_var` - coefficient of variation, the ratio of the biased standard deviation to the mean\n",
    "- `iqr` - interquartile range, difference between 75 and 25 percentile (3rd and 1st quartile)\n",
    "- `trimmed_mean` - alternatively truncated mean with 10% trim percentage\n",
    "- `quartile1`, `quartile3` - quartiles, newly added\n",
    "- `skewness` - skewness, newly added\n",
    "\n",
    "Data is saved as a DataFrame, since some machine learning models can provide additional insight when using named columns."
   ]
  },
  {
   "cell_type": "code",
   "execution_count": 41,
   "id": "93f7c24b",
   "metadata": {},
   "outputs": [],
   "source": [
    "from numpy import quantile\n",
    "from scipy.stats import iqr, kurtosis, skew, trim_mean, variation"
   ]
  },
  {
   "cell_type": "code",
   "execution_count": 42,
   "id": "758f330c",
   "metadata": {},
   "outputs": [],
   "source": [
    "def extract_time_features(X: np.ndarray) -> pd.DataFrame:\n",
    "    X = X.astype(np.float64)  # make sure we have the right data type\n",
    "        \n",
    "    features = {\n",
    "        \"mean\": np.mean(X),\n",
    "        \"median\": np.median(X),\n",
    "        \"stddev\": np.std(X, ddof=1),  # (N - 1) for unbiased estimate\n",
    "        \"variance\": np.var(X),\n",
    "        \"kurtosis\": kurtosis(X),\n",
    "        \"coeff_of_var\": variation(X),\n",
    "        \"iqr\": iqr(X),\n",
    "        \"minimum\": np.min(X),\n",
    "        \"maximum\": np.max(X),\n",
    "        \"trimmed_mean\": trim_mean(X, proportiontocut=0.1),\n",
    "        \"quartile1\": quantile(X, 0.25),\n",
    "        \"quartile3\": quantile(X, 0.75),\n",
    "        \"skewness\": skew(X)\n",
    "    }\n",
    "    return features"
   ]
  },
  {
   "cell_type": "code",
   "execution_count": 43,
   "id": "cd63c8ba",
   "metadata": {},
   "outputs": [],
   "source": [
    "conditions_time_features = {}\n",
    "controls_time_features = {}\n",
    "\n",
    "for part in [\"night\", \"day\", \"all\"]:\n",
    "    conditions_time_features[part] = [extract_time_features(arr) for arr in conditions_time[part]]\n",
    "    controls_time_features[part] = [extract_time_features(arr) for arr in controls_time[part]]"
   ]
  },
  {
   "cell_type": "markdown",
   "id": "2f847e77",
   "metadata": {},
   "source": [
    "Now we have dictionaries of features, all of the same length. This means that we can easily create DataFrames from them, and also the target labels vector (it's the same for all 3 cases)."
   ]
  },
  {
   "cell_type": "code",
   "execution_count": 44,
   "id": "a2d65509",
   "metadata": {},
   "outputs": [],
   "source": [
    "X_night_time = pd.DataFrame(conditions_time_features[\"night\"] + controls_time_features[\"night\"])\n",
    "X_day_time = pd.DataFrame(conditions_time_features[\"day\"] + controls_time_features[\"day\"])\n",
    "X_all_time = pd.DataFrame(conditions_time_features[\"all\"] + controls_time_features[\"all\"])\n",
    "\n",
    "y = np.zeros(len(X_night_time))\n",
    "y[:len(conditions_time_features)] = 1"
   ]
  },
  {
   "cell_type": "markdown",
   "id": "1b17aad1",
   "metadata": {},
   "source": [
    "### Frequency domain"
   ]
  },
  {
   "cell_type": "markdown",
   "id": "c31d9ee1",
   "metadata": {},
   "source": [
    "Time features are extracted similarly to the article, but with a few changes:\n",
    "- all of the features that were calculated for time domain, including newly added 1st and 3rd quartile and skewness\n",
    "- entropy\n",
    "- spectral flatness\n",
    "- \"Spectral Density\" has been omitted"
   ]
  },
  {
   "cell_type": "code",
   "execution_count": 45,
   "id": "048871a6",
   "metadata": {},
   "outputs": [],
   "source": [
    "from scipy.stats import entropy"
   ]
  },
  {
   "cell_type": "code",
   "execution_count": 46,
   "id": "63312c9e",
   "metadata": {},
   "outputs": [],
   "source": [
    "def spectral_flatness(X: np.ndarray) -> np.ndarray:    \n",
    "    # normalizing factor for each row: 1/N * sum(x)\n",
    "    norm = X.mean()\n",
    "    if norm == 0:\n",
    "        norm = 1\n",
    "    \n",
    "    X = np.log(X + 1e-20)  # add small number to avoid infinities\n",
    "    X = np.exp(X.mean()) / norm\n",
    "\n",
    "    return X"
   ]
  },
  {
   "cell_type": "code",
   "execution_count": 47,
   "id": "ddd6f959",
   "metadata": {},
   "outputs": [],
   "source": [
    "def extract_freq_features(X: np.ndarray) -> pd.DataFrame:\n",
    "    X = X.astype(np.float64)  # make sure we have the right data type\n",
    "\n",
    "    features = {\n",
    "        \"mean\": np.mean(X),\n",
    "        \"median\": np.median(X),\n",
    "        \"stddev\": np.std(X, ddof=1),  # (N - 1) for unbiased estimate\n",
    "        \"variance\": np.var(X),\n",
    "        \"kurtosis\": kurtosis(X),\n",
    "        \"coeff_of_var\": variation(X),\n",
    "        \"iqr\": iqr(X),\n",
    "        \"minimum\": np.min(X),\n",
    "        \"maximum\": np.max(X),\n",
    "        \"trimmed_mean\": trim_mean(X, proportiontocut=0.1),\n",
    "        \"quartile1\": quantile(X, 0.25),\n",
    "        \"quartile3\": quantile(X, 0.75),\n",
    "        \"skewness\": skew(X),\n",
    "        \"entropy\": entropy(X, base=2),\n",
    "        \"flatness\": spectral_flatness(X)\n",
    "    }\n",
    "    return features"
   ]
  },
  {
   "cell_type": "code",
   "execution_count": 48,
   "id": "f1e99531",
   "metadata": {},
   "outputs": [],
   "source": [
    "conditions_freq_features = {}\n",
    "controls_freq_features = {}\n",
    "\n",
    "for part in [\"night\", \"day\", \"all\"]:\n",
    "    conditions_freq_features[part] = [extract_freq_features(arr) for arr in conditions_freq[part]]\n",
    "    controls_freq_features[part] = [extract_freq_features(arr) for arr in controls_freq[part]]"
   ]
  },
  {
   "cell_type": "code",
   "execution_count": 49,
   "id": "07403ef5",
   "metadata": {},
   "outputs": [],
   "source": [
    "X_night_freq = pd.DataFrame(conditions_freq_features[\"night\"] + controls_freq_features[\"night\"])\n",
    "X_day_freq = pd.DataFrame(conditions_freq_features[\"day\"] + controls_freq_features[\"day\"])\n",
    "X_all_freq = pd.DataFrame(conditions_freq_features[\"all\"] + controls_freq_features[\"all\"])"
   ]
  },
  {
   "cell_type": "markdown",
   "id": "4b5c95f7",
   "metadata": {},
   "source": [
    "Now we can join our training data:"
   ]
  },
  {
   "cell_type": "code",
   "execution_count": 50,
   "id": "d4dbff43",
   "metadata": {},
   "outputs": [],
   "source": [
    "X_night = pd.merge(X_night_time, X_night_freq, \n",
    "                   left_index=True, right_index=True,\n",
    "                   suffixes=[\"_time\", \"_freq\"])\n",
    "\n",
    "X_day = pd.merge(X_day_time, X_day_freq, \n",
    "                 left_index=True, right_index=True,\n",
    "                 suffixes=[\"_time\", \"_freq\"])\n",
    "\n",
    "X_all = pd.merge(X_all_time, X_all_freq, \n",
    "                 left_index=True, right_index=True,\n",
    "                 suffixes=[\"_time\", \"_freq\"])"
   ]
  },
  {
   "cell_type": "markdown",
   "id": "4bba2d91",
   "metadata": {},
   "source": [
    "### Feature standardization"
   ]
  },
  {
   "cell_type": "markdown",
   "id": "e7d80ded",
   "metadata": {},
   "source": [
    "I'll create additional, standardized (i.e. subtracted mean, divided by standard deviation) datasets. This is because some classifiers like SVMs require this."
   ]
  },
  {
   "cell_type": "code",
   "execution_count": 51,
   "id": "fc178646",
   "metadata": {},
   "outputs": [],
   "source": [
    "from sklearn.preprocessing import scale"
   ]
  },
  {
   "cell_type": "code",
   "execution_count": 52,
   "id": "f858a857",
   "metadata": {},
   "outputs": [],
   "source": [
    "X_night_standard = scale(X_night)\n",
    "X_day_standard = scale(X_day)\n",
    "X_all_standard = scale(X_all)"
   ]
  },
  {
   "cell_type": "markdown",
   "id": "dbcedd77",
   "metadata": {},
   "source": [
    "## Feature selection"
   ]
  },
  {
   "cell_type": "markdown",
   "id": "440b2fe2",
   "metadata": {},
   "source": [
    "For selecting best features I decided to use RandomForest with very large number of trees. This explores many interactions between features, different combinations and checks the impact (e.g. reduction in entropy) coming from using them. It's also very fast for medium to large number of features that we have here.\n",
    "\n",
    "Note that class weighting is used, since we mostly care about our depressed subjects and they are the minority class (although the imbalance isn't particularly severe)."
   ]
  },
  {
   "cell_type": "code",
   "execution_count": 53,
   "id": "d279296e",
   "metadata": {},
   "outputs": [],
   "source": [
    "from sklearn.ensemble import RandomForestClassifier"
   ]
  },
  {
   "cell_type": "code",
   "execution_count": 54,
   "id": "a2221214",
   "metadata": {},
   "outputs": [],
   "source": [
    "importances = {}\n",
    "\n",
    "clf = RandomForestClassifier(n_estimators=10000, criterion=\"entropy\", n_jobs=-1, class_weight=\"balanced\", random_state=0)\n",
    "\n",
    "clf.fit(X_night, y)\n",
    "importances[\"night\"] = clf.feature_importances_\n",
    "\n",
    "clf.fit(X_day, y)\n",
    "importances[\"day\"] = clf.feature_importances_\n",
    "\n",
    "clf.fit(X_all, y)\n",
    "importances[\"all\"] = clf.feature_importances_"
   ]
  },
  {
   "cell_type": "markdown",
   "id": "90412260",
   "metadata": {},
   "source": [
    "Results are very interesting, as you can see below - we can definitely reject some of the features. Also some of them performed consistently good, and some performed consistently bad."
   ]
  },
  {
   "cell_type": "code",
   "execution_count": 55,
   "id": "140ad768",
   "metadata": {},
   "outputs": [
    {
     "data": {
      "image/png": "[encoded data removed]",
      "text/plain": [
       "<Figure size 360x432 with 1 Axes>"
      ]
     },
     "metadata": {
      "needs_background": "light"
     },
     "output_type": "display_data"
    }
   ],
   "source": [
    "df = pd.Series(importances[\"night\"], index=X_night.columns)\n",
    "plt.figure(figsize=(5, 6))\n",
    "df.nlargest(len(X_night.columns)).plot(kind=\"barh\")\n",
    "plt.title(\"Feature importances - night\")\n",
    "plt.show()"
   ]
  },
  {
   "cell_type": "markdown",
   "id": "1455cd5f",
   "metadata": {},
   "source": [
    "We have quite a few features here that performed really bad:\n",
    "- `minimum_time`, `minimum_freq` - makes sense, it probably often be 0, when people sleep\n",
    "- 1st quartile features - at night mostly flat activity curves are expected for both groupes\n",
    "- `flatness` - I currently have no special explanation for this\n",
    "- `median_time`, `median_freq` - most common value will probably be just 0 or near zero, just like with the minimum\n",
    "\n",
    "There are also features that performed really well:\n",
    "- `entropy` - perhaps connected to peaks in activity?\n",
    "- `maximum_time`, `maximum_freq` - signifies whether someone had peaks of activity or not (normal, non-depressed people should just sleep)\n",
    "- `kurtosis_time`, `kurtosis_freq` - maybe the depressed patients have more heavy-tailed distributions, e.g. phases with high activity and with next to none activity\n",
    "\n",
    "It should be noted that often features for both time and frequency domain have similar importance. It may be worth checking if unifying the features, e.g. adding entropy to the time domain would improve performance."
   ]
  },
  {
   "cell_type": "code",
   "execution_count": 56,
   "id": "958361c3",
   "metadata": {},
   "outputs": [
    {
     "data": {
      "image/png": "[encoded data removed]",
      "text/plain": [
       "<Figure size 360x432 with 1 Axes>"
      ]
     },
     "metadata": {
      "needs_background": "light"
     },
     "output_type": "display_data"
    }
   ],
   "source": [
    "df = pd.Series(importances[\"day\"], index=X_day.columns)\n",
    "plt.figure(figsize=(5, 6))\n",
    "df.nlargest(len(X_day.columns)).plot(kind=\"barh\")\n",
    "plt.title(\"Feature importances - day\")\n",
    "plt.show()"
   ]
  },
  {
   "cell_type": "markdown",
   "id": "06a8f0c8",
   "metadata": {},
   "source": [
    "Situation during the day is much less clear, which is similar to the conclusion from the paper.\n",
    "\n",
    "The worst features are still minima in both domain, and flatness is next least important one, but is much more relevant than is was during the night.\n",
    "\n",
    "The best features are:\n",
    "- `maximum_time`, `maximum_freq` - makes sense and may show that the depressed patients are not only less active on average, but even taking into account activity peaks\n",
    "- `skewness_time`, `skewness_freq` - tail of the distribution is shown to be important, also adding the skewness to the time domain turns out to be highly beneficial\n",
    "- `kurtosis_time`, `kurtosis_freq` - even more features describing the overall shape of the distribution; it's clear that condition and control groups form vastly different activity distributions"
   ]
  },
  {
   "cell_type": "code",
   "execution_count": 57,
   "id": "8a8b4619",
   "metadata": {},
   "outputs": [
    {
     "data": {
      "image/png": "[encoded data removed]",
      "text/plain": [
       "<Figure size 360x432 with 1 Axes>"
      ]
     },
     "metadata": {
      "needs_background": "light"
     },
     "output_type": "display_data"
    }
   ],
   "source": [
    "df = pd.Series(importances[\"all\"], index=X_all.columns)\n",
    "plt.figure(figsize=(5, 6))\n",
    "df.nlargest(len(X_all.columns)).plot(kind=\"barh\")\n",
    "plt.title(\"Feature importances - all\")\n",
    "plt.show()"
   ]
  },
  {
   "cell_type": "markdown",
   "id": "7cf5f658",
   "metadata": {},
   "source": [
    "When taking into account all features, the situation is a mix of night and day conclusions. The worst features are just like in the night data, while the overall importances (quite high for many features) are similar to the results for day data. \n",
    "\n",
    "Best feature is by far `entropy`, which is calculated only in the frequency domain. With such a high dominance it will be definitely worth checking how will it perform when calculated also for the time domain."
   ]
  },
  {
   "cell_type": "markdown",
   "id": "adb8ba79",
   "metadata": {},
   "source": [
    "## Testing approach"
   ]
  },
  {
   "cell_type": "markdown",
   "id": "665456a1",
   "metadata": {},
   "source": [
    "With only 55 samples and class imbalance (only 23 samples in the condition group) I've decided to not use test set and rely on 4-fold cross validation. While this may definitely be a controversial decision, I believe that with such a low number of samples and relatively high number of features it has to be done. The test set of reasonable size (leaving enough samples for training and validation) would be only 3-4 samples from condition and control groups anyway, which is not large enough to be a reasonable approximation of the generalization error."
   ]
  },
  {
   "cell_type": "code",
   "execution_count": 58,
   "id": "461669cf",
   "metadata": {},
   "outputs": [],
   "source": [
    "from sklearn.model_selection import cross_val_score"
   ]
  },
  {
   "cell_type": "code",
   "execution_count": 59,
   "id": "132359d7",
   "metadata": {},
   "outputs": [],
   "source": [
    "def get_cv_raport(cv_results: np.ndarray) -> None:\n",
    "    result = f\"accuracy: {cv_results.mean():.2f} ± {np.std(cv_results):.2f}, \"\n",
    "    result += f\"min: {cv_results.min():.2f}, \"\n",
    "    result += f\"max: {cv_results.max():.2f}\"\n",
    "    return result"
   ]
  },
  {
   "cell_type": "markdown",
   "id": "5a15a23e",
   "metadata": {},
   "source": [
    "## Random Forest classifier"
   ]
  },
  {
   "cell_type": "code",
   "execution_count": 60,
   "id": "ae5ba998",
   "metadata": {},
   "outputs": [],
   "source": [
    "from sklearn.ensemble import RandomForestClassifier"
   ]
  },
  {
   "cell_type": "code",
   "execution_count": 61,
   "id": "40ef1b62",
   "metadata": {},
   "outputs": [],
   "source": [
    "clf = RandomForestClassifier(n_estimators=1000, n_jobs=-1, class_weight=\"balanced\", random_state=0)\n",
    "cv_scores = cross_val_score(clf, X_night, y, scoring=\"accuracy\", cv=3, n_jobs=-1)"
   ]
  },
  {
   "cell_type": "code",
   "execution_count": 62,
   "id": "18cd562b",
   "metadata": {},
   "outputs": [
    {
     "name": "stdout",
     "output_type": "stream",
     "text": [
      "accuracy: 0.95 ± 0.00, min: 0.94, max: 0.95\n"
     ]
    }
   ],
   "source": [
    "print(get_cv_raport(cv_scores))"
   ]
  },
  {
   "cell_type": "code",
   "execution_count": null,
   "id": "5923f0eb",
   "metadata": {},
   "outputs": [],
   "source": []
  }
 ],
 "metadata": {
  "kernelspec": {
   "display_name": "Python 3",
   "language": "python",
   "name": "python3"
  },
  "language_info": {
   "codemirror_mode": {
    "name": "ipython",
    "version": 3
   },
   "file_extension": ".py",
   "mimetype": "text/x-python",
   "name": "python",
   "nbconvert_exporter": "python",
   "pygments_lexer": "ipython3",
   "version": "3.8.3"
  }
 },
 "nbformat": 4,
 "nbformat_minor": 5
}
