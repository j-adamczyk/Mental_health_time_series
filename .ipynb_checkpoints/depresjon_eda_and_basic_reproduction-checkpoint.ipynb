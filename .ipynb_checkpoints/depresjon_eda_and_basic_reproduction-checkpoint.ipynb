{
 "cells": [
  {
   "cell_type": "markdown",
   "id": "aa2daac9",
   "metadata": {},
   "source": [
    "# Depresjon - basic feature engineering"
   ]
  },
  {
   "cell_type": "markdown",
   "id": "2269e71f",
   "metadata": {},
   "source": [
    "This notebook aims to recreate feature engineering for Depresjon dataset from paper \"Comparison of Night, Day and 24 h Motor Activity Data for the Classification of Depressive Episodes\"."
   ]
  },
  {
   "cell_type": "markdown",
   "id": "b982c2dd",
   "metadata": {},
   "source": [
    "## Libraries"
   ]
  },
  {
   "cell_type": "code",
   "execution_count": 1,
   "id": "366cf065",
   "metadata": {},
   "outputs": [
    {
     "name": "stderr",
     "output_type": "stream",
     "text": [
      "Q:\\ProgramData\\Miniconda3\\lib\\site-packages\\numpy\\_distributor_init.py:30: UserWarning: loaded more than 1 DLL from .libs:\n",
      "Q:\\ProgramData\\Miniconda3\\lib\\site-packages\\numpy\\.libs\\libopenblas.NOIJJG62EMASZI6NYURL6JBKM4EVBGM7.gfortran-win_amd64.dll\n",
      "Q:\\ProgramData\\Miniconda3\\lib\\site-packages\\numpy\\.libs\\libopenblas.PYQHXLVVQ7VESDPUVUADXEVJOBGHJPAY.gfortran-win_amd64.dll\n",
      "  warnings.warn(\"loaded more than 1 DLL from .libs:\\n%s\" %\n"
     ]
    }
   ],
   "source": [
    "import os\n",
    "from typing import Callable, Tuple, Union\n",
    "\n",
    "import matplotlib.pyplot as plt\n",
    "import numpy as np\n",
    "import pandas as pd\n",
    "import scipy as sp"
   ]
  },
  {
   "cell_type": "markdown",
   "id": "aabbe740",
   "metadata": {},
   "source": [
    "## Data loading"
   ]
  },
  {
   "cell_type": "markdown",
   "id": "d8efb19c",
   "metadata": {},
   "source": [
    "First, we have to load the data."
   ]
  },
  {
   "cell_type": "code",
   "execution_count": 2,
   "id": "039d27d6",
   "metadata": {},
   "outputs": [],
   "source": [
    "data_dir = \"./depresjon_data\"\n",
    "condition_dir = os.path.join(data_dir, \"condition\")\n",
    "control_dir = os.path.join(data_dir, \"control\")\n",
    "scores_file = os.path.join(data_dir, \"scores.csv\")"
   ]
  },
  {
   "cell_type": "markdown",
   "id": "1e77f962",
   "metadata": {},
   "source": [
    "`condition` and `control` directories contain CSV files with measurements, one file per person. For example, `condition_1.csv` contains measurements for patient 1 diagnosed with depression.\n",
    "\n",
    "Those files are read into a list of dataframes, since this makes them easy to process later."
   ]
  },
  {
   "cell_type": "code",
   "execution_count": 3,
   "id": "2495ea65",
   "metadata": {},
   "outputs": [],
   "source": [
    "conditions = [pd.read_csv(os.path.join(condition_dir, filename)) for filename in os.listdir(condition_dir)]\n",
    "controls = [pd.read_csv(os.path.join(control_dir, filename)) for filename in os.listdir(control_dir)]"
   ]
  },
  {
   "cell_type": "code",
   "execution_count": 4,
   "id": "fbe871db",
   "metadata": {},
   "outputs": [
    {
     "data": {
      "text/html": [
       "<div>\n",
       "<style scoped>\n",
       "    .dataframe tbody tr th:only-of-type {\n",
       "        vertical-align: middle;\n",
       "    }\n",
       "\n",
       "    .dataframe tbody tr th {\n",
       "        vertical-align: top;\n",
       "    }\n",
       "\n",
       "    .dataframe thead th {\n",
       "        text-align: right;\n",
       "    }\n",
       "</style>\n",
       "<table border=\"1\" class=\"dataframe\">\n",
       "  <thead>\n",
       "    <tr style=\"text-align: right;\">\n",
       "      <th></th>\n",
       "      <th>timestamp</th>\n",
       "      <th>date</th>\n",
       "      <th>activity</th>\n",
       "    </tr>\n",
       "  </thead>\n",
       "  <tbody>\n",
       "    <tr>\n",
       "      <th>0</th>\n",
       "      <td>2003-05-07 12:00:00</td>\n",
       "      <td>2003-05-07</td>\n",
       "      <td>0</td>\n",
       "    </tr>\n",
       "    <tr>\n",
       "      <th>1</th>\n",
       "      <td>2003-05-07 12:01:00</td>\n",
       "      <td>2003-05-07</td>\n",
       "      <td>143</td>\n",
       "    </tr>\n",
       "    <tr>\n",
       "      <th>2</th>\n",
       "      <td>2003-05-07 12:02:00</td>\n",
       "      <td>2003-05-07</td>\n",
       "      <td>0</td>\n",
       "    </tr>\n",
       "    <tr>\n",
       "      <th>3</th>\n",
       "      <td>2003-05-07 12:03:00</td>\n",
       "      <td>2003-05-07</td>\n",
       "      <td>20</td>\n",
       "    </tr>\n",
       "    <tr>\n",
       "      <th>4</th>\n",
       "      <td>2003-05-07 12:04:00</td>\n",
       "      <td>2003-05-07</td>\n",
       "      <td>166</td>\n",
       "    </tr>\n",
       "  </tbody>\n",
       "</table>\n",
       "</div>"
      ],
      "text/plain": [
       "             timestamp        date  activity\n",
       "0  2003-05-07 12:00:00  2003-05-07         0\n",
       "1  2003-05-07 12:01:00  2003-05-07       143\n",
       "2  2003-05-07 12:02:00  2003-05-07         0\n",
       "3  2003-05-07 12:03:00  2003-05-07        20\n",
       "4  2003-05-07 12:04:00  2003-05-07       166"
      ]
     },
     "execution_count": 4,
     "metadata": {},
     "output_type": "execute_result"
    }
   ],
   "source": [
    "conditions[0].head()"
   ]
  },
  {
   "cell_type": "markdown",
   "id": "f1b2fc73",
   "metadata": {},
   "source": [
    "The `scores.csv` file contains static information about patients."
   ]
  },
  {
   "cell_type": "code",
   "execution_count": 5,
   "id": "98aa5cd6",
   "metadata": {},
   "outputs": [
    {
     "data": {
      "text/html": [
       "<div>\n",
       "<style scoped>\n",
       "    .dataframe tbody tr th:only-of-type {\n",
       "        vertical-align: middle;\n",
       "    }\n",
       "\n",
       "    .dataframe tbody tr th {\n",
       "        vertical-align: top;\n",
       "    }\n",
       "\n",
       "    .dataframe thead th {\n",
       "        text-align: right;\n",
       "    }\n",
       "</style>\n",
       "<table border=\"1\" class=\"dataframe\">\n",
       "  <thead>\n",
       "    <tr style=\"text-align: right;\">\n",
       "      <th></th>\n",
       "      <th>number</th>\n",
       "      <th>days</th>\n",
       "      <th>gender</th>\n",
       "      <th>age</th>\n",
       "      <th>afftype</th>\n",
       "      <th>melanch</th>\n",
       "      <th>inpatient</th>\n",
       "      <th>edu</th>\n",
       "      <th>marriage</th>\n",
       "      <th>work</th>\n",
       "      <th>madrs1</th>\n",
       "      <th>madrs2</th>\n",
       "    </tr>\n",
       "  </thead>\n",
       "  <tbody>\n",
       "    <tr>\n",
       "      <th>0</th>\n",
       "      <td>condition_1</td>\n",
       "      <td>11</td>\n",
       "      <td>2</td>\n",
       "      <td>35-39</td>\n",
       "      <td>2.0</td>\n",
       "      <td>2.0</td>\n",
       "      <td>2.0</td>\n",
       "      <td>6-10</td>\n",
       "      <td>1.0</td>\n",
       "      <td>2.0</td>\n",
       "      <td>19.0</td>\n",
       "      <td>19.0</td>\n",
       "    </tr>\n",
       "    <tr>\n",
       "      <th>1</th>\n",
       "      <td>condition_2</td>\n",
       "      <td>18</td>\n",
       "      <td>2</td>\n",
       "      <td>40-44</td>\n",
       "      <td>1.0</td>\n",
       "      <td>2.0</td>\n",
       "      <td>2.0</td>\n",
       "      <td>6-10</td>\n",
       "      <td>2.0</td>\n",
       "      <td>2.0</td>\n",
       "      <td>24.0</td>\n",
       "      <td>11.0</td>\n",
       "    </tr>\n",
       "    <tr>\n",
       "      <th>2</th>\n",
       "      <td>condition_3</td>\n",
       "      <td>13</td>\n",
       "      <td>1</td>\n",
       "      <td>45-49</td>\n",
       "      <td>2.0</td>\n",
       "      <td>2.0</td>\n",
       "      <td>2.0</td>\n",
       "      <td>6-10</td>\n",
       "      <td>2.0</td>\n",
       "      <td>2.0</td>\n",
       "      <td>24.0</td>\n",
       "      <td>25.0</td>\n",
       "    </tr>\n",
       "    <tr>\n",
       "      <th>3</th>\n",
       "      <td>condition_4</td>\n",
       "      <td>13</td>\n",
       "      <td>2</td>\n",
       "      <td>25-29</td>\n",
       "      <td>2.0</td>\n",
       "      <td>2.0</td>\n",
       "      <td>2.0</td>\n",
       "      <td>11-15</td>\n",
       "      <td>1.0</td>\n",
       "      <td>1.0</td>\n",
       "      <td>20.0</td>\n",
       "      <td>16.0</td>\n",
       "    </tr>\n",
       "    <tr>\n",
       "      <th>4</th>\n",
       "      <td>condition_5</td>\n",
       "      <td>13</td>\n",
       "      <td>2</td>\n",
       "      <td>50-54</td>\n",
       "      <td>2.0</td>\n",
       "      <td>2.0</td>\n",
       "      <td>2.0</td>\n",
       "      <td>11-15</td>\n",
       "      <td>2.0</td>\n",
       "      <td>2.0</td>\n",
       "      <td>26.0</td>\n",
       "      <td>26.0</td>\n",
       "    </tr>\n",
       "  </tbody>\n",
       "</table>\n",
       "</div>"
      ],
      "text/plain": [
       "        number  days  gender    age  afftype  melanch  inpatient    edu  \\\n",
       "0  condition_1    11       2  35-39      2.0      2.0        2.0   6-10   \n",
       "1  condition_2    18       2  40-44      1.0      2.0        2.0   6-10   \n",
       "2  condition_3    13       1  45-49      2.0      2.0        2.0   6-10   \n",
       "3  condition_4    13       2  25-29      2.0      2.0        2.0  11-15   \n",
       "4  condition_5    13       2  50-54      2.0      2.0        2.0  11-15   \n",
       "\n",
       "   marriage  work  madrs1  madrs2  \n",
       "0       1.0   2.0    19.0    19.0  \n",
       "1       2.0   2.0    24.0    11.0  \n",
       "2       2.0   2.0    24.0    25.0  \n",
       "3       1.0   1.0    20.0    16.0  \n",
       "4       2.0   2.0    26.0    26.0  "
      ]
     },
     "execution_count": 5,
     "metadata": {},
     "output_type": "execute_result"
    }
   ],
   "source": [
    "static_data = pd.read_csv(scores_file)\n",
    "static_data.head()"
   ]
  },
  {
   "cell_type": "markdown",
   "id": "ab287422",
   "metadata": {},
   "source": [
    "## Exploratory data analysis"
   ]
  },
  {
   "cell_type": "markdown",
   "id": "ed64881d",
   "metadata": {},
   "source": [
    "We have the data loaded, now we can explore it: check number of measurements, number of columns, their types, missing values etc. First the data for time series will be checked, then for the static data."
   ]
  },
  {
   "cell_type": "markdown",
   "id": "90344d0d",
   "metadata": {},
   "source": [
    "### Number of patients"
   ]
  },
  {
   "cell_type": "code",
   "execution_count": 6,
   "id": "e7d761e5",
   "metadata": {},
   "outputs": [
    {
     "name": "stdout",
     "output_type": "stream",
     "text": [
      "Condition number: 23\n",
      "Control number: 32\n"
     ]
    },
    {
     "data": {
      "image/png": "[encoded data removed]",
      "text/plain": [
       "<Figure size 432x288 with 1 Axes>"
      ]
     },
     "metadata": {
      "needs_background": "light"
     },
     "output_type": "display_data"
    }
   ],
   "source": [
    "xs = [\"Condition\", \"Control\"]\n",
    "ys = [len(conditions), len(controls)]\n",
    "\n",
    "print(f\"Condition number: {len(conditions)}\")\n",
    "print(f\"Control number: {len(controls)}\")\n",
    "\n",
    "plt.bar(xs, ys)\n",
    "plt.xlabel(\"Group\")\n",
    "plt.ylabel(\"Patients\")\n",
    "plt.title(\"Number of patients per group\")\n",
    "plt.show()"
   ]
  },
  {
   "cell_type": "markdown",
   "id": "595051bb",
   "metadata": {},
   "source": [
    "We definitely have quite heavy imbalance, the control group being about 50% larger than the condition group. This influences many metrics and should be taken into consideration."
   ]
  },
  {
   "cell_type": "markdown",
   "id": "8ee4cec4",
   "metadata": {},
   "source": [
    "### Measurements number"
   ]
  },
  {
   "cell_type": "code",
   "execution_count": 7,
   "id": "b41d4498",
   "metadata": {},
   "outputs": [
    {
     "data": {
      "text/plain": [
       "count       23.000000\n",
       "mean     23987.652174\n",
       "std       5748.966513\n",
       "min      19299.000000\n",
       "25%      21463.000000\n",
       "50%      21648.000000\n",
       "75%      23117.000000\n",
       "max      41847.000000\n",
       "dtype: float64"
      ]
     },
     "execution_count": 7,
     "metadata": {},
     "output_type": "execute_result"
    }
   ],
   "source": [
    "condition_rows = pd.Series([len(df) for df in conditions])\n",
    "condition_rows.describe()"
   ]
  },
  {
   "cell_type": "code",
   "execution_count": 8,
   "id": "a4d16330",
   "metadata": {},
   "outputs": [
    {
     "data": {
      "text/plain": [
       "count       32.000000\n",
       "mean     31874.687500\n",
       "std      12228.922745\n",
       "min      20490.000000\n",
       "25%      22258.500000\n",
       "50%      28257.000000\n",
       "75%      33683.000000\n",
       "max      65407.000000\n",
       "dtype: float64"
      ]
     },
     "execution_count": 8,
     "metadata": {},
     "output_type": "execute_result"
    }
   ],
   "source": [
    "control_rows = pd.Series([len(df) for df in controls])\n",
    "control_rows.describe()"
   ]
  },
  {
   "cell_type": "markdown",
   "id": "8acb22b1",
   "metadata": {},
   "source": [
    "We have greatly varying number of measurements for both condition and control group. In general measurements for control group are longer, but also more varied (both mean and standard deviation are higher). For fair assessment, where each patient gets the same chance to influence the model, the measurements should be of equal length for all cases. However, for calculating aggregations (e.g. mean / median value) this may not be necessary, since they typically reduce the data to a single number."
   ]
  },
  {
   "cell_type": "markdown",
   "id": "5c73b98b",
   "metadata": {},
   "source": [
    "### Columns and types"
   ]
  },
  {
   "cell_type": "code",
   "execution_count": 9,
   "id": "ceef5816",
   "metadata": {},
   "outputs": [
    {
     "data": {
      "text/html": [
       "<div>\n",
       "<style scoped>\n",
       "    .dataframe tbody tr th:only-of-type {\n",
       "        vertical-align: middle;\n",
       "    }\n",
       "\n",
       "    .dataframe tbody tr th {\n",
       "        vertical-align: top;\n",
       "    }\n",
       "\n",
       "    .dataframe thead th {\n",
       "        text-align: right;\n",
       "    }\n",
       "</style>\n",
       "<table border=\"1\" class=\"dataframe\">\n",
       "  <thead>\n",
       "    <tr style=\"text-align: right;\">\n",
       "      <th></th>\n",
       "      <th>timestamp</th>\n",
       "      <th>date</th>\n",
       "      <th>activity</th>\n",
       "    </tr>\n",
       "  </thead>\n",
       "  <tbody>\n",
       "    <tr>\n",
       "      <th>0</th>\n",
       "      <td>2003-05-07 12:00:00</td>\n",
       "      <td>2003-05-07</td>\n",
       "      <td>0</td>\n",
       "    </tr>\n",
       "    <tr>\n",
       "      <th>1</th>\n",
       "      <td>2003-05-07 12:01:00</td>\n",
       "      <td>2003-05-07</td>\n",
       "      <td>143</td>\n",
       "    </tr>\n",
       "    <tr>\n",
       "      <th>2</th>\n",
       "      <td>2003-05-07 12:02:00</td>\n",
       "      <td>2003-05-07</td>\n",
       "      <td>0</td>\n",
       "    </tr>\n",
       "    <tr>\n",
       "      <th>3</th>\n",
       "      <td>2003-05-07 12:03:00</td>\n",
       "      <td>2003-05-07</td>\n",
       "      <td>20</td>\n",
       "    </tr>\n",
       "    <tr>\n",
       "      <th>4</th>\n",
       "      <td>2003-05-07 12:04:00</td>\n",
       "      <td>2003-05-07</td>\n",
       "      <td>166</td>\n",
       "    </tr>\n",
       "  </tbody>\n",
       "</table>\n",
       "</div>"
      ],
      "text/plain": [
       "             timestamp        date  activity\n",
       "0  2003-05-07 12:00:00  2003-05-07         0\n",
       "1  2003-05-07 12:01:00  2003-05-07       143\n",
       "2  2003-05-07 12:02:00  2003-05-07         0\n",
       "3  2003-05-07 12:03:00  2003-05-07        20\n",
       "4  2003-05-07 12:04:00  2003-05-07       166"
      ]
     },
     "execution_count": 9,
     "metadata": {},
     "output_type": "execute_result"
    }
   ],
   "source": [
    "conditions[0].head()"
   ]
  },
  {
   "cell_type": "code",
   "execution_count": 10,
   "id": "03980428",
   "metadata": {},
   "outputs": [
    {
     "data": {
      "text/plain": [
       "timestamp    object\n",
       "date         object\n",
       "activity      int64\n",
       "dtype: object"
      ]
     },
     "execution_count": 10,
     "metadata": {},
     "output_type": "execute_result"
    }
   ],
   "source": [
    "conditions[0].dtypes"
   ]
  },
  {
   "cell_type": "markdown",
   "id": "fe874871",
   "metadata": {},
   "source": [
    "For measurement files we have 3 columns:\n",
    "- timestamp with precise measurement date and time, with 1 minute measurement resolution\n",
    "- date, information already included in the timestamp\n",
    "- activity, the time series value\n",
    "\n",
    "Data types of columns are definitely wrong - `timestamp` should be a proper timestamp and the `date` column is redundant. This will be fixed in the preprocessing section."
   ]
  },
  {
   "cell_type": "markdown",
   "id": "e5e2fabc",
   "metadata": {},
   "source": [
    "### Missing values"
   ]
  },
  {
   "cell_type": "code",
   "execution_count": 11,
   "id": "f3310eb4",
   "metadata": {},
   "outputs": [
    {
     "data": {
      "text/plain": [
       "0.0"
      ]
     },
     "execution_count": 11,
     "metadata": {},
     "output_type": "execute_result"
    }
   ],
   "source": [
    "condition_NaNs = pd.Series([df[\"activity\"].isna().sum() for df in conditions])\n",
    "condition_NaNs.mean()"
   ]
  },
  {
   "cell_type": "code",
   "execution_count": 12,
   "id": "593f19ea",
   "metadata": {},
   "outputs": [
    {
     "data": {
      "text/plain": [
       "0.0"
      ]
     },
     "execution_count": 12,
     "metadata": {},
     "output_type": "execute_result"
    }
   ],
   "source": [
    "control_NaNs = pd.Series([df[\"activity\"].isna().sum() for df in controls])\n",
    "control_NaNs.mean()"
   ]
  },
  {
   "cell_type": "markdown",
   "id": "5b3e4b33",
   "metadata": {},
   "source": [
    "We have exactly 0 missing values for the dependent variable, activity. This means that the data was accurately gathered for all patients for the entire duration of measurement period."
   ]
  },
  {
   "cell_type": "markdown",
   "id": "e4e19cbe",
   "metadata": {},
   "source": [
    "### Statis data"
   ]
  },
  {
   "cell_type": "code",
   "execution_count": 13,
   "id": "4fcd7379",
   "metadata": {},
   "outputs": [
    {
     "data": {
      "text/html": [
       "<div>\n",
       "<style scoped>\n",
       "    .dataframe tbody tr th:only-of-type {\n",
       "        vertical-align: middle;\n",
       "    }\n",
       "\n",
       "    .dataframe tbody tr th {\n",
       "        vertical-align: top;\n",
       "    }\n",
       "\n",
       "    .dataframe thead th {\n",
       "        text-align: right;\n",
       "    }\n",
       "</style>\n",
       "<table border=\"1\" class=\"dataframe\">\n",
       "  <thead>\n",
       "    <tr style=\"text-align: right;\">\n",
       "      <th></th>\n",
       "      <th>number</th>\n",
       "      <th>days</th>\n",
       "      <th>gender</th>\n",
       "      <th>age</th>\n",
       "      <th>afftype</th>\n",
       "      <th>melanch</th>\n",
       "      <th>inpatient</th>\n",
       "      <th>edu</th>\n",
       "      <th>marriage</th>\n",
       "      <th>work</th>\n",
       "      <th>madrs1</th>\n",
       "      <th>madrs2</th>\n",
       "    </tr>\n",
       "  </thead>\n",
       "  <tbody>\n",
       "    <tr>\n",
       "      <th>0</th>\n",
       "      <td>condition_1</td>\n",
       "      <td>11</td>\n",
       "      <td>2</td>\n",
       "      <td>35-39</td>\n",
       "      <td>2.0</td>\n",
       "      <td>2.0</td>\n",
       "      <td>2.0</td>\n",
       "      <td>6-10</td>\n",
       "      <td>1.0</td>\n",
       "      <td>2.0</td>\n",
       "      <td>19.0</td>\n",
       "      <td>19.0</td>\n",
       "    </tr>\n",
       "    <tr>\n",
       "      <th>1</th>\n",
       "      <td>condition_2</td>\n",
       "      <td>18</td>\n",
       "      <td>2</td>\n",
       "      <td>40-44</td>\n",
       "      <td>1.0</td>\n",
       "      <td>2.0</td>\n",
       "      <td>2.0</td>\n",
       "      <td>6-10</td>\n",
       "      <td>2.0</td>\n",
       "      <td>2.0</td>\n",
       "      <td>24.0</td>\n",
       "      <td>11.0</td>\n",
       "    </tr>\n",
       "    <tr>\n",
       "      <th>2</th>\n",
       "      <td>condition_3</td>\n",
       "      <td>13</td>\n",
       "      <td>1</td>\n",
       "      <td>45-49</td>\n",
       "      <td>2.0</td>\n",
       "      <td>2.0</td>\n",
       "      <td>2.0</td>\n",
       "      <td>6-10</td>\n",
       "      <td>2.0</td>\n",
       "      <td>2.0</td>\n",
       "      <td>24.0</td>\n",
       "      <td>25.0</td>\n",
       "    </tr>\n",
       "    <tr>\n",
       "      <th>3</th>\n",
       "      <td>condition_4</td>\n",
       "      <td>13</td>\n",
       "      <td>2</td>\n",
       "      <td>25-29</td>\n",
       "      <td>2.0</td>\n",
       "      <td>2.0</td>\n",
       "      <td>2.0</td>\n",
       "      <td>11-15</td>\n",
       "      <td>1.0</td>\n",
       "      <td>1.0</td>\n",
       "      <td>20.0</td>\n",
       "      <td>16.0</td>\n",
       "    </tr>\n",
       "    <tr>\n",
       "      <th>4</th>\n",
       "      <td>condition_5</td>\n",
       "      <td>13</td>\n",
       "      <td>2</td>\n",
       "      <td>50-54</td>\n",
       "      <td>2.0</td>\n",
       "      <td>2.0</td>\n",
       "      <td>2.0</td>\n",
       "      <td>11-15</td>\n",
       "      <td>2.0</td>\n",
       "      <td>2.0</td>\n",
       "      <td>26.0</td>\n",
       "      <td>26.0</td>\n",
       "    </tr>\n",
       "  </tbody>\n",
       "</table>\n",
       "</div>"
      ],
      "text/plain": [
       "        number  days  gender    age  afftype  melanch  inpatient    edu  \\\n",
       "0  condition_1    11       2  35-39      2.0      2.0        2.0   6-10   \n",
       "1  condition_2    18       2  40-44      1.0      2.0        2.0   6-10   \n",
       "2  condition_3    13       1  45-49      2.0      2.0        2.0   6-10   \n",
       "3  condition_4    13       2  25-29      2.0      2.0        2.0  11-15   \n",
       "4  condition_5    13       2  50-54      2.0      2.0        2.0  11-15   \n",
       "\n",
       "   marriage  work  madrs1  madrs2  \n",
       "0       1.0   2.0    19.0    19.0  \n",
       "1       2.0   2.0    24.0    11.0  \n",
       "2       2.0   2.0    24.0    25.0  \n",
       "3       1.0   1.0    20.0    16.0  \n",
       "4       2.0   2.0    26.0    26.0  "
      ]
     },
     "execution_count": 13,
     "metadata": {},
     "output_type": "execute_result"
    }
   ],
   "source": [
    "static_data.head()"
   ]
  },
  {
   "cell_type": "code",
   "execution_count": 14,
   "id": "76a15176",
   "metadata": {},
   "outputs": [
    {
     "data": {
      "text/plain": [
       "number        object\n",
       "days           int64\n",
       "gender         int64\n",
       "age           object\n",
       "afftype      float64\n",
       "melanch      float64\n",
       "inpatient    float64\n",
       "edu           object\n",
       "marriage     float64\n",
       "work         float64\n",
       "madrs1       float64\n",
       "madrs2       float64\n",
       "dtype: object"
      ]
     },
     "execution_count": 14,
     "metadata": {},
     "output_type": "execute_result"
    }
   ],
   "source": [
    "static_data.dtypes"
   ]
  },
  {
   "cell_type": "code",
   "execution_count": 15,
   "id": "0778bf0b",
   "metadata": {},
   "outputs": [
    {
     "name": "stdout",
     "output_type": "stream",
     "text": [
      "number ['condition_1' 'condition_2' 'condition_3' 'condition_4' 'condition_5'\n",
      " 'condition_6' 'condition_7' 'condition_8' 'condition_9' 'condition_10'\n",
      " 'condition_11' 'condition_12' 'condition_13' 'condition_14'\n",
      " 'condition_15' 'condition_16' 'condition_17' 'condition_18'\n",
      " 'condition_19' 'condition_20' 'condition_21' 'condition_22'\n",
      " 'condition_23' 'control_1' 'control_2' 'control_3' 'control_4'\n",
      " 'control_5' 'control_6' 'control_7' 'control_8' 'control_9' 'control_10'\n",
      " 'control_11' 'control_12' 'control_13' 'control_14' 'control_15'\n",
      " 'control_16' 'control_17' 'control_18' 'control_19' 'control_20'\n",
      " 'control_21' 'control_22' 'control_23' 'control_24' 'control_25'\n",
      " 'control_26' 'control_27' 'control_28' 'control_29' 'control_30'\n",
      " 'control_31' 'control_32']\n",
      "days [11 18 13  7  5  9 14 12 16  8 20]\n",
      "gender [2 1]\n",
      "age ['35-39' '40-44' '45-49' '25-29' '50-54' '20-24' '60-64' '55-59' '30-34'\n",
      " '65-69']\n",
      "afftype [ 2.  1.  3. nan]\n",
      "melanch [ 2. nan  1.]\n",
      "inpatient [ 2.  1. nan]\n",
      "edu ['6-10' '11-15' '16-20' ' ' nan]\n",
      "marriage [ 1.  2. nan]\n",
      "work [ 2.  1. nan]\n",
      "madrs1 [19. 24. 20. 26. 18. 28. 25. 14. 13. 17. 27. 29. nan]\n",
      "madrs2 [19. 11. 25. 16. 26. 15. 21. 24. 13. 18. 17. 28. 23. nan]\n"
     ]
    }
   ],
   "source": [
    "for col in static_data.columns:\n",
    "    print(col, static_data[col].unique())"
   ]
  },
  {
   "cell_type": "markdown",
   "id": "f3e3cb6e",
   "metadata": {},
   "source": [
    "Observations:\n",
    "- all data types seem correct\n",
    "- `number` is essentially an index for patients and should not be used as a feature\n",
    "- `days` indicate the number of data collection days, but this information is already included in the time series timestamps\n",
    "- `gender` is correct, but doesn't follow the usual convention of 0-1 values for binary features\n",
    "- `age` should be preprocessed to integers (e.g. `0` for <50 years, `1` for >= 50 years) for classification\n",
    "- `afftype` and `melanch` indicate the clinical state observations for depressed patients and are NaN for non-depressed controls\n",
    "- `edu`, `marriage` and `work` explain socioeconomic status of the patient\n",
    "- `madrs1` and `madrs2` are MADRS score for patients with condition at the beginning and at the end of measurements; they are not used for classification, but they could be used as regression targets"
   ]
  },
  {
   "cell_type": "markdown",
   "id": "c5e7ba4c",
   "metadata": {},
   "source": [
    "## Feature engineering"
   ]
  },
  {
   "cell_type": "markdown",
   "id": "17cc6787",
   "metadata": {},
   "source": [
    "In the paper several steps of feature engineering are introduced. They need to be performed, as the typical models for tabular data like Random Forest are used. This approach allows usage of classical ML algorithms on time series data, while also indirectly incorporating time dependencies in form of features derived from the signal."
   ]
  },
  {
   "cell_type": "markdown",
   "id": "a79b290a",
   "metadata": {},
   "source": [
    "### Preprocessing"
   ]
  },
  {
   "cell_type": "markdown",
   "id": "a1153f2c",
   "metadata": {},
   "source": [
    "**Warning 1**: I've found out that the paper is actually inconsistent in what it says and does in the preprocessing. It states that:\n",
    "\"For the pre-processing stage, the next step are proposed. Since the total amount of data recorded for each subject is different, a new subset of data is extracted, adjusting the number of observations to be equal for each subject. Theh, from the new set of data, a segmentation is applied to form one hour data intervals. This segmentation allowed the classification of depressive episodes per hour.\n",
    "\n",
    "Therefore, based on the hourly segmentation, three different subsets are constructed; night motor activity (from 21 to 7 h taking into account the sunrise standard hours) [21], day motor activity (from 8 to 20 h) and finally all day motor activity with the total day hours. The number of observations contained in each dataset is shown in Table 1. After separated the data into day, night and 24 h data were cleaned from missing data.\"\n",
    "\n",
    "According to this, we should:\n",
    "- trim observations to the length of the shortest one, forming \"new set of data\" with same number of observations per subject\n",
    "- segment into 1-hour intervals, calculating average activity\n",
    "- create night dataset, day dataset and dataset with all observations\n",
    "\n",
    "According to the paper, they got the following number of hourly observations:\n",
    "- day: 14168\n",
    "- night: 11945\n",
    "- full data: 26113\n",
    "\n",
    "But this number is wrong. This is approximately the number of raw observations in the dataset, not number of hour segments. In addition, to make sure that night and day data has the same length, it should be trimmed to the same length after splitting. Corrected process:\n",
    "- segment data for each patient into 1-hour intervals, calculating average activity\n",
    "- create night dataset, day dataset and dataset with all observations\n",
    "- trim observations in each dataset to the length of the shortest one\n",
    "\n",
    "This way, we arrive at the following sequences lengths:\n",
    "- day: 9845\n",
    "- night: 7865\n",
    "- full data: 17710"
   ]
  },
  {
   "cell_type": "markdown",
   "id": "e854178e",
   "metadata": {},
   "source": [
    "**Warning 2:** it's not precisely specified how the features in the frequency domain are calculated. We assume that:\n",
    "1) We group samples from the same hour (in time domain)\n",
    "2) Calculate FFT for each hour separately\n",
    "3) Calculate PSD from FFT data for each hour separately\n",
    "4) Concatenate PSD results as a vector\n",
    "\n",
    "This results in the same data length as the time data segmented into hours.\n",
    "\n",
    "Also the paper makes a few errors with the PSD. The power spectral density is the whole spectrum, and the paper reduces it to a single number per signal using the formula $P = \\lim_{T -> \\infty} \\frac{1}{T} \\int_0^T |x(k)|^2 dx$. The paper call this energy, but this is actually the **total power** of the signal for the given sample. The frequency domain is therefore the power domain really, and statistics calculated from it are calculated from hourly total powers of the activity.\n",
    "\n",
    "For consistency with the paper, we'll use names \"frequency domain\" and \"PSD\" in the following analysis."
   ]
  },
  {
   "cell_type": "markdown",
   "id": "7a50ee88",
   "metadata": {},
   "source": [
    "First, correct the data type of `timestamp` column and drop the redundant `date` column."
   ]
  },
  {
   "cell_type": "code",
   "execution_count": 16,
   "id": "72b28be4",
   "metadata": {},
   "outputs": [
    {
     "data": {
      "text/html": [
       "<div>\n",
       "<style scoped>\n",
       "    .dataframe tbody tr th:only-of-type {\n",
       "        vertical-align: middle;\n",
       "    }\n",
       "\n",
       "    .dataframe tbody tr th {\n",
       "        vertical-align: top;\n",
       "    }\n",
       "\n",
       "    .dataframe thead th {\n",
       "        text-align: right;\n",
       "    }\n",
       "</style>\n",
       "<table border=\"1\" class=\"dataframe\">\n",
       "  <thead>\n",
       "    <tr style=\"text-align: right;\">\n",
       "      <th></th>\n",
       "      <th>timestamp</th>\n",
       "      <th>activity</th>\n",
       "    </tr>\n",
       "  </thead>\n",
       "  <tbody>\n",
       "    <tr>\n",
       "      <th>0</th>\n",
       "      <td>2003-05-07 12:00:00</td>\n",
       "      <td>0</td>\n",
       "    </tr>\n",
       "    <tr>\n",
       "      <th>1</th>\n",
       "      <td>2003-05-07 12:01:00</td>\n",
       "      <td>143</td>\n",
       "    </tr>\n",
       "    <tr>\n",
       "      <th>2</th>\n",
       "      <td>2003-05-07 12:02:00</td>\n",
       "      <td>0</td>\n",
       "    </tr>\n",
       "    <tr>\n",
       "      <th>3</th>\n",
       "      <td>2003-05-07 12:03:00</td>\n",
       "      <td>20</td>\n",
       "    </tr>\n",
       "    <tr>\n",
       "      <th>4</th>\n",
       "      <td>2003-05-07 12:04:00</td>\n",
       "      <td>166</td>\n",
       "    </tr>\n",
       "  </tbody>\n",
       "</table>\n",
       "</div>"
      ],
      "text/plain": [
       "            timestamp  activity\n",
       "0 2003-05-07 12:00:00         0\n",
       "1 2003-05-07 12:01:00       143\n",
       "2 2003-05-07 12:02:00         0\n",
       "3 2003-05-07 12:03:00        20\n",
       "4 2003-05-07 12:04:00       166"
      ]
     },
     "execution_count": 16,
     "metadata": {},
     "output_type": "execute_result"
    }
   ],
   "source": [
    "for df in (conditions + controls):\n",
    "    df[\"timestamp\"] = pd.to_datetime(df[\"timestamp\"], format=\"%Y-%m-%d %H:%M:%S\")\n",
    "\n",
    "for df in (conditions + controls):\n",
    "    if \"date\" in df.columns:\n",
    "        df.drop(\"date\", axis=1, inplace=True)\n",
    "\n",
    "conditions[0].head()"
   ]
  },
  {
   "cell_type": "code",
   "execution_count": 17,
   "id": "b66a95ac",
   "metadata": {},
   "outputs": [
    {
     "data": {
      "text/plain": [
       "timestamp    datetime64[ns]\n",
       "activity              int64\n",
       "dtype: object"
      ]
     },
     "execution_count": 17,
     "metadata": {},
     "output_type": "execute_result"
    }
   ],
   "source": [
    "controls[1].dtypes"
   ]
  },
  {
   "cell_type": "markdown",
   "id": "9446c8f2",
   "metadata": {},
   "source": [
    "Next, calculate segmented values. For time domain, just calculate hourly means. For frequency domain, calculate FFT and PSD, obtaining total power, for each hour."
   ]
  },
  {
   "cell_type": "code",
   "execution_count": 18,
   "id": "1bce5a02",
   "metadata": {},
   "outputs": [],
   "source": [
    "from scipy.fft import fft"
   ]
  },
  {
   "cell_type": "code",
   "execution_count": 19,
   "id": "a254aa94",
   "metadata": {},
   "outputs": [],
   "source": [
    "def total_power(df: pd.Series) -> pd.Series:\n",
    "    \"\"\"\n",
    "    Applies FFT and PSD to the input, calculating total power.\n",
    "    \"\"\"\n",
    "    df = df.to_numpy()\n",
    "    df = fft(df)  # returns np.ndarray\n",
    "    df = np.mean(np.square(np.abs(df)))  # PSD\n",
    "    return pd.Series(df)"
   ]
  },
  {
   "cell_type": "code",
   "execution_count": 20,
   "id": "2a09efa4",
   "metadata": {},
   "outputs": [],
   "source": [
    "def group_by_hour(df: pd.DataFrame, domain: str) -> pd.DataFrame:\n",
    "    \"\"\"\n",
    "    df: DataFrame with columns \"datetime\" and \"activity\"\n",
    "    domain: \"time\" or \"freq\"\n",
    "    \"\"\"\n",
    "    # group by hour\n",
    "    grouped = df.groupby([pd.Grouper(key=\"timestamp\", freq=\"H\")])\n",
    "    \n",
    "    # aggregate in the proper domain\n",
    "    if domain == \"time\":\n",
    "        grouped = grouped.mean()\n",
    "    elif domain == \"freq\":\n",
    "        grouped = grouped.agg(total_power)\n",
    "    else:\n",
    "        raise ValueError(f'Domain should be \"time\" or \"freq\", got \"{domain}\"')\n",
    "    \n",
    "    # change index back to RangeIndex, since it became TimeIndex during grouping\n",
    "    grouped.reset_index(inplace=True)\n",
    "    \n",
    "    return grouped"
   ]
  },
  {
   "cell_type": "code",
   "execution_count": 21,
   "id": "2237c5e6",
   "metadata": {},
   "outputs": [],
   "source": [
    "conditions_time_preprocessed = [group_by_hour(df, \"time\") for df in conditions]\n",
    "controls_time_preprocessed = [group_by_hour(df, \"time\") for df in controls]\n",
    "\n",
    "conditions_freq_preprocessed = [group_by_hour(df, \"freq\") for df in conditions]\n",
    "controls_freq_preprocessed = [group_by_hour(df, \"freq\") for df in controls]"
   ]
  },
  {
   "cell_type": "code",
   "execution_count": 22,
   "id": "c8e79251",
   "metadata": {},
   "outputs": [
    {
     "data": {
      "text/html": [
       "<div>\n",
       "<style scoped>\n",
       "    .dataframe tbody tr th:only-of-type {\n",
       "        vertical-align: middle;\n",
       "    }\n",
       "\n",
       "    .dataframe tbody tr th {\n",
       "        vertical-align: top;\n",
       "    }\n",
       "\n",
       "    .dataframe thead th {\n",
       "        text-align: right;\n",
       "    }\n",
       "</style>\n",
       "<table border=\"1\" class=\"dataframe\">\n",
       "  <thead>\n",
       "    <tr style=\"text-align: right;\">\n",
       "      <th></th>\n",
       "      <th>timestamp</th>\n",
       "      <th>activity</th>\n",
       "    </tr>\n",
       "  </thead>\n",
       "  <tbody>\n",
       "    <tr>\n",
       "      <th>0</th>\n",
       "      <td>2003-05-07 12:00:00</td>\n",
       "      <td>346.550000</td>\n",
       "    </tr>\n",
       "    <tr>\n",
       "      <th>1</th>\n",
       "      <td>2003-05-07 13:00:00</td>\n",
       "      <td>284.566667</td>\n",
       "    </tr>\n",
       "    <tr>\n",
       "      <th>2</th>\n",
       "      <td>2003-05-07 14:00:00</td>\n",
       "      <td>279.183333</td>\n",
       "    </tr>\n",
       "    <tr>\n",
       "      <th>3</th>\n",
       "      <td>2003-05-07 15:00:00</td>\n",
       "      <td>218.783333</td>\n",
       "    </tr>\n",
       "    <tr>\n",
       "      <th>4</th>\n",
       "      <td>2003-05-07 16:00:00</td>\n",
       "      <td>238.550000</td>\n",
       "    </tr>\n",
       "    <tr>\n",
       "      <th>...</th>\n",
       "      <td>...</td>\n",
       "      <td>...</td>\n",
       "    </tr>\n",
       "    <tr>\n",
       "      <th>383</th>\n",
       "      <td>2003-05-23 11:00:00</td>\n",
       "      <td>0.000000</td>\n",
       "    </tr>\n",
       "    <tr>\n",
       "      <th>384</th>\n",
       "      <td>2003-05-23 12:00:00</td>\n",
       "      <td>0.000000</td>\n",
       "    </tr>\n",
       "    <tr>\n",
       "      <th>385</th>\n",
       "      <td>2003-05-23 13:00:00</td>\n",
       "      <td>0.000000</td>\n",
       "    </tr>\n",
       "    <tr>\n",
       "      <th>386</th>\n",
       "      <td>2003-05-23 14:00:00</td>\n",
       "      <td>11.400000</td>\n",
       "    </tr>\n",
       "    <tr>\n",
       "      <th>387</th>\n",
       "      <td>2003-05-23 15:00:00</td>\n",
       "      <td>79.500000</td>\n",
       "    </tr>\n",
       "  </tbody>\n",
       "</table>\n",
       "<p>388 rows × 2 columns</p>\n",
       "</div>"
      ],
      "text/plain": [
       "              timestamp    activity\n",
       "0   2003-05-07 12:00:00  346.550000\n",
       "1   2003-05-07 13:00:00  284.566667\n",
       "2   2003-05-07 14:00:00  279.183333\n",
       "3   2003-05-07 15:00:00  218.783333\n",
       "4   2003-05-07 16:00:00  238.550000\n",
       "..                  ...         ...\n",
       "383 2003-05-23 11:00:00    0.000000\n",
       "384 2003-05-23 12:00:00    0.000000\n",
       "385 2003-05-23 13:00:00    0.000000\n",
       "386 2003-05-23 14:00:00   11.400000\n",
       "387 2003-05-23 15:00:00   79.500000\n",
       "\n",
       "[388 rows x 2 columns]"
      ]
     },
     "execution_count": 22,
     "metadata": {},
     "output_type": "execute_result"
    }
   ],
   "source": [
    "conditions_time_preprocessed[0]"
   ]
  },
  {
   "cell_type": "code",
   "execution_count": 23,
   "id": "afbcd78a",
   "metadata": {},
   "outputs": [
    {
     "data": {
      "text/html": [
       "<div>\n",
       "<style scoped>\n",
       "    .dataframe tbody tr th:only-of-type {\n",
       "        vertical-align: middle;\n",
       "    }\n",
       "\n",
       "    .dataframe tbody tr th {\n",
       "        vertical-align: top;\n",
       "    }\n",
       "\n",
       "    .dataframe thead th {\n",
       "        text-align: right;\n",
       "    }\n",
       "</style>\n",
       "<table border=\"1\" class=\"dataframe\">\n",
       "  <thead>\n",
       "    <tr style=\"text-align: right;\">\n",
       "      <th></th>\n",
       "      <th>timestamp</th>\n",
       "      <th>activity</th>\n",
       "    </tr>\n",
       "  </thead>\n",
       "  <tbody>\n",
       "    <tr>\n",
       "      <th>0</th>\n",
       "      <td>2003-05-07 12:00:00</td>\n",
       "      <td>11191987.0</td>\n",
       "    </tr>\n",
       "    <tr>\n",
       "      <th>1</th>\n",
       "      <td>2003-05-07 13:00:00</td>\n",
       "      <td>8078860.0</td>\n",
       "    </tr>\n",
       "    <tr>\n",
       "      <th>2</th>\n",
       "      <td>2003-05-07 14:00:00</td>\n",
       "      <td>9051577.0</td>\n",
       "    </tr>\n",
       "    <tr>\n",
       "      <th>3</th>\n",
       "      <td>2003-05-07 15:00:00</td>\n",
       "      <td>8124159.0</td>\n",
       "    </tr>\n",
       "    <tr>\n",
       "      <th>4</th>\n",
       "      <td>2003-05-07 16:00:00</td>\n",
       "      <td>7685663.0</td>\n",
       "    </tr>\n",
       "    <tr>\n",
       "      <th>...</th>\n",
       "      <td>...</td>\n",
       "      <td>...</td>\n",
       "    </tr>\n",
       "    <tr>\n",
       "      <th>383</th>\n",
       "      <td>2003-05-23 11:00:00</td>\n",
       "      <td>0.0</td>\n",
       "    </tr>\n",
       "    <tr>\n",
       "      <th>384</th>\n",
       "      <td>2003-05-23 12:00:00</td>\n",
       "      <td>0.0</td>\n",
       "    </tr>\n",
       "    <tr>\n",
       "      <th>385</th>\n",
       "      <td>2003-05-23 13:00:00</td>\n",
       "      <td>0.0</td>\n",
       "    </tr>\n",
       "    <tr>\n",
       "      <th>386</th>\n",
       "      <td>2003-05-23 14:00:00</td>\n",
       "      <td>145540.0</td>\n",
       "    </tr>\n",
       "    <tr>\n",
       "      <th>387</th>\n",
       "      <td>2003-05-23 15:00:00</td>\n",
       "      <td>1162790.0</td>\n",
       "    </tr>\n",
       "  </tbody>\n",
       "</table>\n",
       "<p>388 rows × 2 columns</p>\n",
       "</div>"
      ],
      "text/plain": [
       "              timestamp    activity\n",
       "0   2003-05-07 12:00:00  11191987.0\n",
       "1   2003-05-07 13:00:00   8078860.0\n",
       "2   2003-05-07 14:00:00   9051577.0\n",
       "3   2003-05-07 15:00:00   8124159.0\n",
       "4   2003-05-07 16:00:00   7685663.0\n",
       "..                  ...         ...\n",
       "383 2003-05-23 11:00:00         0.0\n",
       "384 2003-05-23 12:00:00         0.0\n",
       "385 2003-05-23 13:00:00         0.0\n",
       "386 2003-05-23 14:00:00    145540.0\n",
       "387 2003-05-23 15:00:00   1162790.0\n",
       "\n",
       "[388 rows x 2 columns]"
      ]
     },
     "execution_count": 23,
     "metadata": {},
     "output_type": "execute_result"
    }
   ],
   "source": [
    "conditions_freq_preprocessed[0]"
   ]
  },
  {
   "cell_type": "markdown",
   "id": "9c40aa80",
   "metadata": {},
   "source": [
    "Lastly, create separate night and day datasets in addition to the whole dataset."
   ]
  },
  {
   "cell_type": "code",
   "execution_count": 24,
   "id": "b2a6c975",
   "metadata": {},
   "outputs": [],
   "source": [
    "def get_night_day_division(df: pd.DataFrame) -> Tuple[pd.DataFrame, pd.DataFrame]:\n",
    "    night_df = df.loc[(df[\"timestamp\"].dt.hour >= 21) | (df[\"timestamp\"].dt.hour < 8)]\n",
    "    day_df = df.loc[(df[\"timestamp\"].dt.hour >= 8) & (df[\"timestamp\"].dt.hour < 21)]\n",
    "    return night_df, day_df"
   ]
  },
  {
   "cell_type": "code",
   "execution_count": 25,
   "id": "e3d5f2b5",
   "metadata": {},
   "outputs": [],
   "source": [
    "conditions_time_night = []\n",
    "conditions_time_day = []\n",
    "\n",
    "controls_time_night = []\n",
    "controls_time_day = []\n",
    "\n",
    "for df in conditions_time_preprocessed:\n",
    "    night_df, day_df = get_night_day_division(df)\n",
    "    conditions_time_night.append(night_df)\n",
    "    conditions_time_day.append(day_df)\n",
    "\n",
    "for df in controls_time_preprocessed:\n",
    "    night_df, day_df = get_night_day_division(df)\n",
    "    controls_time_night.append(night_df)\n",
    "    controls_time_day.append(day_df)"
   ]
  },
  {
   "cell_type": "code",
   "execution_count": 26,
   "id": "e98062f9",
   "metadata": {},
   "outputs": [],
   "source": [
    "conditions_freq_night = []\n",
    "conditions_freq_day = []\n",
    "\n",
    "controls_freq_night = []\n",
    "controls_freq_day = []\n",
    "\n",
    "for df in conditions_freq_preprocessed:\n",
    "    night_df, day_df = get_night_day_division(df)\n",
    "    conditions_freq_night.append(night_df)\n",
    "    conditions_freq_day.append(day_df)\n",
    "\n",
    "for df in controls_freq_preprocessed:\n",
    "    night_df, day_df = get_night_day_division(df)\n",
    "    controls_freq_night.append(night_df)\n",
    "    controls_freq_day.append(day_df)"
   ]
  },
  {
   "cell_type": "markdown",
   "id": "4bb6c216",
   "metadata": {},
   "source": [
    "Trim to the same number of 1-hour segments, so we have equal length sequences for night, day and all data."
   ]
  },
  {
   "cell_type": "code",
   "execution_count": 27,
   "id": "0e1c5803",
   "metadata": {},
   "outputs": [],
   "source": [
    "min_length_night = min([len(df) for df in conditions_time_night + controls_time_night])\n",
    "min_length_day = min([len(df) for df in conditions_time_day + controls_time_day])\n",
    "min_length_all = min(min_length_night, min_length_day)\n",
    "\n",
    "conditions_time_trimmed = {\n",
    "    \"night\": [df[:min_length_night] for df in conditions_time_night],\n",
    "    \"day\": [df[:min_length_day] for df in conditions_time_day],\n",
    "    \"all\": [df[:min_length_all] for df in conditions_time_night + conditions_time_day]\n",
    "}\n",
    "\n",
    "controls_time_trimmed = {\n",
    "    \"night\": [df[:min_length_night] for df in controls_time_night],\n",
    "    \"day\": [df[:min_length_day] for df in controls_time_day],\n",
    "    \"all\": [df[:min_length_all] for df in controls_time_night + controls_time_day]\n",
    "}\n",
    "\n",
    "\n",
    "conditions_freq_trimmed = {\n",
    "    \"night\": [df[:min_length_night] for df in conditions_freq_night],\n",
    "    \"day\": [df[:min_length_day] for df in conditions_freq_day],\n",
    "    \"all\": [df[:min_length_all] for df in conditions_freq_night + conditions_freq_day]\n",
    "}\n",
    "\n",
    "controls_freq_trimmed = {\n",
    "    \"night\": [df[:min_length_night] for df in controls_freq_night],\n",
    "    \"day\": [df[:min_length_day] for df in controls_freq_day],\n",
    "    \"all\": [df[:min_length_all] for df in controls_freq_night + controls_freq_day]\n",
    "}"
   ]
  },
  {
   "cell_type": "markdown",
   "id": "a0bba741",
   "metadata": {},
   "source": [
    "Let's check the number of hour segments."
   ]
  },
  {
   "cell_type": "code",
   "execution_count": 28,
   "id": "311ffd14",
   "metadata": {},
   "outputs": [
    {
     "name": "stdout",
     "output_type": "stream",
     "text": [
      "Day: 9845\n",
      "Night: 7865\n",
      "Full data: 17710\n"
     ]
    }
   ],
   "source": [
    "night_observations = sum([len(df) for df in conditions_time_trimmed[\"night\"] + controls_time_trimmed[\"night\"]])\n",
    "day_observations = sum([len(df) for df in conditions_time_trimmed[\"day\"] + controls_time_trimmed[\"day\"]])\n",
    "all_observations= sum([len(df) for df in conditions_time_trimmed[\"all\"] + controls_time_trimmed[\"all\"]])\n",
    "\n",
    "print(f\"Day: {day_observations}\")\n",
    "print(f\"Night: {night_observations}\")\n",
    "print(f\"Full data: {day_observations + night_observations}\")"
   ]
  },
  {
   "cell_type": "markdown",
   "id": "def97066",
   "metadata": {},
   "source": [
    "As you can see, the number of segments is very different than stated in the paper. However, that was probably just a mistake in specifying the table contents and authors got similiar numbers of actual hourly segments as here."
   ]
  },
  {
   "cell_type": "markdown",
   "id": "ebcd7c9c",
   "metadata": {},
   "source": [
    "Before further processing it will come in handy to work on regular Numpy arrays instead of lists of DataFrames. We will have 1 row per patient, with columns indicating measurements (short and wide matrix). We'll process time and frequency data separatly and combine the calculated statistics."
   ]
  },
  {
   "cell_type": "code",
   "execution_count": 29,
   "id": "8fca849e",
   "metadata": {},
   "outputs": [],
   "source": [
    "data = {\n",
    "    \"time\": {}, \n",
    "    \"freq\": {}\n",
    "}\n",
    "\n",
    "for domain in [\"time\", \"freq\"]:\n",
    "    for part in [\"night\", \"day\", \"all\"]:\n",
    "        X = [df[\"activity\"].values for df in conditions_time_trimmed[part]] + \\\n",
    "            [df[\"activity\"].values for df in controls_time_trimmed[part]]\n",
    "        X = np.vstack(X)\n",
    "        \n",
    "        y = np.zeros(X.shape[0])\n",
    "        y[:len(conditions_time_trimmed[part]) + 1] = 1\n",
    "\n",
    "        data[domain][\"X_\" + part] = X\n",
    "        data[domain][\"y_\" + part] = y\n",
    "\n",
    "# each one contains keys: X_night, y_night, X_day, y_day, X_all, y_all\n",
    "time_data = data[\"time\"]\n",
    "freq_data = data[\"freq\"]"
   ]
  },
  {
   "cell_type": "markdown",
   "id": "2103b607",
   "metadata": {},
   "source": [
    "Make sure that the data is correct:"
   ]
  },
  {
   "cell_type": "code",
   "execution_count": 30,
   "id": "8c8d1fa6",
   "metadata": {},
   "outputs": [
    {
     "data": {
      "text/plain": [
       "array([[4.15333333e+01, 3.24500000e+01, 1.48733333e+02, 8.00000000e+00,\n",
       "        4.08333333e+00, 7.06666667e+00, 4.03333333e+00, 1.22166667e+01,\n",
       "        9.66666667e-01, 1.00000000e+01, 1.37000000e+01, 1.20050000e+02,\n",
       "        4.65166667e+01, 6.78666667e+01, 6.97000000e+01, 2.22500000e+01,\n",
       "        1.10166667e+01, 2.08333333e+00, 1.26500000e+01, 4.51666667e+00,\n",
       "        6.43333333e+00, 5.66666667e+00, 1.78116667e+02, 5.82000000e+01,\n",
       "        3.67000000e+01, 1.00616667e+02, 9.86333333e+01, 7.71666667e+00,\n",
       "        3.28333333e+00, 3.70000000e+00, 5.83333333e-01, 1.96666667e+00,\n",
       "        1.77833333e+01, 4.76666667e+01, 7.99666667e+01, 8.54833333e+01,\n",
       "        2.76666667e+00, 9.16666667e-01, 4.08333333e+00, 6.51666667e+00,\n",
       "        2.03666667e+01, 7.95000000e+00, 1.37333333e+01, 1.08666667e+01,\n",
       "        5.21500000e+01, 4.39666667e+01, 1.11233333e+02, 2.76666667e+00,\n",
       "        2.66666667e+00, 1.24500000e+01, 5.25000000e+00, 9.81666667e+00,\n",
       "        9.68333333e+00, 9.68333333e+00, 9.86666667e+00, 1.40200000e+02,\n",
       "        5.63666667e+01, 3.18000000e+01, 5.20000000e+01, 1.00483333e+02,\n",
       "        1.57333333e+01, 9.53333333e+00, 3.00000000e-01, 7.30000000e+00,\n",
       "        1.25333333e+01, 1.64500000e+01, 6.60500000e+01, 1.32216667e+02,\n",
       "        9.90000000e+00, 3.78333333e+00, 2.91666667e+00, 1.40166667e+01,\n",
       "        5.63333333e+00, 2.57500000e+01, 2.50000000e+00, 1.73166667e+01,\n",
       "        6.57333333e+01, 2.06883333e+02, 1.87466667e+02, 7.47500000e+01,\n",
       "        8.90833333e+01, 9.90000000e+00, 9.00000000e-01, 3.60000000e+00,\n",
       "        3.56666667e+00, 6.45000000e+00, 9.56666667e+00, 1.15833333e+01,\n",
       "        1.32616667e+02, 1.49733333e+02, 1.05783333e+02, 8.41666667e+00,\n",
       "        1.92666667e+01, 1.39833333e+01, 7.91666667e+00, 6.18333333e+00,\n",
       "        1.71166667e+01, 2.62500000e+01, 1.77350000e+02, 5.76166667e+01,\n",
       "        7.06833333e+01, 6.17333333e+01, 9.84000000e+01, 1.34666667e+01,\n",
       "        8.01666667e+00, 7.06666667e+00, 1.78333333e+01, 9.16666667e-01,\n",
       "        7.98333333e+00, 8.35000000e+00, 1.20533333e+02, 5.10166667e+01,\n",
       "        9.74833333e+01, 7.28833333e+01, 1.17333333e+01, 1.36000000e+01,\n",
       "        6.45000000e+00, 6.96666667e+00, 1.07666667e+01, 9.45000000e+00,\n",
       "        4.70666667e+01, 9.97500000e+01, 3.26500000e+01, 9.69333333e+01,\n",
       "        3.95000000e+00, 9.03333333e+00, 4.91666667e+00, 4.21666667e+00,\n",
       "        6.91666667e+00, 1.75500000e+01, 1.18000000e+01, 2.53166667e+01,\n",
       "        0.00000000e+00, 0.00000000e+00, 0.00000000e+00, 0.00000000e+00,\n",
       "        0.00000000e+00, 0.00000000e+00, 0.00000000e+00, 0.00000000e+00,\n",
       "        0.00000000e+00, 0.00000000e+00, 1.33333333e-01],\n",
       "       [2.60433333e+02, 3.93850000e+02, 2.25500000e+01, 1.59833333e+01,\n",
       "        5.46666667e+00, 2.71500000e+01, 1.06833333e+01, 7.33333333e+00,\n",
       "        9.13333333e+00, 5.76666667e+00, 2.13033333e+02, 4.43233333e+02,\n",
       "        6.02700000e+02, 7.82666667e+01, 1.58500000e+01, 2.03333333e+01,\n",
       "        9.38333333e+00, 1.23333333e+01, 2.04166667e+01, 3.21500000e+01,\n",
       "        1.67333333e+01, 4.94166667e+01, 5.03516667e+02, 4.42050000e+02,\n",
       "        7.26833333e+01, 9.67666667e+01, 1.22333333e+01, 2.18333333e+00,\n",
       "        7.45000000e+00, 7.05000000e+00, 2.17666667e+01, 8.60000000e+00,\n",
       "        3.09766667e+02, 4.51766667e+02, 5.09433333e+02, 1.29000000e+02,\n",
       "        1.97666667e+01, 6.66666667e+00, 1.32333333e+01, 9.16666667e+00,\n",
       "        9.20000000e+00, 1.54833333e+01, 4.29166667e+01, 2.43533333e+02,\n",
       "        6.36716667e+02, 2.93683333e+02, 4.15550000e+02, 8.46666667e+00,\n",
       "        1.54833333e+01, 1.24500000e+01, 1.83833333e+01, 2.61000000e+01,\n",
       "        1.98166667e+01, 1.97833333e+01, 2.93166667e+01, 4.06383333e+02,\n",
       "        3.81933333e+02, 8.66666667e+00, 9.71666667e+00, 7.71666667e+00,\n",
       "        1.42333333e+01, 2.54666667e+01, 5.60666667e+01, 5.94333333e+01,\n",
       "        5.64333333e+01, 2.06216667e+02, 3.30083333e+02, 3.30750000e+02,\n",
       "        2.95500000e+01, 3.33500000e+01, 2.08500000e+01, 5.01666667e+00,\n",
       "        1.84333333e+01, 2.00666667e+01, 2.67000000e+01, 2.01000000e+01,\n",
       "        2.46183333e+02, 7.63416667e+02, 3.06983333e+02, 1.25000000e+01,\n",
       "        1.56500000e+01, 1.32166667e+01, 5.16666667e+00, 3.65000000e+00,\n",
       "        2.24000000e+01, 1.25000000e+01, 1.88333333e+01, 4.58833333e+01,\n",
       "        3.30083333e+02, 5.62666667e+01, 3.01500000e+01, 1.92500000e+01,\n",
       "        1.32333333e+01, 2.59166667e+01, 1.26333333e+01, 9.81666667e+00,\n",
       "        2.72166667e+01, 2.35833333e+01, 2.17816667e+02, 3.57050000e+02,\n",
       "        1.84766667e+02, 1.43666667e+01, 1.71333333e+01, 4.37000000e+01,\n",
       "        1.56000000e+01, 3.09833333e+01, 3.63666667e+01, 2.03000000e+01,\n",
       "        1.99166667e+01, 4.17833333e+01, 3.82483333e+02, 3.18116667e+02,\n",
       "        4.08083333e+02, 2.52450000e+02, 1.10166667e+01, 2.36333333e+01,\n",
       "        5.81666667e+00, 3.25500000e+01, 2.49666667e+01, 2.71500000e+01,\n",
       "        8.18666667e+01, 2.29000000e+02, 1.40550000e+02, 1.85166667e+01,\n",
       "        2.78166667e+01, 1.49666667e+01, 2.64333333e+01, 1.79166667e+01,\n",
       "        1.81166667e+01, 1.64666667e+01, 8.10000000e+01, 8.21166667e+01,\n",
       "        4.54266667e+02, 2.12750000e+02, 2.26166667e+01, 2.49166667e+01,\n",
       "        1.48666667e+01, 1.87333333e+01, 4.16666667e+00, 2.05666667e+01,\n",
       "        1.15833333e+01, 3.33833333e+01, 4.67666667e+01],\n",
       "       [3.92583333e+02, 5.11000000e+01, 5.47833333e+01, 6.96833333e+01,\n",
       "        2.66666667e+00, 1.37500000e+01, 4.48333333e+00, 1.20333333e+01,\n",
       "        5.11666667e+01, 7.09500000e+01, 5.61666667e+00, 2.30333333e+01,\n",
       "        2.15783333e+02, 6.00666667e+01, 6.51000000e+01, 2.30000000e+00,\n",
       "        1.11666667e+00, 9.45000000e+00, 7.66666667e+00, 8.26333333e+01,\n",
       "        5.70833333e+01, 7.25000000e+00, 2.19683333e+02, 1.52900000e+02,\n",
       "        9.86000000e+01, 5.67166667e+01, 7.20000000e+01, 8.67166667e+01,\n",
       "        8.16500000e+01, 6.16666667e-01, 1.04500000e+01, 0.00000000e+00,\n",
       "        2.40000000e+00, 3.02983333e+02, 4.04083333e+02, 2.43383333e+02,\n",
       "        5.02316667e+02, 3.19916667e+02, 2.98783333e+02, 7.29500000e+01,\n",
       "        1.49566667e+02, 0.00000000e+00, 7.00000000e+00, 4.90000000e+00,\n",
       "        3.60250000e+02, 3.65600000e+02, 2.65033333e+02, 2.14166667e+02,\n",
       "        1.30200000e+02, 1.07566667e+02, 1.01650000e+02, 0.00000000e+00,\n",
       "        8.31666667e+00, 5.86666667e+00, 5.68333333e+00, 1.38500000e+01,\n",
       "        2.57000000e+01, 2.06300000e+02, 1.36000000e+01, 7.41666667e+00,\n",
       "        3.18333333e+00, 4.00000000e+00, 6.26666667e+00, 1.78333333e+00,\n",
       "        7.68333333e+00, 1.15666667e+01, 1.17116667e+02, 1.10216667e+02,\n",
       "        3.01666667e+00, 1.27666667e+01, 3.06666667e+00, 1.07166667e+01,\n",
       "        5.31666667e+00, 5.31666667e+00, 3.33666667e+01, 8.21833333e+01,\n",
       "        5.06666667e+00, 2.34350000e+02, 1.60866667e+02, 5.06666667e+00,\n",
       "        6.66666667e-01, 9.50000000e+00, 1.10000000e+00, 1.08666667e+01,\n",
       "        5.91666667e+00, 4.70000000e+00, 1.01500000e+01, 6.28333333e+00,\n",
       "        2.38633333e+02, 1.28116667e+02, 2.08566667e+02, 8.31666667e+01,\n",
       "        7.11166667e+01, 3.77833333e+01, 8.77333333e+01, 1.16666667e+00,\n",
       "        1.22166667e+01, 4.66666667e-01, 4.95000000e+00, 1.91350000e+02,\n",
       "        6.02333333e+01, 1.88916667e+02, 4.86666667e+01, 4.60666667e+01,\n",
       "        0.00000000e+00, 7.78333333e+00, 0.00000000e+00, 2.10000000e+00,\n",
       "        7.11666667e+00, 3.81666667e+00, 5.01333333e+02, 4.45833333e+02,\n",
       "        3.79200000e+02, 2.27250000e+02, 3.88650000e+02, 1.03466667e+02,\n",
       "        2.57333333e+02, 1.24033333e+02, 4.31666667e+00, 3.23333333e+00,\n",
       "        0.00000000e+00, 2.35533333e+02, 3.10500000e+02, 1.75566667e+02,\n",
       "        3.19716667e+02, 3.63716667e+02, 9.40333333e+01, 8.77166667e+01,\n",
       "        3.10333333e+01, 6.62000000e+01, 1.03833333e+01, 8.83333333e-01,\n",
       "        3.02166667e+01, 1.32000000e+01, 2.64666667e+02, 4.20000000e+01,\n",
       "        7.11666667e+00, 4.11666667e+00, 9.26666667e+00, 1.19333333e+01,\n",
       "        6.56666667e+00, 1.04500000e+01, 5.76666667e+00],\n",
       "       [5.32350000e+02, 2.02416667e+02, 7.50333333e+01, 1.17666667e+01,\n",
       "        4.96333333e+01, 1.10333333e+01, 7.83333333e-01, 6.38333333e+00,\n",
       "        1.07166667e+01, 6.69666667e+01, 9.44666667e+01, 2.99533333e+02,\n",
       "        1.80083333e+02, 4.93500000e+01, 7.22166667e+01, 1.17166667e+01,\n",
       "        1.15000000e+00, 2.04833333e+01, 2.31666667e+00, 4.68333333e+00,\n",
       "        1.04000000e+01, 1.30600000e+02, 4.49750000e+02, 1.50816667e+02,\n",
       "        2.40466667e+02, 2.38816667e+02, 3.09166667e+01, 5.46666667e+00,\n",
       "        2.44833333e+01, 3.20000000e+00, 3.11666667e+00, 7.41666667e+00,\n",
       "        8.63833333e+01, 1.46983333e+02, 1.14266667e+02, 1.20050000e+02,\n",
       "        2.21616667e+02, 4.93333333e+01, 4.31666667e+00, 4.71666667e+00,\n",
       "        2.51666667e+00, 4.16666667e-01, 5.33333333e+00, 1.39500000e+01,\n",
       "        1.73550000e+02, 2.70050000e+02, 1.11100000e+02, 2.94333333e+02,\n",
       "        3.03766667e+02, 2.64900000e+02, 1.22933333e+02, 1.98000000e+01,\n",
       "        4.78333333e+00, 1.22000000e+01, 8.40000000e+00, 4.25833333e+01,\n",
       "        2.24150000e+02, 1.21983333e+02, 6.95666667e+01, 2.62000000e+01,\n",
       "        1.39000000e+01, 4.23333333e+00, 6.71666667e+00, 2.38333333e+00,\n",
       "        8.81666667e+00, 1.04816667e+02, 4.42650000e+02, 9.46833333e+01,\n",
       "        2.53383333e+02, 4.36500000e+01, 5.10500000e+01, 4.16666667e-01,\n",
       "        6.03333333e+00, 1.29000000e+01, 1.79333333e+01, 1.85666667e+01,\n",
       "        9.36166667e+01, 2.92600000e+02, 2.54166667e+02, 2.10466667e+02,\n",
       "        7.76833333e+01, 9.10333333e+01, 9.01666667e+00, 1.01333333e+01,\n",
       "        8.16666667e-01, 8.65000000e+00, 8.75000000e+00, 8.61333333e+01,\n",
       "        2.86283333e+02, 1.23050000e+02, 8.27333333e+01, 4.91666667e+01,\n",
       "        1.88166667e+01, 1.36500000e+01, 3.60000000e+00, 2.24833333e+01,\n",
       "        5.53333333e+00, 9.53333333e+00, 8.41666667e+01, 2.26783333e+02,\n",
       "        1.05866667e+02, 1.20200000e+02, 8.55000000e+00, 8.40000000e+00,\n",
       "        4.70000000e+00, 4.60000000e+00, 5.40000000e+00, 1.27833333e+01,\n",
       "        7.63000000e+01, 1.16733333e+02, 2.40083333e+02, 2.94500000e+02,\n",
       "        3.31433333e+02, 5.99666667e+01, 4.12333333e+01, 9.20000000e+00,\n",
       "        3.76666667e+00, 6.51666667e+00, 1.23833333e+01, 1.06666667e+01,\n",
       "        2.47833333e+01, 1.18916667e+02, 1.80566667e+02, 8.31666667e+01,\n",
       "        6.07500000e+01, 5.07833333e+01, 1.41166667e+01, 4.21666667e+00,\n",
       "        4.08333333e+00, 2.85333333e+01, 2.34666667e+01, 4.38333333e+00,\n",
       "        4.89500000e+01, 1.40733333e+02, 1.11900000e+02, 5.09000000e+01,\n",
       "        6.61166667e+01, 4.86333333e+01, 1.84833333e+01, 5.13333333e+00,\n",
       "        1.47333333e+01, 9.96666667e+00, 6.51666667e+00],\n",
       "       [3.09816667e+02, 1.14166667e+02, 3.58666667e+01, 5.06666667e+00,\n",
       "        1.01000000e+01, 5.26666667e+00, 3.79166667e+01, 6.83833333e+01,\n",
       "        2.69783333e+02, 2.44866667e+02, 1.44683333e+02, 2.51150000e+02,\n",
       "        3.67200000e+02, 3.85916667e+02, 4.72100000e+02, 2.51216667e+02,\n",
       "        1.90233333e+02, 2.94166667e+01, 5.55666667e+01, 3.73333333e+00,\n",
       "        1.04666667e+01, 2.75333333e+01, 1.93750000e+02, 4.17500000e+02,\n",
       "        2.68466667e+02, 4.77566667e+02, 1.42666667e+02, 2.80666667e+01,\n",
       "        4.58333333e+00, 1.38000000e+01, 9.98333333e+00, 8.55000000e+00,\n",
       "        4.01000000e+01, 2.39033333e+02, 1.62450000e+02, 1.59316667e+02,\n",
       "        3.06350000e+02, 8.32333333e+01, 1.35333333e+02, 1.94500000e+01,\n",
       "        1.26666667e+01, 8.63333333e+00, 1.68666667e+01, 2.52500000e+02,\n",
       "        2.93216667e+02, 1.63883333e+02, 8.40333333e+01, 2.77333333e+02,\n",
       "        1.03483333e+02, 2.81500000e+01, 1.17833333e+01, 4.35000000e+00,\n",
       "        3.03833333e+01, 1.12366667e+02, 1.22166667e+01, 1.13816667e+02,\n",
       "        1.36950000e+02, 3.29750000e+02, 6.55166667e+01, 2.96316667e+02,\n",
       "        1.81050000e+02, 3.26333333e+01, 1.61166667e+01, 1.50000000e+01,\n",
       "        2.04166667e+01, 1.84666667e+01, 2.50866667e+02, 2.57300000e+02,\n",
       "        1.09050000e+02, 6.08166667e+01, 5.20500000e+01, 2.25833333e+01,\n",
       "        2.24666667e+01, 3.47833333e+01, 5.60833333e+01, 1.82333333e+01,\n",
       "        6.63333333e+01, 5.28583333e+02, 3.13100000e+02, 2.46616667e+02,\n",
       "        2.74200000e+02, 1.38833333e+01, 1.75000000e+01, 8.68333333e+00,\n",
       "        1.58000000e+01, 7.46666667e+00, 8.21833333e+01, 6.66816667e+02,\n",
       "        3.47366667e+02, 2.26650000e+02, 1.49616667e+02, 1.88950000e+02,\n",
       "        5.34500000e+01, 8.96666667e+00, 1.66666667e+01, 1.46666667e+01,\n",
       "        8.33333333e+00, 1.31483333e+02, 3.04066667e+02, 2.26966667e+02,\n",
       "        1.87800000e+02, 1.29883333e+02, 1.75183333e+02, 2.24833333e+01,\n",
       "        1.08783333e+02, 1.00166667e+01, 7.76666667e+00, 9.46666667e+00,\n",
       "        5.47666667e+01, 9.01666667e+00, 3.91616667e+02, 3.32366667e+02,\n",
       "        4.01466667e+02, 6.20150000e+02, 2.91166667e+01, 7.88333333e+00,\n",
       "        6.46000000e+01, 1.96833333e+01, 2.12833333e+01, 1.80666667e+01,\n",
       "        4.00700000e+02, 2.33750000e+02, 2.95416667e+02, 1.22250000e+02,\n",
       "        1.52500000e+01, 1.42333333e+01, 2.53333333e+00, 2.88000000e+01,\n",
       "        2.58333333e+00, 1.55166667e+01, 5.73333333e+00, 2.57833333e+01,\n",
       "        3.06900000e+02, 4.22083333e+02, 3.08333333e+02, 5.36616667e+02,\n",
       "        1.74166667e+02, 1.92233333e+02, 3.06383333e+02, 3.19666667e+01,\n",
       "        1.35166667e+01, 1.06333333e+01, 2.01333333e+01]])"
      ]
     },
     "execution_count": 30,
     "metadata": {},
     "output_type": "execute_result"
    }
   ],
   "source": [
    "time_data[\"X_night\"][:5]"
   ]
  },
  {
   "cell_type": "code",
   "execution_count": 31,
   "id": "adf244f9",
   "metadata": {
    "scrolled": true
   },
   "outputs": [
    {
     "data": {
      "text/plain": [
       "array([1., 1., 1., 1., 1., 1., 1., 1., 1., 1., 1., 1., 1., 1., 1., 1., 1.,\n",
       "       1., 1., 1., 1., 1., 1., 1., 0., 0., 0., 0., 0., 0., 0., 0., 0., 0.,\n",
       "       0., 0., 0., 0., 0., 0., 0., 0., 0., 0., 0., 0., 0., 0., 0., 0., 0.,\n",
       "       0., 0., 0., 0.])"
      ]
     },
     "execution_count": 31,
     "metadata": {},
     "output_type": "execute_result"
    }
   ],
   "source": [
    "time_data[\"y_night\"]"
   ]
  },
  {
   "cell_type": "markdown",
   "id": "5c00c4a1",
   "metadata": {},
   "source": [
    "Check for possible missing data:"
   ]
  },
  {
   "cell_type": "code",
   "execution_count": 32,
   "id": "9ab5227f",
   "metadata": {},
   "outputs": [
    {
     "name": "stdout",
     "output_type": "stream",
     "text": [
      "Time X_night True\n",
      "Time X_day False\n",
      "Time X_all True\n",
      "\n",
      "Frequency X_night True\n",
      "Frequency X_day False\n",
      "Frequency X_all True\n"
     ]
    }
   ],
   "source": [
    "for arr_name in [\"X_night\", \"X_day\", \"X_all\"]:\n",
    "    X = time_data[arr_name]\n",
    "    print(\"Time\", arr_name, np.any(np.isnan(X)))\n",
    "    \n",
    "print()\n",
    "    \n",
    "for arr_name in [\"X_night\", \"X_day\", \"X_all\"]:\n",
    "    X = freq_data[arr_name]\n",
    "    print(\"Frequency\", arr_name, np.any(np.isnan(X)))"
   ]
  },
  {
   "cell_type": "markdown",
   "id": "4af1decc",
   "metadata": {},
   "source": [
    "We have some missing values. However, we'll not remove them, unlike in the paper, since Numpy and Scipy allow as to operate on arrays with missing values using special functions, e.g. `np.nanmean()` or `np.nanstd()`. Arrays have to have the same number of columns for each for, so if we wanted to actually remove those values we would have to either go back to lists of arrays (slow and code would be ugly) or remove columns from all measurements (wasteful)."
   ]
  },
  {
   "cell_type": "markdown",
   "id": "ed81cd4c",
   "metadata": {},
   "source": [
    "Standardization is done during calculation of features. This is because the mean is one of the features and calculating it after standardization wouldn't make sense (it's always 0 then)."
   ]
  },
  {
   "cell_type": "markdown",
   "id": "77388480",
   "metadata": {},
   "source": [
    "### Time domain"
   ]
  },
  {
   "cell_type": "markdown",
   "id": "9123842c",
   "metadata": {},
   "source": [
    "Time features are extracted according to the article:\n",
    "- `mean`, `median`, `stddev`, `variance`, `kurtosis`, `minimum`, `maximum` - quite self explanatory statistical features\n",
    "- `coeff_of_var` - coefficient of variation, the ratio of the biased standard deviation to the mean\n",
    "- `iqr` - interquartile range, difference between 75 and 25 percentile (3rd and 1st quartile)\n",
    "- `trimmed_mean` - alternatively truncated mean, mean of the values where the most extreme values (from both ends) are not used; since the article doesn't specify this, I assume that the popular 10% trim percentage is used\n",
    "\n",
    "Data is saved as a DataFrame, since some machine learning models can provide additional insight when using named columns.\n",
    "\n",
    "Multiple features are calculated before standardization, since they wouldn't make sense for standardized data, when mean and standard deviation are always 0 and 1, respectively."
   ]
  },
  {
   "cell_type": "code",
   "execution_count": 36,
   "id": "b47d1a67",
   "metadata": {},
   "outputs": [],
   "source": [
    "from scipy.stats import iqr, kurtosis, trim_mean, variation"
   ]
  },
  {
   "cell_type": "code",
   "execution_count": 37,
   "id": "37203249",
   "metadata": {},
   "outputs": [],
   "source": [
    "def extract_time_features(X: np.ndarray) -> pd.DataFrame:\n",
    "    # features for non-standardized data\n",
    "    mean = np.nanmean(X, axis=1)\n",
    "    median = np.nanmedian(X, axis=1)\n",
    "    stddev = np.nanstd(X, axis=1, ddof=1)  # paper divides by (N - 1)\n",
    "    var = np.nanvar(X, axis=1)\n",
    "    kurt = kurtosis(X, axis=1, nan_policy=\"omit\")\n",
    "    coeff_of_var = variation(X, axis=1, nan_policy=\"omit\")\n",
    "    iq_range = iqr(X, axis=1, nan_policy=\"omit\")\n",
    "    \n",
    "    # Scipy doesn't have NaN option for trimmed mean, so we have to calculate it by hand\n",
    "    trimmed_mean = np.array([trim_mean(row[~np.isnan(row)], proportiontocut=0.1) for row in X])\n",
    "    \n",
    "    # standardization and features for standardized data\n",
    "    X = (X - mean.reshape(-1, 1)) / stddev.reshape(-1, 1)\n",
    "    \n",
    "    minimum = np.nanmin(X, axis=1)\n",
    "    maximum = np.nanmax(X, axis=1)\n",
    "    \n",
    "    features = {\n",
    "        \"mean\": mean,\n",
    "        \"median\": median,\n",
    "        \"stddev\": stddev,\n",
    "        \"variance\": var,\n",
    "        \"kurtosis\": kurt,\n",
    "        \"coeff_of_var\": coeff_of_var,\n",
    "        \"iqr\": iq_range,\n",
    "        \"minimum\": minimum,\n",
    "        \"maximum\": maximum,\n",
    "        \"trimmed_mean\": trimmed_mean\n",
    "    }\n",
    "    return pd.DataFrame(features)"
   ]
  },
  {
   "cell_type": "code",
   "execution_count": 38,
   "id": "bfc643f9",
   "metadata": {},
   "outputs": [],
   "source": [
    "time_features = {}\n",
    "\n",
    "for arr_name in [\"X_night\", \"X_day\", \"X_all\"]:\n",
    "    time_features[arr_name] = extract_time_features(time_data[arr_name])"
   ]
  },
  {
   "cell_type": "code",
   "execution_count": 39,
   "id": "8208c870",
   "metadata": {},
   "outputs": [
    {
     "data": {
      "text/html": [
       "<div>\n",
       "<style scoped>\n",
       "    .dataframe tbody tr th:only-of-type {\n",
       "        vertical-align: middle;\n",
       "    }\n",
       "\n",
       "    .dataframe tbody tr th {\n",
       "        vertical-align: top;\n",
       "    }\n",
       "\n",
       "    .dataframe thead th {\n",
       "        text-align: right;\n",
       "    }\n",
       "</style>\n",
       "<table border=\"1\" class=\"dataframe\">\n",
       "  <thead>\n",
       "    <tr style=\"text-align: right;\">\n",
       "      <th></th>\n",
       "      <th>mean</th>\n",
       "      <th>median</th>\n",
       "      <th>stddev</th>\n",
       "      <th>variance</th>\n",
       "      <th>kurtosis</th>\n",
       "      <th>coeff_of_var</th>\n",
       "      <th>iqr</th>\n",
       "      <th>minimum</th>\n",
       "      <th>maximum</th>\n",
       "      <th>trimmed_mean</th>\n",
       "    </tr>\n",
       "  </thead>\n",
       "  <tbody>\n",
       "    <tr>\n",
       "      <th>0</th>\n",
       "      <td>34.117133</td>\n",
       "      <td>11.583333</td>\n",
       "      <td>45.756484</td>\n",
       "      <td>2079.014907</td>\n",
       "      <td>2.416487</td>\n",
       "      <td>1.336461</td>\n",
       "      <td>46.425</td>\n",
       "      <td>-0.745624</td>\n",
       "      <td>3.775775</td>\n",
       "      <td>24.915652</td>\n",
       "    </tr>\n",
       "    <tr>\n",
       "      <th>1</th>\n",
       "      <td>104.121096</td>\n",
       "      <td>23.633333</td>\n",
       "      <td>158.228121</td>\n",
       "      <td>24861.060346</td>\n",
       "      <td>2.792222</td>\n",
       "      <td>1.514332</td>\n",
       "      <td>74.825</td>\n",
       "      <td>-0.644246</td>\n",
       "      <td>4.166741</td>\n",
       "      <td>69.512609</td>\n",
       "    </tr>\n",
       "    <tr>\n",
       "      <th>2</th>\n",
       "      <td>91.023893</td>\n",
       "      <td>30.216667</td>\n",
       "      <td>122.794729</td>\n",
       "      <td>14973.101020</td>\n",
       "      <td>1.478461</td>\n",
       "      <td>1.344313</td>\n",
       "      <td>120.350</td>\n",
       "      <td>-0.741269</td>\n",
       "      <td>3.349433</td>\n",
       "      <td>66.538551</td>\n",
       "    </tr>\n",
       "    <tr>\n",
       "      <th>3</th>\n",
       "      <td>80.998834</td>\n",
       "      <td>30.916667</td>\n",
       "      <td>104.402483</td>\n",
       "      <td>10823.655597</td>\n",
       "      <td>3.200870</td>\n",
       "      <td>1.284423</td>\n",
       "      <td>106.900</td>\n",
       "      <td>-0.771841</td>\n",
       "      <td>4.323184</td>\n",
       "      <td>60.698696</td>\n",
       "    </tr>\n",
       "    <tr>\n",
       "      <th>4</th>\n",
       "      <td>136.699650</td>\n",
       "      <td>65.516667</td>\n",
       "      <td>149.172041</td>\n",
       "      <td>22096.687197</td>\n",
       "      <td>0.899069</td>\n",
       "      <td>1.087417</td>\n",
       "      <td>229.350</td>\n",
       "      <td>-0.899407</td>\n",
       "      <td>3.553729</td>\n",
       "      <td>113.303333</td>\n",
       "    </tr>\n",
       "  </tbody>\n",
       "</table>\n",
       "</div>"
      ],
      "text/plain": [
       "         mean     median      stddev      variance  kurtosis  coeff_of_var  \\\n",
       "0   34.117133  11.583333   45.756484   2079.014907  2.416487      1.336461   \n",
       "1  104.121096  23.633333  158.228121  24861.060346  2.792222      1.514332   \n",
       "2   91.023893  30.216667  122.794729  14973.101020  1.478461      1.344313   \n",
       "3   80.998834  30.916667  104.402483  10823.655597  3.200870      1.284423   \n",
       "4  136.699650  65.516667  149.172041  22096.687197  0.899069      1.087417   \n",
       "\n",
       "       iqr   minimum   maximum  trimmed_mean  \n",
       "0   46.425 -0.745624  3.775775     24.915652  \n",
       "1   74.825 -0.644246  4.166741     69.512609  \n",
       "2  120.350 -0.741269  3.349433     66.538551  \n",
       "3  106.900 -0.771841  4.323184     60.698696  \n",
       "4  229.350 -0.899407  3.553729    113.303333  "
      ]
     },
     "execution_count": 39,
     "metadata": {},
     "output_type": "execute_result"
    }
   ],
   "source": [
    "time_features[\"X_night\"].head()"
   ]
  },
  {
   "cell_type": "markdown",
   "id": "b31e54ba",
   "metadata": {},
   "source": [
    "### Frequency domain"
   ]
  },
  {
   "cell_type": "markdown",
   "id": "34024a88",
   "metadata": {},
   "source": [
    "Time features are extracted according to the article:\n",
    "- all of the features that were calculated for time domain\n",
    "- entropy\n",
    "- skewness\n",
    "- spectral flatness\n",
    "\n",
    "Also the \"Spectral Density\" feature has been interpreted as total average power, i.e. simply the sum for the frequency domain."
   ]
  },
  {
   "cell_type": "code",
   "execution_count": 40,
   "id": "3e00fffa",
   "metadata": {},
   "outputs": [],
   "source": [
    "from scipy.stats import entropy, skew"
   ]
  },
  {
   "cell_type": "code",
   "execution_count": 41,
   "id": "c339f0b1",
   "metadata": {},
   "outputs": [],
   "source": [
    "def spectral_flatness(X: np.ndarray) -> np.ndarray:    \n",
    "    # normalizing factor for each row: 1/N * sum(x)\n",
    "    norm = X.mean()\n",
    "    if norm == 0:\n",
    "        norm = 1\n",
    "    \n",
    "    X = np.log(X + 1e-20)  # add small number to avoid infinities\n",
    "    X = np.exp(X.mean()) / norm\n",
    "\n",
    "    return X"
   ]
  },
  {
   "cell_type": "code",
   "execution_count": 42,
   "id": "22e7bef0",
   "metadata": {},
   "outputs": [],
   "source": [
    "def extract_freq_features(X: np.ndarray) -> pd.DataFrame:\n",
    "    # features for non-standardized data\n",
    "    mean = np.nanmean(X, axis=1)\n",
    "    median = np.nanmedian(X, axis=1)\n",
    "    stddev = np.nanstd(X, axis=1, ddof=1)  # paper divides by (N - 1)\n",
    "    var = np.nanvar(X, axis=1)\n",
    "    kurt = kurtosis(X, axis=1, nan_policy=\"omit\")\n",
    "    coeff_of_var = variation(X, axis=1, nan_policy=\"omit\")\n",
    "    iq_range = iqr(X, axis=1, nan_policy=\"omit\")\n",
    "    \n",
    "    # Scipy doesn't have NaN option for trimmed mean or entropy, so we have to calculate them by hand\n",
    "    trimmed_mean = np.array([trim_mean(row[~np.isnan(row)], proportiontocut=0.1) for row in X])\n",
    "    \n",
    "    spectral_density = np.nansum(X, axis=1)\n",
    "    skewness = skew(X, axis=1, nan_policy=\"omit\")\n",
    "    entr = np.array([entropy(row[~np.isnan(row)], base=2) for row in X])\n",
    "    flatness = np.array([spectral_flatness(row[~np.isnan(row)]) for row in X])\n",
    "    \n",
    "    # standardization and features for standardized data\n",
    "    X = (X - mean.reshape(-1, 1)) / stddev.reshape(-1, 1)\n",
    "    \n",
    "    minimum = np.nanmin(X, axis=1)\n",
    "    maximum = np.nanmax(X, axis=1)\n",
    "    \n",
    "    features = {\n",
    "        \"mean\": mean,\n",
    "        \"median\": median,\n",
    "        \"stddev\": stddev,\n",
    "        \"variance\": var,\n",
    "        \"kurtosis\": kurt,\n",
    "        \"coeff_of_var\": coeff_of_var,\n",
    "        \"iqr\": iq_range,\n",
    "        \"minimum\": minimum,\n",
    "        \"maximum\": maximum,\n",
    "        \"trimmed_mean\": trimmed_mean,\n",
    "        \"spectral_density\": spectral_density,\n",
    "        \"skewness\": skewness,\n",
    "        \"entropy\": entr,\n",
    "        \"spectral_flatness\": flatness\n",
    "    }\n",
    "    return pd.DataFrame(features)"
   ]
  },
  {
   "cell_type": "code",
   "execution_count": 43,
   "id": "a83f101d",
   "metadata": {},
   "outputs": [],
   "source": [
    "freq_features = {}\n",
    "\n",
    "for arr_name in [\"X_night\", \"X_day\", \"X_all\"]:\n",
    "    freq_features[arr_name] = extract_freq_features(freq_data[arr_name])"
   ]
  },
  {
   "cell_type": "code",
   "execution_count": 44,
   "id": "45087525",
   "metadata": {},
   "outputs": [
    {
     "data": {
      "text/html": [
       "<div>\n",
       "<style scoped>\n",
       "    .dataframe tbody tr th:only-of-type {\n",
       "        vertical-align: middle;\n",
       "    }\n",
       "\n",
       "    .dataframe tbody tr th {\n",
       "        vertical-align: top;\n",
       "    }\n",
       "\n",
       "    .dataframe thead th {\n",
       "        text-align: right;\n",
       "    }\n",
       "</style>\n",
       "<table border=\"1\" class=\"dataframe\">\n",
       "  <thead>\n",
       "    <tr style=\"text-align: right;\">\n",
       "      <th></th>\n",
       "      <th>mean</th>\n",
       "      <th>median</th>\n",
       "      <th>stddev</th>\n",
       "      <th>variance</th>\n",
       "      <th>kurtosis</th>\n",
       "      <th>coeff_of_var</th>\n",
       "      <th>iqr</th>\n",
       "      <th>minimum</th>\n",
       "      <th>maximum</th>\n",
       "      <th>trimmed_mean</th>\n",
       "      <th>spectral_density</th>\n",
       "      <th>skewness</th>\n",
       "      <th>entropy</th>\n",
       "      <th>spectral_flatness</th>\n",
       "    </tr>\n",
       "  </thead>\n",
       "  <tbody>\n",
       "    <tr>\n",
       "      <th>0</th>\n",
       "      <td>34.117133</td>\n",
       "      <td>11.583333</td>\n",
       "      <td>45.756484</td>\n",
       "      <td>2079.014907</td>\n",
       "      <td>2.416487</td>\n",
       "      <td>1.336461</td>\n",
       "      <td>46.425</td>\n",
       "      <td>-0.745624</td>\n",
       "      <td>3.775775</td>\n",
       "      <td>24.915652</td>\n",
       "      <td>4878.750000</td>\n",
       "      <td>1.744960</td>\n",
       "      <td>6.114835</td>\n",
       "      <td>0.014998</td>\n",
       "    </tr>\n",
       "    <tr>\n",
       "      <th>1</th>\n",
       "      <td>104.121096</td>\n",
       "      <td>23.633333</td>\n",
       "      <td>158.228121</td>\n",
       "      <td>24861.060346</td>\n",
       "      <td>2.792222</td>\n",
       "      <td>1.514332</td>\n",
       "      <td>74.825</td>\n",
       "      <td>-0.644246</td>\n",
       "      <td>4.166741</td>\n",
       "      <td>69.512609</td>\n",
       "      <td>14889.316667</td>\n",
       "      <td>1.871353</td>\n",
       "      <td>5.923931</td>\n",
       "      <td>0.358771</td>\n",
       "    </tr>\n",
       "    <tr>\n",
       "      <th>2</th>\n",
       "      <td>91.023893</td>\n",
       "      <td>30.216667</td>\n",
       "      <td>122.794729</td>\n",
       "      <td>14973.101020</td>\n",
       "      <td>1.478461</td>\n",
       "      <td>1.344313</td>\n",
       "      <td>120.350</td>\n",
       "      <td>-0.741269</td>\n",
       "      <td>3.349433</td>\n",
       "      <td>66.538551</td>\n",
       "      <td>13016.416667</td>\n",
       "      <td>1.539269</td>\n",
       "      <td>6.030191</td>\n",
       "      <td>0.039675</td>\n",
       "    </tr>\n",
       "    <tr>\n",
       "      <th>3</th>\n",
       "      <td>80.998834</td>\n",
       "      <td>30.916667</td>\n",
       "      <td>104.402483</td>\n",
       "      <td>10823.655597</td>\n",
       "      <td>3.200870</td>\n",
       "      <td>1.284423</td>\n",
       "      <td>106.900</td>\n",
       "      <td>-0.771841</td>\n",
       "      <td>4.323184</td>\n",
       "      <td>60.698696</td>\n",
       "      <td>11582.833333</td>\n",
       "      <td>1.797638</td>\n",
       "      <td>6.169682</td>\n",
       "      <td>0.363638</td>\n",
       "    </tr>\n",
       "    <tr>\n",
       "      <th>4</th>\n",
       "      <td>136.699650</td>\n",
       "      <td>65.516667</td>\n",
       "      <td>149.172041</td>\n",
       "      <td>22096.687197</td>\n",
       "      <td>0.899069</td>\n",
       "      <td>1.087417</td>\n",
       "      <td>229.350</td>\n",
       "      <td>-0.899407</td>\n",
       "      <td>3.553729</td>\n",
       "      <td>113.303333</td>\n",
       "      <td>19548.050000</td>\n",
       "      <td>1.209742</td>\n",
       "      <td>6.351476</td>\n",
       "      <td>0.435199</td>\n",
       "    </tr>\n",
       "  </tbody>\n",
       "</table>\n",
       "</div>"
      ],
      "text/plain": [
       "         mean     median      stddev      variance  kurtosis  coeff_of_var  \\\n",
       "0   34.117133  11.583333   45.756484   2079.014907  2.416487      1.336461   \n",
       "1  104.121096  23.633333  158.228121  24861.060346  2.792222      1.514332   \n",
       "2   91.023893  30.216667  122.794729  14973.101020  1.478461      1.344313   \n",
       "3   80.998834  30.916667  104.402483  10823.655597  3.200870      1.284423   \n",
       "4  136.699650  65.516667  149.172041  22096.687197  0.899069      1.087417   \n",
       "\n",
       "       iqr   minimum   maximum  trimmed_mean  spectral_density  skewness  \\\n",
       "0   46.425 -0.745624  3.775775     24.915652       4878.750000  1.744960   \n",
       "1   74.825 -0.644246  4.166741     69.512609      14889.316667  1.871353   \n",
       "2  120.350 -0.741269  3.349433     66.538551      13016.416667  1.539269   \n",
       "3  106.900 -0.771841  4.323184     60.698696      11582.833333  1.797638   \n",
       "4  229.350 -0.899407  3.553729    113.303333      19548.050000  1.209742   \n",
       "\n",
       "    entropy  spectral_flatness  \n",
       "0  6.114835           0.014998  \n",
       "1  5.923931           0.358771  \n",
       "2  6.030191           0.039675  \n",
       "3  6.169682           0.363638  \n",
       "4  6.351476           0.435199  "
      ]
     },
     "execution_count": 44,
     "metadata": {},
     "output_type": "execute_result"
    }
   ],
   "source": [
    "freq_features[\"X_night\"].head()"
   ]
  },
  {
   "cell_type": "markdown",
   "id": "4973a765",
   "metadata": {},
   "source": [
    "### Feature selection"
   ]
  },
  {
   "cell_type": "code",
   "execution_count": null,
   "id": "23b6a449",
   "metadata": {},
   "outputs": [],
   "source": []
  },
  {
   "cell_type": "code",
   "execution_count": null,
   "id": "purple-professional",
   "metadata": {},
   "outputs": [],
   "source": []
  }
 ],
 "metadata": {
  "kernelspec": {
   "display_name": "Python 3",
   "language": "python",
   "name": "python3"
  },
  "language_info": {
   "codemirror_mode": {
    "name": "ipython",
    "version": 3
   },
   "file_extension": ".py",
   "mimetype": "text/x-python",
   "name": "python",
   "nbconvert_exporter": "python",
   "pygments_lexer": "ipython3",
   "version": "3.8.3"
  }
 },
 "nbformat": 4,
 "nbformat_minor": 5
}
