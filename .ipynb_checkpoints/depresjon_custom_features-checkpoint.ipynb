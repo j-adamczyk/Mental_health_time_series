{
 "cells": [
  {
   "cell_type": "markdown",
   "id": "b0041c21",
   "metadata": {},
   "source": [
    "# Depresjon - custom features"
   ]
  },
  {
   "cell_type": "markdown",
   "id": "08880848",
   "metadata": {},
   "source": [
    "This notebook aims to get better results than the `depresjon_eda_and_basic_reproduction` one, using alternative hand-crafted features and other algorithms."
   ]
  },
  {
   "cell_type": "markdown",
   "id": "5832a907",
   "metadata": {},
   "source": [
    "## Libraries"
   ]
  },
  {
   "cell_type": "code",
   "execution_count": 200,
   "id": "decba8a4",
   "metadata": {},
   "outputs": [],
   "source": [
    "import os\n",
    "from typing import Callable, Tuple, Union\n",
    "\n",
    "import matplotlib.pyplot as plt\n",
    "import numpy as np\n",
    "import pandas as pd\n",
    "import scipy as sp"
   ]
  },
  {
   "cell_type": "markdown",
   "id": "e58d2257",
   "metadata": {},
   "source": [
    "## Data loading"
   ]
  },
  {
   "cell_type": "markdown",
   "id": "5483bf2d",
   "metadata": {},
   "source": [
    "This part largely follows the `depresjon_eda_and_basic_reproduction` notebook."
   ]
  },
  {
   "cell_type": "code",
   "execution_count": 201,
   "id": "066de9df",
   "metadata": {},
   "outputs": [],
   "source": [
    "data_dir = \"./depresjon_data\"\n",
    "condition_dir = os.path.join(data_dir, \"condition\")\n",
    "control_dir = os.path.join(data_dir, \"control\")\n",
    "scores_file = os.path.join(data_dir, \"scores.csv\")\n",
    "\n",
    "conditions = [pd.read_csv(os.path.join(condition_dir, filename)) for filename in os.listdir(condition_dir)]\n",
    "controls = [pd.read_csv(os.path.join(control_dir, filename)) for filename in os.listdir(control_dir)]"
   ]
  },
  {
   "cell_type": "code",
   "execution_count": 202,
   "id": "b56f6941",
   "metadata": {},
   "outputs": [
    {
     "data": {
      "text/html": [
       "<div>\n",
       "<style scoped>\n",
       "    .dataframe tbody tr th:only-of-type {\n",
       "        vertical-align: middle;\n",
       "    }\n",
       "\n",
       "    .dataframe tbody tr th {\n",
       "        vertical-align: top;\n",
       "    }\n",
       "\n",
       "    .dataframe thead th {\n",
       "        text-align: right;\n",
       "    }\n",
       "</style>\n",
       "<table border=\"1\" class=\"dataframe\">\n",
       "  <thead>\n",
       "    <tr style=\"text-align: right;\">\n",
       "      <th></th>\n",
       "      <th>number</th>\n",
       "      <th>days</th>\n",
       "      <th>gender</th>\n",
       "      <th>age</th>\n",
       "      <th>afftype</th>\n",
       "      <th>melanch</th>\n",
       "      <th>inpatient</th>\n",
       "      <th>edu</th>\n",
       "      <th>marriage</th>\n",
       "      <th>work</th>\n",
       "      <th>madrs1</th>\n",
       "      <th>madrs2</th>\n",
       "    </tr>\n",
       "  </thead>\n",
       "  <tbody>\n",
       "    <tr>\n",
       "      <th>0</th>\n",
       "      <td>condition_1</td>\n",
       "      <td>11</td>\n",
       "      <td>2</td>\n",
       "      <td>35-39</td>\n",
       "      <td>2.0</td>\n",
       "      <td>2.0</td>\n",
       "      <td>2.0</td>\n",
       "      <td>6-10</td>\n",
       "      <td>1.0</td>\n",
       "      <td>2.0</td>\n",
       "      <td>19.0</td>\n",
       "      <td>19.0</td>\n",
       "    </tr>\n",
       "    <tr>\n",
       "      <th>1</th>\n",
       "      <td>condition_2</td>\n",
       "      <td>18</td>\n",
       "      <td>2</td>\n",
       "      <td>40-44</td>\n",
       "      <td>1.0</td>\n",
       "      <td>2.0</td>\n",
       "      <td>2.0</td>\n",
       "      <td>6-10</td>\n",
       "      <td>2.0</td>\n",
       "      <td>2.0</td>\n",
       "      <td>24.0</td>\n",
       "      <td>11.0</td>\n",
       "    </tr>\n",
       "    <tr>\n",
       "      <th>2</th>\n",
       "      <td>condition_3</td>\n",
       "      <td>13</td>\n",
       "      <td>1</td>\n",
       "      <td>45-49</td>\n",
       "      <td>2.0</td>\n",
       "      <td>2.0</td>\n",
       "      <td>2.0</td>\n",
       "      <td>6-10</td>\n",
       "      <td>2.0</td>\n",
       "      <td>2.0</td>\n",
       "      <td>24.0</td>\n",
       "      <td>25.0</td>\n",
       "    </tr>\n",
       "    <tr>\n",
       "      <th>3</th>\n",
       "      <td>condition_4</td>\n",
       "      <td>13</td>\n",
       "      <td>2</td>\n",
       "      <td>25-29</td>\n",
       "      <td>2.0</td>\n",
       "      <td>2.0</td>\n",
       "      <td>2.0</td>\n",
       "      <td>11-15</td>\n",
       "      <td>1.0</td>\n",
       "      <td>1.0</td>\n",
       "      <td>20.0</td>\n",
       "      <td>16.0</td>\n",
       "    </tr>\n",
       "    <tr>\n",
       "      <th>4</th>\n",
       "      <td>condition_5</td>\n",
       "      <td>13</td>\n",
       "      <td>2</td>\n",
       "      <td>50-54</td>\n",
       "      <td>2.0</td>\n",
       "      <td>2.0</td>\n",
       "      <td>2.0</td>\n",
       "      <td>11-15</td>\n",
       "      <td>2.0</td>\n",
       "      <td>2.0</td>\n",
       "      <td>26.0</td>\n",
       "      <td>26.0</td>\n",
       "    </tr>\n",
       "  </tbody>\n",
       "</table>\n",
       "</div>"
      ],
      "text/plain": [
       "        number  days  gender    age  afftype  melanch  inpatient    edu  \\\n",
       "0  condition_1    11       2  35-39      2.0      2.0        2.0   6-10   \n",
       "1  condition_2    18       2  40-44      1.0      2.0        2.0   6-10   \n",
       "2  condition_3    13       1  45-49      2.0      2.0        2.0   6-10   \n",
       "3  condition_4    13       2  25-29      2.0      2.0        2.0  11-15   \n",
       "4  condition_5    13       2  50-54      2.0      2.0        2.0  11-15   \n",
       "\n",
       "   marriage  work  madrs1  madrs2  \n",
       "0       1.0   2.0    19.0    19.0  \n",
       "1       2.0   2.0    24.0    11.0  \n",
       "2       2.0   2.0    24.0    25.0  \n",
       "3       1.0   1.0    20.0    16.0  \n",
       "4       2.0   2.0    26.0    26.0  "
      ]
     },
     "execution_count": 202,
     "metadata": {},
     "output_type": "execute_result"
    }
   ],
   "source": [
    "static_data = pd.read_csv(scores_file)\n",
    "static_data.head()"
   ]
  },
  {
   "cell_type": "code",
   "execution_count": 203,
   "id": "21a3f480",
   "metadata": {},
   "outputs": [],
   "source": [
    "for df in (conditions + controls):\n",
    "    df[\"timestamp\"] = pd.to_datetime(df[\"timestamp\"], format=\"%Y-%m-%d %H:%M:%S\")\n",
    "\n",
    "for df in (conditions + controls):\n",
    "    if \"date\" in df.columns:\n",
    "        df.drop(\"date\", axis=1, inplace=True)"
   ]
  },
  {
   "cell_type": "markdown",
   "id": "13e8c809",
   "metadata": {},
   "source": [
    "## Feature engineering"
   ]
  },
  {
   "cell_type": "markdown",
   "id": "d7690b78",
   "metadata": {},
   "source": [
    "As my first modification, I throw out the hourly segmentation - we're calculating single number features anyway. All features are calculated directly from all data."
   ]
  },
  {
   "cell_type": "code",
   "execution_count": 204,
   "id": "b206f521",
   "metadata": {},
   "outputs": [],
   "source": [
    "from scipy.fft import fft"
   ]
  },
  {
   "cell_type": "code",
   "execution_count": 205,
   "id": "9a2654a1",
   "metadata": {},
   "outputs": [],
   "source": [
    "def total_power(df: pd.Series) -> pd.Series:\n",
    "    \"\"\"\n",
    "    Applies FFT and PSD to the input, calculating total power.\n",
    "    \"\"\"\n",
    "    df = df.to_numpy()\n",
    "    df = fft(df)  # returns np.ndarray\n",
    "    df = np.mean(np.square(np.abs(df)))  # PSD\n",
    "    return pd.Series(df)"
   ]
  },
  {
   "cell_type": "code",
   "execution_count": 206,
   "id": "6e322b7e",
   "metadata": {},
   "outputs": [],
   "source": [
    "conditions_time = conditions.copy()\n",
    "controls_time = controls.copy()\n",
    "\n",
    "conditions_freq = conditions.copy()\n",
    "controls_freq = controls.copy()"
   ]
  },
  {
   "cell_type": "markdown",
   "id": "e127158a",
   "metadata": {},
   "source": [
    "Day, night and all dataset division will still be used."
   ]
  },
  {
   "cell_type": "code",
   "execution_count": 207,
   "id": "892395be",
   "metadata": {},
   "outputs": [],
   "source": [
    "def get_night_day_division(df: pd.DataFrame) -> Tuple[pd.DataFrame, pd.DataFrame]:\n",
    "    night_df = df.loc[(df[\"timestamp\"].dt.hour >= 21) | (df[\"timestamp\"].dt.hour < 8)]\n",
    "    day_df = df.loc[(df[\"timestamp\"].dt.hour >= 8) & (df[\"timestamp\"].dt.hour < 21)]\n",
    "    return night_df, day_df"
   ]
  },
  {
   "cell_type": "code",
   "execution_count": 208,
   "id": "1eca0b40",
   "metadata": {},
   "outputs": [],
   "source": [
    "conditions_time_night = []\n",
    "conditions_time_day = []\n",
    "\n",
    "controls_time_night = []\n",
    "controls_time_day = []\n",
    "\n",
    "for df in conditions_time:\n",
    "    night_df, day_df = get_night_day_division(df)\n",
    "    conditions_time_night.append(night_df)\n",
    "    conditions_time_day.append(day_df)\n",
    "\n",
    "for df in controls_time:\n",
    "    night_df, day_df = get_night_day_division(df)\n",
    "    controls_time_night.append(night_df)\n",
    "    controls_time_day.append(day_df)"
   ]
  },
  {
   "cell_type": "code",
   "execution_count": 209,
   "id": "58908220",
   "metadata": {},
   "outputs": [],
   "source": [
    "conditions_freq_night = []\n",
    "conditions_freq_day = []\n",
    "\n",
    "controls_freq_night = []\n",
    "controls_freq_day = []\n",
    "\n",
    "for df in conditions_freq:\n",
    "    night_df, day_df = get_night_day_division(df)\n",
    "    conditions_freq_night.append(night_df)\n",
    "    conditions_freq_day.append(day_df)\n",
    "\n",
    "for df in controls_freq:\n",
    "    night_df, day_df = get_night_day_division(df)\n",
    "    controls_freq_night.append(night_df)\n",
    "    controls_freq_day.append(day_df)"
   ]
  },
  {
   "cell_type": "markdown",
   "id": "8dce49d8",
   "metadata": {},
   "source": [
    "Nothing will be trimmed to the same length - there is no need anyway, since we're calculating single numer aggregates. Reorganizing the variables will be useful, though, and extracting the Numpy arrays."
   ]
  },
  {
   "cell_type": "code",
   "execution_count": 210,
   "id": "1b2f3d76",
   "metadata": {},
   "outputs": [],
   "source": [
    "conditions_time = {\n",
    "    \"night\": [df[\"activity\"].values for df in conditions_time_night],\n",
    "    \"day\": [df[\"activity\"].values for df in conditions_time_day],\n",
    "    \"all\": [df[\"activity\"].values for df in conditions_time]\n",
    "}\n",
    "\n",
    "controls_time = {\n",
    "    \"night\": [df[\"activity\"].values for df in controls_time_night],\n",
    "    \"day\": [df[\"activity\"].values for df in controls_time_day],\n",
    "    \"all\": [df[\"activity\"].values for df in controls_time]\n",
    "}\n",
    "\n",
    "\n",
    "conditions_freq = {\n",
    "    \"night\": [df[\"activity\"].values for df in conditions_freq_night],\n",
    "    \"day\": [df[\"activity\"].values for df in conditions_freq_day],\n",
    "    \"all\": [df[\"activity\"].values for df in conditions_freq]\n",
    "}\n",
    "\n",
    "controls_freq = {\n",
    "    \"night\": [df[\"activity\"].values for df in controls_freq_night],\n",
    "    \"day\": [df[\"activity\"].values for df in controls_freq_day],\n",
    "    \"all\": [df[\"activity\"].values for df in controls_freq]\n",
    "}"
   ]
  },
  {
   "cell_type": "markdown",
   "id": "03bf2fa9",
   "metadata": {},
   "source": [
    "I'll still be working on lists of arrays, since lengths for patients are different. This is less pretty in code, but allows usage of more information."
   ]
  },
  {
   "cell_type": "markdown",
   "id": "5e519808",
   "metadata": {},
   "source": [
    "### Time domain"
   ]
  },
  {
   "cell_type": "markdown",
   "id": "707954f0",
   "metadata": {},
   "source": [
    "Time features are extracted in almost the same way as in the article, since those statistical aggregates generally make sense. I also add two features: the 1st and 3rd quartile, and skewness.\n",
    "Interquartile range only tells us about the range of \"medium\" values in between. We can suspect that depressed subjects will have high 1st quartile, especially in the day part, where their average activity is visibly lower (for reference see the paper).\n",
    "There is no particular reason to include skewness for the frequency part only. One could definitely espect a left (negatively) skewed distribution for depressed subjects.\n",
    "\n",
    "Features:\n",
    "- `mean`, `median`, `stddev`, `variance`, `kurtosis`, `minimum`, `maximum` - quite self explanatory statistical features\n",
    "- `coeff_of_var` - coefficient of variation, the ratio of the biased standard deviation to the mean\n",
    "- `iqr` - interquartile range, difference between 75 and 25 percentile (3rd and 1st quartile)\n",
    "- `trimmed_mean` - alternatively truncated mean with 10% trim percentage\n",
    "- `quartile1`, `quartile3` - quartiles, newly added\n",
    "- `skewness` - skewness, newly added\n",
    "\n",
    "Data is saved as a DataFrame, since some machine learning models can provide additional insight when using named columns."
   ]
  },
  {
   "cell_type": "code",
   "execution_count": 211,
   "id": "e3e43ac6",
   "metadata": {},
   "outputs": [],
   "source": [
    "from numpy import quantile\n",
    "from scipy.stats import iqr, kurtosis, skew, trim_mean, variation"
   ]
  },
  {
   "cell_type": "code",
   "execution_count": 212,
   "id": "e19922b4",
   "metadata": {},
   "outputs": [],
   "source": [
    "def extract_time_features(X: np.ndarray) -> pd.DataFrame:\n",
    "    X = X.astype(np.float64)  # make sure we have the right data type\n",
    "        \n",
    "    features = {\n",
    "        \"mean\": np.mean(X),\n",
    "        \"median\": np.median(X),\n",
    "        \"stddev\": np.std(X, ddof=1),  # (N - 1) for unbiased estimate\n",
    "        \"variance\": np.var(X),\n",
    "        \"kurtosis\": kurtosis(X),\n",
    "        \"coeff_of_var\": variation(X),\n",
    "        \"iqr\": iqr(X),\n",
    "        \"minimum\": np.min(X),\n",
    "        \"maximum\": np.max(X),\n",
    "        \"trimmed_mean\": trim_mean(X, proportiontocut=0.1),\n",
    "        \"quartile1\": quantile(X, 0.25),\n",
    "        \"quartile3\": quantile(X, 0.75),\n",
    "        \"skewness\": skew(X)\n",
    "    }\n",
    "    return features"
   ]
  },
  {
   "cell_type": "code",
   "execution_count": 218,
   "id": "2382d4de",
   "metadata": {},
   "outputs": [],
   "source": [
    "conditions_time_features = {}\n",
    "controls_time_features = {}\n",
    "\n",
    "for part in [\"night\", \"day\", \"all\"]:\n",
    "    conditions_time_features[part] = [extract_time_features(arr) for arr in conditions_time[part]]\n",
    "    controls_time_features[part] = [extract_time_features(arr) for arr in controls_time[part]]"
   ]
  },
  {
   "cell_type": "markdown",
   "id": "60468919",
   "metadata": {},
   "source": [
    "Now we have dictionaries of features, all of the same length. This means that we can easily create DataFrames from them, and also the target labels vector (it's the same for all 3 cases)."
   ]
  },
  {
   "cell_type": "code",
   "execution_count": 219,
   "id": "6b79c0d6",
   "metadata": {},
   "outputs": [],
   "source": [
    "X_night_time = pd.DataFrame(conditions_time_features[\"night\"] + controls_time_features[\"night\"])\n",
    "X_day_time = pd.DataFrame(conditions_time_features[\"day\"] + controls_time_features[\"day\"])\n",
    "X_all_time = pd.DataFrame(conditions_time_features[\"all\"] + controls_time_features[\"all\"])\n",
    "\n",
    "y = np.zeros(len(X_night))\n",
    "y[:len(conditions_time_features)] = 1"
   ]
  },
  {
   "cell_type": "markdown",
   "id": "35a9eee4",
   "metadata": {},
   "source": [
    "### Frequency domain"
   ]
  },
  {
   "cell_type": "markdown",
   "id": "8ee45d84",
   "metadata": {},
   "source": [
    "Time features are extracted similarly to the article, but with a few changes:\n",
    "- all of the features that were calculated for time domain, including newly added 1st and 3rd quartile and skewness\n",
    "- entropy\n",
    "- spectral flatness\n",
    "- \"Spectral Density\" has been omitted"
   ]
  },
  {
   "cell_type": "code",
   "execution_count": 222,
   "id": "a3ba4b73",
   "metadata": {},
   "outputs": [],
   "source": [
    "from scipy.stats import entropy"
   ]
  },
  {
   "cell_type": "code",
   "execution_count": 223,
   "id": "74b7a3a5",
   "metadata": {},
   "outputs": [],
   "source": [
    "def spectral_flatness(X: np.ndarray) -> np.ndarray:    \n",
    "    # normalizing factor for each row: 1/N * sum(x)\n",
    "    norm = X.mean()\n",
    "    if norm == 0:\n",
    "        norm = 1\n",
    "    \n",
    "    X = np.log(X + 1e-20)  # add small number to avoid infinities\n",
    "    X = np.exp(X.mean()) / norm\n",
    "\n",
    "    return X"
   ]
  },
  {
   "cell_type": "code",
   "execution_count": 224,
   "id": "d9485156",
   "metadata": {},
   "outputs": [],
   "source": [
    "def extract_freq_features(X: np.ndarray) -> pd.DataFrame:\n",
    "    X = X.astype(np.float64)  # make sure we have the right data type\n",
    "\n",
    "    features = {\n",
    "        \"mean\": np.mean(X),\n",
    "        \"median\": np.median(X),\n",
    "        \"stddev\": np.std(X, ddof=1),  # (N - 1) for unbiased estimate\n",
    "        \"variance\": np.var(X),\n",
    "        \"kurtosis\": kurtosis(X),\n",
    "        \"coeff_of_var\": variation(X),\n",
    "        \"iqr\": iqr(X),\n",
    "        \"minimum\": np.min(X),\n",
    "        \"maximum\": np.max(X),\n",
    "        \"trimmed_mean\": trim_mean(X, proportiontocut=0.1),\n",
    "        \"quartile1\": quantile(X, 0.25),\n",
    "        \"quartile3\": quantile(X, 0.75),\n",
    "        \"skewness\": skew(X),\n",
    "        \"entropy\": entropy(X, base=2),\n",
    "        \"flatness\": spectral_flatness(X)\n",
    "    }\n",
    "    return features"
   ]
  },
  {
   "cell_type": "code",
   "execution_count": 226,
   "id": "14eade36",
   "metadata": {},
   "outputs": [],
   "source": [
    "conditions_freq_features = {}\n",
    "controls_freq_features = {}\n",
    "\n",
    "for part in [\"night\", \"day\", \"all\"]:\n",
    "    conditions_freq_features[part] = [extract_freq_features(arr) for arr in conditions_freq[part]]\n",
    "    controls_freq_features[part] = [extract_freq_features(arr) for arr in controls_freq[part]]"
   ]
  },
  {
   "cell_type": "code",
   "execution_count": 227,
   "id": "f734af54",
   "metadata": {},
   "outputs": [],
   "source": [
    "X_night_freq = pd.DataFrame(conditions_freq_features[\"night\"] + controls_freq_features[\"night\"])\n",
    "X_day_freq = pd.DataFrame(conditions_freq_features[\"day\"] + controls_freq_features[\"day\"])\n",
    "X_all_freq = pd.DataFrame(conditions_freq_features[\"all\"] + controls_freq_features[\"all\"])"
   ]
  },
  {
   "cell_type": "markdown",
   "id": "bc1fa950",
   "metadata": {},
   "source": [
    "Now we can join our training data:"
   ]
  },
  {
   "cell_type": "code",
   "execution_count": 230,
   "id": "7034369f",
   "metadata": {},
   "outputs": [],
   "source": [
    "X_night = pd.merge(X_night_time, X_night_freq, \n",
    "                   left_index=True, right_index=True,\n",
    "                   suffixes=[\"_time\", \"_freq\"])\n",
    "\n",
    "X_day = pd.merge(X_day_time, X_day_freq, \n",
    "                 left_index=True, right_index=True,\n",
    "                 suffixes=[\"_time\", \"_freq\"])\n",
    "\n",
    "X_all = pd.merge(X_all_time, X_all_freq, \n",
    "                 left_index=True, right_index=True,\n",
    "                 suffixes=[\"_time\", \"_freq\"])"
   ]
  },
  {
   "cell_type": "markdown",
   "id": "67c8da5d",
   "metadata": {},
   "source": [
    "### Feature standardization"
   ]
  },
  {
   "cell_type": "markdown",
   "id": "3d6b4831",
   "metadata": {},
   "source": [
    "I'll create additional, standardized (i.e. subtracted mean, divided by standard deviation) datasets. This is because some classifiers like SVMs require this."
   ]
  },
  {
   "cell_type": "code",
   "execution_count": 233,
   "id": "ab8c1dfc",
   "metadata": {},
   "outputs": [],
   "source": [
    "from sklearn.preprocessing import scale"
   ]
  },
  {
   "cell_type": "code",
   "execution_count": 234,
   "id": "dd1858bb",
   "metadata": {},
   "outputs": [],
   "source": [
    "X_night_standard = scale(X_night)\n",
    "X_day_standard = scale(X_day)\n",
    "X_all_standard = scale(X_all)"
   ]
  },
  {
   "cell_type": "markdown",
   "id": "060997e7",
   "metadata": {},
   "source": [
    "## Feature selection"
   ]
  },
  {
   "cell_type": "markdown",
   "id": "3d2e3b3e",
   "metadata": {},
   "source": [
    "For selecting best features I decided to use RandomForest with very large number of trees. This explores many interactions between features, different combinations and checks the impact (e.g. reduction in entropy) coming from using them. It's also very fast for medium to large number of features that we have here.\n",
    "\n",
    "Note that class weighting is used, since we mostly care about our depressed subjects and they are the minority class (although the imbalance isn't particularly severe)."
   ]
  },
  {
   "cell_type": "code",
   "execution_count": 236,
   "id": "726e7f6b",
   "metadata": {},
   "outputs": [],
   "source": [
    "from sklearn.ensemble import RandomForestClassifier"
   ]
  },
  {
   "cell_type": "code",
   "execution_count": 245,
   "id": "eb394ec2",
   "metadata": {},
   "outputs": [],
   "source": [
    "importances = {}\n",
    "\n",
    "clf = RandomForestClassifier(n_estimators=10000, criterion=\"entropy\", n_jobs=-1, class_weight=\"balanced\", random_state=0)\n",
    "\n",
    "clf.fit(X_night, y)\n",
    "importances[\"night\"] = clf.feature_importances_\n",
    "\n",
    "clf.fit(X_day, y)\n",
    "importances[\"day\"] = clf.feature_importances_\n",
    "\n",
    "clf.fit(X_all, y)\n",
    "importances[\"all\"] = clf.feature_importances_"
   ]
  },
  {
   "cell_type": "markdown",
   "id": "66c5da23",
   "metadata": {},
   "source": [
    "Results are very interesting, as you can see below - we can definitely reject some of the features. Also some of them performed consistently good, and some performed consistently bad."
   ]
  },
  {
   "cell_type": "code",
   "execution_count": 257,
   "id": "d75e51d1",
   "metadata": {},
   "outputs": [
    {
     "data": {
      "image/png": "[encoded data removed]",
      "text/plain": [
       "<Figure size 360x432 with 1 Axes>"
      ]
     },
     "metadata": {
      "needs_background": "light"
     },
     "output_type": "display_data"
    }
   ],
   "source": [
    "df = pd.Series(importances[\"night\"], index=X_night.columns)\n",
    "plt.figure(figsize=(5, 6))\n",
    "df.nlargest(len(X_night.columns)).plot(kind=\"barh\")\n",
    "plt.title(\"Feature importances - night\")\n",
    "plt.show()"
   ]
  },
  {
   "cell_type": "markdown",
   "id": "11491633",
   "metadata": {},
   "source": [
    "We have quite a few features here that performed really bad:\n",
    "- `minimum_time`, `minimum_freq` - makes sense, it probably often be 0, when people sleep\n",
    "- 1st quartile features - at night mostly flat activity curves are expected for both groupes\n",
    "- `flatness` - I currently have no special explanation for this\n",
    "- `median_time`, `median_freq` - most common value will probably be just 0 or near zero, just like with the minimum\n",
    "\n",
    "There are also features that performed really well:\n",
    "- `entropy` - perhaps connected to peaks in activity?\n",
    "- `maximum_time`, `maximum_freq` - signifies whether someone had peaks of activity or not (normal, non-depressed people should just sleep)\n",
    "- `kurtosis_time`, `kurtosis_freq` - maybe the depressed patients have more heavy-tailed distributions, e.g. phases with high activity and with next to none activity\n",
    "\n",
    "It should be noted that often features for both time and frequency domain have similar importance. It may be worth checking if unifying the features, e.g. adding entropy to the time domain would improve performance."
   ]
  },
  {
   "cell_type": "code",
   "execution_count": 256,
   "id": "689fa458",
   "metadata": {},
   "outputs": [
    {
     "data": {
      "image/png": "[encoded data removed]",
      "text/plain": [
       "<Figure size 360x432 with 1 Axes>"
      ]
     },
     "metadata": {
      "needs_background": "light"
     },
     "output_type": "display_data"
    }
   ],
   "source": [
    "df = pd.Series(importances[\"day\"], index=X_day.columns)\n",
    "plt.figure(figsize=(5, 6))\n",
    "df.nlargest(len(X_day.columns)).plot(kind=\"barh\")\n",
    "plt.title(\"Feature importances - day\")\n",
    "plt.show()"
   ]
  },
  {
   "cell_type": "markdown",
   "id": "b01144b6",
   "metadata": {},
   "source": [
    "Situation during the day is much less clear, which is similar to the conclusion from the paper.\n",
    "\n",
    "The worst features are still minima in both domain, and flatness is next least important one, but is much more relevant than is was during the night.\n",
    "\n",
    "The best features are:\n",
    "- `maximum_time`, `maximum_freq` - makes sense and may show that the depressed patients are not only less active on average, but even taking into account activity peaks\n",
    "- `skewness_time`, `skewness_freq` - tail of the distribution is shown to be important, also adding the skewness to the time domain turns out to be highly beneficial\n",
    "- `kurtosis_time`, `kurtosis_freq` - even more features describing the overall shape of the distribution; it's clear that condition and control groups form vastly different activity distributions"
   ]
  },
  {
   "cell_type": "code",
   "execution_count": 258,
   "id": "f8b750f6",
   "metadata": {},
   "outputs": [
    {
     "data": {
      "image/png": "[encoded data removed]",
      "text/plain": [
       "<Figure size 360x432 with 1 Axes>"
      ]
     },
     "metadata": {
      "needs_background": "light"
     },
     "output_type": "display_data"
    }
   ],
   "source": [
    "df = pd.Series(importances[\"all\"], index=X_all.columns)\n",
    "plt.figure(figsize=(5, 6))\n",
    "df.nlargest(len(X_all.columns)).plot(kind=\"barh\")\n",
    "plt.title(\"Feature importances - all\")\n",
    "plt.show()"
   ]
  },
  {
   "cell_type": "markdown",
   "id": "bb9a24c2",
   "metadata": {},
   "source": [
    "When taking into account all features, the situation is a mix of night and day conclusions. The worst features are just like in the night data, while the overall importances (quite high for many features) are similar to the results for day data. \n",
    "\n",
    "Best feature is by far `entropy`, which is calculated only in the frequency domain. With such a high dominance it will be definitely worth checking how will it perform when calculated also for the time domain."
   ]
  },
  {
   "cell_type": "markdown",
   "id": "8b30beff",
   "metadata": {},
   "source": [
    "## Testing approach"
   ]
  },
  {
   "cell_type": "markdown",
   "id": "362aa258",
   "metadata": {},
   "source": [
    "With only 55 samples and class imbalance (only 23 samples in the condition group) I've decided to not use test set and rely on 4-fold cross validation. While this may definitely be a controversial decision, I believe that with such a low number of samples and relatively high number of features it has to be done. The test set of reasonable size (leaving enough samples for training and validation) would be only 3-4 samples from condition and control groups anyway, which is not large enough to be a reasonable approximation of the generalization error."
   ]
  },
  {
   "cell_type": "code",
   "execution_count": 289,
   "id": "44ddc914",
   "metadata": {},
   "outputs": [],
   "source": [
    "from sklearn.model_selection import cross_val_score"
   ]
  },
  {
   "cell_type": "code",
   "execution_count": 290,
   "id": "aa72210a",
   "metadata": {},
   "outputs": [],
   "source": [
    "def print_cv_raport(cv_results: np.ndarray) -> None:\n",
    "    print(f\"Accuracy: {cv_results.mean():.2f} ± {np.std(cv_results):.2f}\")\n",
    "    print(f\"Min: {cv_results.min():.2f}\")\n",
    "    print(f\"Max: {cv_results.max():.2f}\")"
   ]
  },
  {
   "cell_type": "markdown",
   "id": "a914b751",
   "metadata": {},
   "source": [
    "## Random Forest classifier"
   ]
  },
  {
   "cell_type": "code",
   "execution_count": 291,
   "id": "ac81ee70",
   "metadata": {},
   "outputs": [],
   "source": [
    "from sklearn.ensemble import RandomForestClassifier"
   ]
  },
  {
   "cell_type": "code",
   "execution_count": 292,
   "id": "732e8fe6",
   "metadata": {},
   "outputs": [
    {
     "name": "stderr",
     "output_type": "stream",
     "text": [
      "C:\\Users\\jakub\\anaconda3\\lib\\site-packages\\sklearn\\model_selection\\_split.py:668: UserWarning: The least populated class in y has only 3 members, which is less than n_splits=4.\n",
      "  % (min_groups, self.n_splits)), UserWarning)\n"
     ]
    }
   ],
   "source": [
    "clf = RandomForestClassifier(n_estimators=1000, n_jobs=-1, class_weight=\"balanced\", random_state=0)\n",
    "cv_scores = cross_val_score(clf, X_night, y, scoring=\"accuracy\", cv=4, n_jobs=-1)"
   ]
  },
  {
   "cell_type": "code",
   "execution_count": 294,
   "id": "4708d1f7",
   "metadata": {},
   "outputs": [
    {
     "name": "stdout",
     "output_type": "stream",
     "text": [
      "Accuracy: 0.95 ± 0.03\n",
      "Min: 0.93\n",
      "Max: 1.00\n"
     ]
    }
   ],
   "source": [
    "print_cv_raport(cv_scores)"
   ]
  },
  {
   "cell_type": "markdown",
   "id": "25a0e39f",
   "metadata": {},
   "source": [
    "## XGBoost"
   ]
  },
  {
   "cell_type": "code",
   "execution_count": null,
   "id": "c767dd86",
   "metadata": {},
   "outputs": [],
   "source": [
    "from hyperopt import Trials, STATUS_OK, tpe, hp, fmin\n",
    "from sklearn.model_selection import KFold\n",
    "import xgboost as xgb"
   ]
  },
  {
   "cell_type": "code",
   "execution_count": null,
   "id": "bb8b98cc",
   "metadata": {
    "scrolled": false
   },
   "outputs": [],
   "source": [
    "\"\"\"search_spaces = {\n",
    "        \"learning_rate\": Real(0.01, 1.0, \"log-uniform\"),  # eta\n",
    "        \"min_split_loss\": Real(1e-3, 0.5, \"log-uniform\"),  # gamma\n",
    "        \"max_depth\": Integer(1, 50),\n",
    "        \"min_child_weight\": Real(0.5, 10, \"log-uniform\"),\n",
    "        \"subsample\": Real(0.5, 1.0, \"uniform\"),\n",
    "        \"colsample_bytree\": Real(0.5, 1.0, \"uniform\"),\n",
    "        \"colsample_bynode\": Real(0.5, 1.0, \"uniform\"),\n",
    "        \"lambda\": Real(1e-3, 1000, \"log-uniform\"),  # L2 regularization\n",
    "        \"alpha\": Real(1e-3, 1.0, \"log-uniform\"),  # L1 regularization\n",
    "        \"n_estimators\": Integer(50, 100)\n",
    "}\"\"\"\n",
    "\n",
    "space = {\n",
    "    'max_depth' : hp.choice('max_depth', range(5, 30, 1)),\n",
    "    'learning_rate' : hp.quniform('learning_rate', 0.01, 0.5, 0.01),\n",
    "    'n_estimators' : hp.choice('n_estimators', range(20, 205, 5)),\n",
    "    'gamma' : hp.quniform('gamma', 0, 0.50, 0.01),\n",
    "    'min_child_weight' : hp.quniform('min_child_weight', 1, 10, 1),\n",
    "    'subsample' : hp.quniform('subsample', 0.1, 1, 0.01),\n",
    "    'colsample_bytree' : hp.quniform('colsample_bytree', 0.1, 1.0, 0.01)}\n",
    "\n",
    "cross_validator = ShuffleSplit(test_size=0.3, random_state=0)\n",
    "\n",
    "\"\"\"bayesian_optimizer = BayesSearchCV(\n",
    "    estimator=base_estimator,\n",
    "    search_spaces=search_spaces,\n",
    "    scoring=scoring,\n",
    "    cv=CV,\n",
    "    n_jobs=-1,\n",
    "    n_iter=50,\n",
    "    random_state=0\n",
    ")\"\"\"\n",
    "\n",
    "X_train, y_train = X_tmp, y_night\n",
    "import sys\n",
    "if not sys.warnoptions:\n",
    "    import warnings\n",
    "    warnings.simplefilter(\"ignore\")\n",
    "\n",
    "def objective(space):\n",
    "    classifier = xgb.XGBClassifier(n_estimators = space['n_estimators'],\n",
    "                            max_depth = int(space['max_depth']),\n",
    "                            learning_rate = space['learning_rate'],\n",
    "                            gamma = space['gamma'],\n",
    "                            min_child_weight = space['min_child_weight'],\n",
    "                            subsample = space['subsample'],\n",
    "                            colsample_bytree = space['colsample_bytree'],\n",
    "                            eval_metric=\"error\",\n",
    "                            n_jobs=-1)\n",
    "    \n",
    "    classifier.fit(X_train, y_train)\n",
    "    accuracies = cross_val_score(estimator = classifier, X = X_train, y = y_train, cv = cross_validator)\n",
    "    CrossValMean = accuracies.mean()\n",
    "    return {'loss': 1 - CrossValMean, 'status': STATUS_OK }\n",
    "\n",
    "trials = Trials()\n",
    "best = fmin(fn=objective,\n",
    "            space=space,\n",
    "            algo=tpe.suggest,\n",
    "            max_evals=50,\n",
    "            trials=trials)\n",
    "\n",
    "classifier = xgb.XGBClassifier(n_estimators = best['n_estimators'],\n",
    "                            max_depth = best['max_depth'],\n",
    "                            learning_rate = best['learning_rate'],\n",
    "                            gamma = best['gamma'],\n",
    "                            min_child_weight = best['min_child_weight'],\n",
    "                            subsample = best['subsample'],\n",
    "                            colsample_bytree = best['colsample_bytree'],\n",
    "                            eval_metric=\"error\",\n",
    "                            n_jobs=-1\n",
    "                            )\n",
    "\n",
    "classifier.fit(X_train, y_train)"
   ]
  },
  {
   "cell_type": "code",
   "execution_count": null,
   "id": "489ef47c",
   "metadata": {},
   "outputs": [],
   "source": [
    "from sklearn.model_selection import cross_val_score\n",
    "accuracies = cross_val_score(estimator = classifier, X = X_tmp, y = y_train, cv = cross_validator)\n",
    "print(accuracies)\n",
    "print(accuracies.mean())\n"
   ]
  },
  {
   "cell_type": "code",
   "execution_count": null,
   "id": "70bc4c72",
   "metadata": {},
   "outputs": [],
   "source": []
  }
 ],
 "metadata": {
  "kernelspec": {
   "display_name": "Python 3",
   "language": "python",
   "name": "python3"
  },
  "language_info": {
   "codemirror_mode": {
    "name": "ipython",
    "version": 3
   },
   "file_extension": ".py",
   "mimetype": "text/x-python",
   "name": "python",
   "nbconvert_exporter": "python",
   "pygments_lexer": "ipython3",
   "version": "3.8.3"
  }
 },
 "nbformat": 4,
 "nbformat_minor": 5
}
