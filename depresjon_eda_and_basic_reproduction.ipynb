{
 "cells": [
  {
   "cell_type": "markdown",
   "id": "5f347b00",
   "metadata": {},
   "source": [
    "# Depresjon - basic feature engineering"
   ]
  },
  {
   "cell_type": "markdown",
   "id": "23b2a9c9",
   "metadata": {},
   "source": [
    "This notebook aims to recreate feature engineering for Depresjon dataset from paper \"Comparison of Night, Day and 24 h Motor Activity Data for the Classification of Depressive Episodes\"."
   ]
  },
  {
   "cell_type": "markdown",
   "id": "875d4944",
   "metadata": {},
   "source": [
    "## Libraries"
   ]
  },
  {
   "cell_type": "code",
   "execution_count": 1,
   "id": "659cd1ac",
   "metadata": {},
   "outputs": [],
   "source": [
    "import os\n",
    "from typing import Tuple\n",
    "\n",
    "import matplotlib.pyplot as plt\n",
    "import numpy as np\n",
    "import pandas as pd\n",
    "import scipy as sp"
   ]
  },
  {
   "cell_type": "markdown",
   "id": "082b9ff1",
   "metadata": {},
   "source": [
    "## Data loading"
   ]
  },
  {
   "cell_type": "markdown",
   "id": "18ec0ccc",
   "metadata": {},
   "source": [
    "First, we have to load the data."
   ]
  },
  {
   "cell_type": "code",
   "execution_count": 2,
   "id": "efb91083",
   "metadata": {},
   "outputs": [],
   "source": [
    "data_dir = \"./depresjon_data\"\n",
    "condition_dir = os.path.join(data_dir, \"condition\")\n",
    "control_dir = os.path.join(data_dir, \"control\")\n",
    "scores_file = os.path.join(data_dir, \"scores.csv\")"
   ]
  },
  {
   "cell_type": "markdown",
   "id": "68ea7c8e",
   "metadata": {},
   "source": [
    "`condition` and `control` directories contain CSV files with measurements, one file per person. For example, `condition_1.csv` contains measurements for patient 1 diagnosed with depression.\n",
    "\n",
    "Those files are read into a list of dataframes, since this makes them easy to process later."
   ]
  },
  {
   "cell_type": "code",
   "execution_count": 3,
   "id": "d73340b7",
   "metadata": {},
   "outputs": [],
   "source": [
    "conditions = [pd.read_csv(os.path.join(condition_dir, filename)) for filename in os.listdir(condition_dir)]\n",
    "controls = [pd.read_csv(os.path.join(control_dir, filename)) for filename in os.listdir(control_dir)]"
   ]
  },
  {
   "cell_type": "code",
   "execution_count": 4,
   "id": "004b1280",
   "metadata": {},
   "outputs": [
    {
     "data": {
      "text/html": [
       "<div>\n",
       "<style scoped>\n",
       "    .dataframe tbody tr th:only-of-type {\n",
       "        vertical-align: middle;\n",
       "    }\n",
       "\n",
       "    .dataframe tbody tr th {\n",
       "        vertical-align: top;\n",
       "    }\n",
       "\n",
       "    .dataframe thead th {\n",
       "        text-align: right;\n",
       "    }\n",
       "</style>\n",
       "<table border=\"1\" class=\"dataframe\">\n",
       "  <thead>\n",
       "    <tr style=\"text-align: right;\">\n",
       "      <th></th>\n",
       "      <th>timestamp</th>\n",
       "      <th>date</th>\n",
       "      <th>activity</th>\n",
       "    </tr>\n",
       "  </thead>\n",
       "  <tbody>\n",
       "    <tr>\n",
       "      <th>0</th>\n",
       "      <td>2003-05-07 12:00:00</td>\n",
       "      <td>2003-05-07</td>\n",
       "      <td>0</td>\n",
       "    </tr>\n",
       "    <tr>\n",
       "      <th>1</th>\n",
       "      <td>2003-05-07 12:01:00</td>\n",
       "      <td>2003-05-07</td>\n",
       "      <td>143</td>\n",
       "    </tr>\n",
       "    <tr>\n",
       "      <th>2</th>\n",
       "      <td>2003-05-07 12:02:00</td>\n",
       "      <td>2003-05-07</td>\n",
       "      <td>0</td>\n",
       "    </tr>\n",
       "    <tr>\n",
       "      <th>3</th>\n",
       "      <td>2003-05-07 12:03:00</td>\n",
       "      <td>2003-05-07</td>\n",
       "      <td>20</td>\n",
       "    </tr>\n",
       "    <tr>\n",
       "      <th>4</th>\n",
       "      <td>2003-05-07 12:04:00</td>\n",
       "      <td>2003-05-07</td>\n",
       "      <td>166</td>\n",
       "    </tr>\n",
       "  </tbody>\n",
       "</table>\n",
       "</div>"
      ],
      "text/plain": [
       "             timestamp        date  activity\n",
       "0  2003-05-07 12:00:00  2003-05-07         0\n",
       "1  2003-05-07 12:01:00  2003-05-07       143\n",
       "2  2003-05-07 12:02:00  2003-05-07         0\n",
       "3  2003-05-07 12:03:00  2003-05-07        20\n",
       "4  2003-05-07 12:04:00  2003-05-07       166"
      ]
     },
     "execution_count": 4,
     "metadata": {},
     "output_type": "execute_result"
    }
   ],
   "source": [
    "conditions[0].head()"
   ]
  },
  {
   "cell_type": "markdown",
   "id": "897a6036",
   "metadata": {},
   "source": [
    "The `scores.csv` file contains static information about patients."
   ]
  },
  {
   "cell_type": "code",
   "execution_count": 5,
   "id": "64366c73",
   "metadata": {},
   "outputs": [
    {
     "data": {
      "text/html": [
       "<div>\n",
       "<style scoped>\n",
       "    .dataframe tbody tr th:only-of-type {\n",
       "        vertical-align: middle;\n",
       "    }\n",
       "\n",
       "    .dataframe tbody tr th {\n",
       "        vertical-align: top;\n",
       "    }\n",
       "\n",
       "    .dataframe thead th {\n",
       "        text-align: right;\n",
       "    }\n",
       "</style>\n",
       "<table border=\"1\" class=\"dataframe\">\n",
       "  <thead>\n",
       "    <tr style=\"text-align: right;\">\n",
       "      <th></th>\n",
       "      <th>number</th>\n",
       "      <th>days</th>\n",
       "      <th>gender</th>\n",
       "      <th>age</th>\n",
       "      <th>afftype</th>\n",
       "      <th>melanch</th>\n",
       "      <th>inpatient</th>\n",
       "      <th>edu</th>\n",
       "      <th>marriage</th>\n",
       "      <th>work</th>\n",
       "      <th>madrs1</th>\n",
       "      <th>madrs2</th>\n",
       "    </tr>\n",
       "  </thead>\n",
       "  <tbody>\n",
       "    <tr>\n",
       "      <th>0</th>\n",
       "      <td>condition_1</td>\n",
       "      <td>11</td>\n",
       "      <td>2</td>\n",
       "      <td>35-39</td>\n",
       "      <td>2.0</td>\n",
       "      <td>2.0</td>\n",
       "      <td>2.0</td>\n",
       "      <td>6-10</td>\n",
       "      <td>1.0</td>\n",
       "      <td>2.0</td>\n",
       "      <td>19.0</td>\n",
       "      <td>19.0</td>\n",
       "    </tr>\n",
       "    <tr>\n",
       "      <th>1</th>\n",
       "      <td>condition_2</td>\n",
       "      <td>18</td>\n",
       "      <td>2</td>\n",
       "      <td>40-44</td>\n",
       "      <td>1.0</td>\n",
       "      <td>2.0</td>\n",
       "      <td>2.0</td>\n",
       "      <td>6-10</td>\n",
       "      <td>2.0</td>\n",
       "      <td>2.0</td>\n",
       "      <td>24.0</td>\n",
       "      <td>11.0</td>\n",
       "    </tr>\n",
       "    <tr>\n",
       "      <th>2</th>\n",
       "      <td>condition_3</td>\n",
       "      <td>13</td>\n",
       "      <td>1</td>\n",
       "      <td>45-49</td>\n",
       "      <td>2.0</td>\n",
       "      <td>2.0</td>\n",
       "      <td>2.0</td>\n",
       "      <td>6-10</td>\n",
       "      <td>2.0</td>\n",
       "      <td>2.0</td>\n",
       "      <td>24.0</td>\n",
       "      <td>25.0</td>\n",
       "    </tr>\n",
       "    <tr>\n",
       "      <th>3</th>\n",
       "      <td>condition_4</td>\n",
       "      <td>13</td>\n",
       "      <td>2</td>\n",
       "      <td>25-29</td>\n",
       "      <td>2.0</td>\n",
       "      <td>2.0</td>\n",
       "      <td>2.0</td>\n",
       "      <td>11-15</td>\n",
       "      <td>1.0</td>\n",
       "      <td>1.0</td>\n",
       "      <td>20.0</td>\n",
       "      <td>16.0</td>\n",
       "    </tr>\n",
       "    <tr>\n",
       "      <th>4</th>\n",
       "      <td>condition_5</td>\n",
       "      <td>13</td>\n",
       "      <td>2</td>\n",
       "      <td>50-54</td>\n",
       "      <td>2.0</td>\n",
       "      <td>2.0</td>\n",
       "      <td>2.0</td>\n",
       "      <td>11-15</td>\n",
       "      <td>2.0</td>\n",
       "      <td>2.0</td>\n",
       "      <td>26.0</td>\n",
       "      <td>26.0</td>\n",
       "    </tr>\n",
       "  </tbody>\n",
       "</table>\n",
       "</div>"
      ],
      "text/plain": [
       "        number  days  gender    age  afftype  melanch  inpatient    edu  \\\n",
       "0  condition_1    11       2  35-39      2.0      2.0        2.0   6-10   \n",
       "1  condition_2    18       2  40-44      1.0      2.0        2.0   6-10   \n",
       "2  condition_3    13       1  45-49      2.0      2.0        2.0   6-10   \n",
       "3  condition_4    13       2  25-29      2.0      2.0        2.0  11-15   \n",
       "4  condition_5    13       2  50-54      2.0      2.0        2.0  11-15   \n",
       "\n",
       "   marriage  work  madrs1  madrs2  \n",
       "0       1.0   2.0    19.0    19.0  \n",
       "1       2.0   2.0    24.0    11.0  \n",
       "2       2.0   2.0    24.0    25.0  \n",
       "3       1.0   1.0    20.0    16.0  \n",
       "4       2.0   2.0    26.0    26.0  "
      ]
     },
     "execution_count": 5,
     "metadata": {},
     "output_type": "execute_result"
    }
   ],
   "source": [
    "static_data = pd.read_csv(scores_file)\n",
    "static_data.head()"
   ]
  },
  {
   "cell_type": "markdown",
   "id": "d5523a63",
   "metadata": {},
   "source": [
    "## Exploratory data analysis"
   ]
  },
  {
   "cell_type": "markdown",
   "id": "a3345db9",
   "metadata": {},
   "source": [
    "We have the data loaded, now we can explore it: check number of measurements, number of columns, their types, missing values etc. First the data for time series will be checked, then for the static data."
   ]
  },
  {
   "cell_type": "markdown",
   "id": "94ea876d",
   "metadata": {},
   "source": [
    "### Number of patients"
   ]
  },
  {
   "cell_type": "code",
   "execution_count": 6,
   "id": "6fc97c74",
   "metadata": {},
   "outputs": [
    {
     "name": "stdout",
     "output_type": "stream",
     "text": [
      "Condition number: 23\n",
      "Control number: 32\n"
     ]
    },
    {
     "data": {
      "image/png": "[encoded data removed]",
      "text/plain": [
       "<Figure size 432x288 with 1 Axes>"
      ]
     },
     "metadata": {
      "needs_background": "light"
     },
     "output_type": "display_data"
    }
   ],
   "source": [
    "xs = [\"Condition\", \"Control\"]\n",
    "ys = [len(conditions), len(controls)]\n",
    "\n",
    "print(f\"Condition number: {len(conditions)}\")\n",
    "print(f\"Control number: {len(controls)}\")\n",
    "\n",
    "plt.bar(xs, ys)\n",
    "plt.xlabel(\"Group\")\n",
    "plt.ylabel(\"Patients\")\n",
    "plt.title(\"Number of patients per group\")\n",
    "plt.show()"
   ]
  },
  {
   "cell_type": "markdown",
   "id": "8317f9e8",
   "metadata": {},
   "source": [
    "We definitely have quite heavy imbalance, the control group being about 50% larger than the condition group. This influences many metrics and should be taken into consideration."
   ]
  },
  {
   "cell_type": "markdown",
   "id": "e6eaa3bd",
   "metadata": {},
   "source": [
    "### Measurements number"
   ]
  },
  {
   "cell_type": "code",
   "execution_count": 7,
   "id": "9c125f6b",
   "metadata": {},
   "outputs": [
    {
     "data": {
      "text/plain": [
       "count       23.000000\n",
       "mean     23987.652174\n",
       "std       5748.966513\n",
       "min      19299.000000\n",
       "25%      21463.000000\n",
       "50%      21648.000000\n",
       "75%      23117.000000\n",
       "max      41847.000000\n",
       "dtype: float64"
      ]
     },
     "execution_count": 7,
     "metadata": {},
     "output_type": "execute_result"
    }
   ],
   "source": [
    "condition_rows = pd.Series([len(df) for df in conditions])\n",
    "condition_rows.describe()"
   ]
  },
  {
   "cell_type": "code",
   "execution_count": 8,
   "id": "7cbf144e",
   "metadata": {},
   "outputs": [
    {
     "data": {
      "text/plain": [
       "count       32.000000\n",
       "mean     31874.687500\n",
       "std      12228.922745\n",
       "min      20490.000000\n",
       "25%      22258.500000\n",
       "50%      28257.000000\n",
       "75%      33683.000000\n",
       "max      65407.000000\n",
       "dtype: float64"
      ]
     },
     "execution_count": 8,
     "metadata": {},
     "output_type": "execute_result"
    }
   ],
   "source": [
    "control_rows = pd.Series([len(df) for df in controls])\n",
    "control_rows.describe()"
   ]
  },
  {
   "cell_type": "markdown",
   "id": "fe2c1ebe",
   "metadata": {},
   "source": [
    "We have greatly varying number of measurements for both condition and control group. In general measurements for control group are longer, but also more varied (both mean and standard deviation are higher). For fair assessment, where each patient gets the same chance to influence the model, the measurements should be of equal length for all cases. However, for calculating aggregations (e.g. mean / median value) this may not be necessary, since they typically reduce the data to a single number."
   ]
  },
  {
   "cell_type": "markdown",
   "id": "637e20bf",
   "metadata": {},
   "source": [
    "### Columns and types"
   ]
  },
  {
   "cell_type": "code",
   "execution_count": 9,
   "id": "b37f7db4",
   "metadata": {},
   "outputs": [
    {
     "data": {
      "text/html": [
       "<div>\n",
       "<style scoped>\n",
       "    .dataframe tbody tr th:only-of-type {\n",
       "        vertical-align: middle;\n",
       "    }\n",
       "\n",
       "    .dataframe tbody tr th {\n",
       "        vertical-align: top;\n",
       "    }\n",
       "\n",
       "    .dataframe thead th {\n",
       "        text-align: right;\n",
       "    }\n",
       "</style>\n",
       "<table border=\"1\" class=\"dataframe\">\n",
       "  <thead>\n",
       "    <tr style=\"text-align: right;\">\n",
       "      <th></th>\n",
       "      <th>timestamp</th>\n",
       "      <th>date</th>\n",
       "      <th>activity</th>\n",
       "    </tr>\n",
       "  </thead>\n",
       "  <tbody>\n",
       "    <tr>\n",
       "      <th>0</th>\n",
       "      <td>2003-05-07 12:00:00</td>\n",
       "      <td>2003-05-07</td>\n",
       "      <td>0</td>\n",
       "    </tr>\n",
       "    <tr>\n",
       "      <th>1</th>\n",
       "      <td>2003-05-07 12:01:00</td>\n",
       "      <td>2003-05-07</td>\n",
       "      <td>143</td>\n",
       "    </tr>\n",
       "    <tr>\n",
       "      <th>2</th>\n",
       "      <td>2003-05-07 12:02:00</td>\n",
       "      <td>2003-05-07</td>\n",
       "      <td>0</td>\n",
       "    </tr>\n",
       "    <tr>\n",
       "      <th>3</th>\n",
       "      <td>2003-05-07 12:03:00</td>\n",
       "      <td>2003-05-07</td>\n",
       "      <td>20</td>\n",
       "    </tr>\n",
       "    <tr>\n",
       "      <th>4</th>\n",
       "      <td>2003-05-07 12:04:00</td>\n",
       "      <td>2003-05-07</td>\n",
       "      <td>166</td>\n",
       "    </tr>\n",
       "  </tbody>\n",
       "</table>\n",
       "</div>"
      ],
      "text/plain": [
       "             timestamp        date  activity\n",
       "0  2003-05-07 12:00:00  2003-05-07         0\n",
       "1  2003-05-07 12:01:00  2003-05-07       143\n",
       "2  2003-05-07 12:02:00  2003-05-07         0\n",
       "3  2003-05-07 12:03:00  2003-05-07        20\n",
       "4  2003-05-07 12:04:00  2003-05-07       166"
      ]
     },
     "execution_count": 9,
     "metadata": {},
     "output_type": "execute_result"
    }
   ],
   "source": [
    "conditions[0].head()"
   ]
  },
  {
   "cell_type": "code",
   "execution_count": 10,
   "id": "6ccddfd7",
   "metadata": {},
   "outputs": [
    {
     "data": {
      "text/plain": [
       "timestamp    object\n",
       "date         object\n",
       "activity      int64\n",
       "dtype: object"
      ]
     },
     "execution_count": 10,
     "metadata": {},
     "output_type": "execute_result"
    }
   ],
   "source": [
    "conditions[0].dtypes"
   ]
  },
  {
   "cell_type": "markdown",
   "id": "14434777",
   "metadata": {},
   "source": [
    "For measurement files we have 3 columns:\n",
    "- timestamp with precise measurement date and time, with 1 minute measurement resolution\n",
    "- date, information already included in the timestamp\n",
    "- activity, the time series value\n",
    "\n",
    "Data types of columns are definitely wrong - `timestamp` should be a proper timestamp and the `date` column is redundant. This will be fixed in the preprocessing section."
   ]
  },
  {
   "cell_type": "markdown",
   "id": "0e687573",
   "metadata": {},
   "source": [
    "### Missing values"
   ]
  },
  {
   "cell_type": "code",
   "execution_count": 11,
   "id": "ffeb6eea",
   "metadata": {},
   "outputs": [
    {
     "data": {
      "text/plain": [
       "0.0"
      ]
     },
     "execution_count": 11,
     "metadata": {},
     "output_type": "execute_result"
    }
   ],
   "source": [
    "condition_NaNs = pd.Series([df[\"activity\"].isna().sum() for df in conditions])\n",
    "condition_NaNs.mean()"
   ]
  },
  {
   "cell_type": "code",
   "execution_count": 12,
   "id": "6bb4b605",
   "metadata": {},
   "outputs": [
    {
     "data": {
      "text/plain": [
       "0.0"
      ]
     },
     "execution_count": 12,
     "metadata": {},
     "output_type": "execute_result"
    }
   ],
   "source": [
    "control_NaNs = pd.Series([df[\"activity\"].isna().sum() for df in controls])\n",
    "control_NaNs.mean()"
   ]
  },
  {
   "cell_type": "markdown",
   "id": "22d11679",
   "metadata": {},
   "source": [
    "We have exactly 0 missing values for the dependent variable, activity. This means that the data was accurately gathered for all patients for the entire duration of measurement period."
   ]
  },
  {
   "cell_type": "markdown",
   "id": "d02fef6a",
   "metadata": {},
   "source": [
    "### Statis data"
   ]
  },
  {
   "cell_type": "code",
   "execution_count": 13,
   "id": "f540a88a",
   "metadata": {},
   "outputs": [
    {
     "data": {
      "text/html": [
       "<div>\n",
       "<style scoped>\n",
       "    .dataframe tbody tr th:only-of-type {\n",
       "        vertical-align: middle;\n",
       "    }\n",
       "\n",
       "    .dataframe tbody tr th {\n",
       "        vertical-align: top;\n",
       "    }\n",
       "\n",
       "    .dataframe thead th {\n",
       "        text-align: right;\n",
       "    }\n",
       "</style>\n",
       "<table border=\"1\" class=\"dataframe\">\n",
       "  <thead>\n",
       "    <tr style=\"text-align: right;\">\n",
       "      <th></th>\n",
       "      <th>number</th>\n",
       "      <th>days</th>\n",
       "      <th>gender</th>\n",
       "      <th>age</th>\n",
       "      <th>afftype</th>\n",
       "      <th>melanch</th>\n",
       "      <th>inpatient</th>\n",
       "      <th>edu</th>\n",
       "      <th>marriage</th>\n",
       "      <th>work</th>\n",
       "      <th>madrs1</th>\n",
       "      <th>madrs2</th>\n",
       "    </tr>\n",
       "  </thead>\n",
       "  <tbody>\n",
       "    <tr>\n",
       "      <th>0</th>\n",
       "      <td>condition_1</td>\n",
       "      <td>11</td>\n",
       "      <td>2</td>\n",
       "      <td>35-39</td>\n",
       "      <td>2.0</td>\n",
       "      <td>2.0</td>\n",
       "      <td>2.0</td>\n",
       "      <td>6-10</td>\n",
       "      <td>1.0</td>\n",
       "      <td>2.0</td>\n",
       "      <td>19.0</td>\n",
       "      <td>19.0</td>\n",
       "    </tr>\n",
       "    <tr>\n",
       "      <th>1</th>\n",
       "      <td>condition_2</td>\n",
       "      <td>18</td>\n",
       "      <td>2</td>\n",
       "      <td>40-44</td>\n",
       "      <td>1.0</td>\n",
       "      <td>2.0</td>\n",
       "      <td>2.0</td>\n",
       "      <td>6-10</td>\n",
       "      <td>2.0</td>\n",
       "      <td>2.0</td>\n",
       "      <td>24.0</td>\n",
       "      <td>11.0</td>\n",
       "    </tr>\n",
       "    <tr>\n",
       "      <th>2</th>\n",
       "      <td>condition_3</td>\n",
       "      <td>13</td>\n",
       "      <td>1</td>\n",
       "      <td>45-49</td>\n",
       "      <td>2.0</td>\n",
       "      <td>2.0</td>\n",
       "      <td>2.0</td>\n",
       "      <td>6-10</td>\n",
       "      <td>2.0</td>\n",
       "      <td>2.0</td>\n",
       "      <td>24.0</td>\n",
       "      <td>25.0</td>\n",
       "    </tr>\n",
       "    <tr>\n",
       "      <th>3</th>\n",
       "      <td>condition_4</td>\n",
       "      <td>13</td>\n",
       "      <td>2</td>\n",
       "      <td>25-29</td>\n",
       "      <td>2.0</td>\n",
       "      <td>2.0</td>\n",
       "      <td>2.0</td>\n",
       "      <td>11-15</td>\n",
       "      <td>1.0</td>\n",
       "      <td>1.0</td>\n",
       "      <td>20.0</td>\n",
       "      <td>16.0</td>\n",
       "    </tr>\n",
       "    <tr>\n",
       "      <th>4</th>\n",
       "      <td>condition_5</td>\n",
       "      <td>13</td>\n",
       "      <td>2</td>\n",
       "      <td>50-54</td>\n",
       "      <td>2.0</td>\n",
       "      <td>2.0</td>\n",
       "      <td>2.0</td>\n",
       "      <td>11-15</td>\n",
       "      <td>2.0</td>\n",
       "      <td>2.0</td>\n",
       "      <td>26.0</td>\n",
       "      <td>26.0</td>\n",
       "    </tr>\n",
       "  </tbody>\n",
       "</table>\n",
       "</div>"
      ],
      "text/plain": [
       "        number  days  gender    age  afftype  melanch  inpatient    edu  \\\n",
       "0  condition_1    11       2  35-39      2.0      2.0        2.0   6-10   \n",
       "1  condition_2    18       2  40-44      1.0      2.0        2.0   6-10   \n",
       "2  condition_3    13       1  45-49      2.0      2.0        2.0   6-10   \n",
       "3  condition_4    13       2  25-29      2.0      2.0        2.0  11-15   \n",
       "4  condition_5    13       2  50-54      2.0      2.0        2.0  11-15   \n",
       "\n",
       "   marriage  work  madrs1  madrs2  \n",
       "0       1.0   2.0    19.0    19.0  \n",
       "1       2.0   2.0    24.0    11.0  \n",
       "2       2.0   2.0    24.0    25.0  \n",
       "3       1.0   1.0    20.0    16.0  \n",
       "4       2.0   2.0    26.0    26.0  "
      ]
     },
     "execution_count": 13,
     "metadata": {},
     "output_type": "execute_result"
    }
   ],
   "source": [
    "static_data.head()"
   ]
  },
  {
   "cell_type": "code",
   "execution_count": 14,
   "id": "a6c35114",
   "metadata": {},
   "outputs": [
    {
     "data": {
      "text/plain": [
       "number        object\n",
       "days           int64\n",
       "gender         int64\n",
       "age           object\n",
       "afftype      float64\n",
       "melanch      float64\n",
       "inpatient    float64\n",
       "edu           object\n",
       "marriage     float64\n",
       "work         float64\n",
       "madrs1       float64\n",
       "madrs2       float64\n",
       "dtype: object"
      ]
     },
     "execution_count": 14,
     "metadata": {},
     "output_type": "execute_result"
    }
   ],
   "source": [
    "static_data.dtypes"
   ]
  },
  {
   "cell_type": "code",
   "execution_count": 15,
   "id": "64c7b222",
   "metadata": {},
   "outputs": [
    {
     "name": "stdout",
     "output_type": "stream",
     "text": [
      "number ['condition_1' 'condition_2' 'condition_3' 'condition_4' 'condition_5'\n",
      " 'condition_6' 'condition_7' 'condition_8' 'condition_9' 'condition_10'\n",
      " 'condition_11' 'condition_12' 'condition_13' 'condition_14'\n",
      " 'condition_15' 'condition_16' 'condition_17' 'condition_18'\n",
      " 'condition_19' 'condition_20' 'condition_21' 'condition_22'\n",
      " 'condition_23' 'control_1' 'control_2' 'control_3' 'control_4'\n",
      " 'control_5' 'control_6' 'control_7' 'control_8' 'control_9' 'control_10'\n",
      " 'control_11' 'control_12' 'control_13' 'control_14' 'control_15'\n",
      " 'control_16' 'control_17' 'control_18' 'control_19' 'control_20'\n",
      " 'control_21' 'control_22' 'control_23' 'control_24' 'control_25'\n",
      " 'control_26' 'control_27' 'control_28' 'control_29' 'control_30'\n",
      " 'control_31' 'control_32']\n",
      "days [11 18 13  7  5  9 14 12 16  8 20]\n",
      "gender [2 1]\n",
      "age ['35-39' '40-44' '45-49' '25-29' '50-54' '20-24' '60-64' '55-59' '30-34'\n",
      " '65-69']\n",
      "afftype [ 2.  1.  3. nan]\n",
      "melanch [ 2. nan  1.]\n",
      "inpatient [ 2.  1. nan]\n",
      "edu ['6-10' '11-15' '16-20' ' ' nan]\n",
      "marriage [ 1.  2. nan]\n",
      "work [ 2.  1. nan]\n",
      "madrs1 [19. 24. 20. 26. 18. 28. 25. 14. 13. 17. 27. 29. nan]\n",
      "madrs2 [19. 11. 25. 16. 26. 15. 21. 24. 13. 18. 17. 28. 23. nan]\n"
     ]
    }
   ],
   "source": [
    "for col in static_data.columns:\n",
    "    print(col, static_data[col].unique())"
   ]
  },
  {
   "cell_type": "markdown",
   "id": "f5b8e06d",
   "metadata": {},
   "source": [
    "Observations:\n",
    "- all data types seem correct\n",
    "- `number` is essentially an index for patients and should not be used as a feature\n",
    "- `days` indicate the number of data collection days, but this information is already included in the time series timestamps\n",
    "- `gender` is correct, but doesn't follow the usual convention of 0-1 values for binary features\n",
    "- `age` should be preprocessed to integers (e.g. `0` for <50 years, `1` for >= 50 years) for classification\n",
    "- `afftype` and `melanch` indicate the clinical state observations for depressed patients and are NaN for non-depressed controls\n",
    "- `edu`, `marriage` and `work` explain socioeconomic status of the patient\n",
    "- `madrs1` and `madrs2` are MADRS score for patients with condition at the beginning and at the end of measurements; they are not used for classification, but they could be used as regression targets"
   ]
  },
  {
   "cell_type": "markdown",
   "id": "cfa6a930",
   "metadata": {},
   "source": [
    "## Feature engineering"
   ]
  },
  {
   "cell_type": "markdown",
   "id": "d741abf5",
   "metadata": {},
   "source": [
    "In the paper several steps of feature engineering are introduced. They need to be performed, as the typical models for tabular data like Random Forest are used. This approach allows usage of classical ML algorithms on time series data, while also indirectly incorporating time dependencies in form of features derived from the signal."
   ]
  },
  {
   "cell_type": "markdown",
   "id": "a0e321ea",
   "metadata": {},
   "source": [
    "### Preprocessing"
   ]
  },
  {
   "cell_type": "markdown",
   "id": "61b79237",
   "metadata": {},
   "source": [
    "**Warning**: I've found out that the paper is actually inconsistent in what it says and does in the preprocessing. It states that:\n",
    "\"For the pre-processing stage, the next step are proposed. Since the total amount of data recorded for each subject is different, a new subset of data is extracted, adjusting the number of observations to be equal for each subject. Theh, from the new set of data, a segmentation is applied to form one hour data intervals. This segmentation allowed the classification of depressive episodes per hour.\n",
    "\n",
    "Therefore, based on the hourly segmentation, three different subsets are constructed; night motor activity (from 21 to 7 h taking into account the sunrise standard hours) [21], day motor activity (from 8 to 20 h) and finally all day motor activity with the total day hours. The number of observations contained in each dataset is shown in Table 1. After separated the data into day, night and 24 h data were cleaned from missing data.\"\n",
    "\n",
    "According to this, we should:\n",
    "- trim observations to the length of the shortest one, forming \"new set of data\" with same number of observations per subject\n",
    "- segment into 1-hour intervals, calculating average activity\n",
    "- create night dataset, day dataset and dataset with all observations\n",
    "\n",
    "According to the paper, they got the following number of hourly observations:\n",
    "- day: 14168\n",
    "- night: 11945\n",
    "- full data: 26113\n",
    "\n",
    "But this number is wrong. This is approximately the number of raw observations in the dataset, not number of hour segments. In addition, to make sure that night and day data has the same length, it should be trimmed to the same length after splitting. Corrected process:\n",
    "- segment data for each patient into 1-hour intervals, calculating average activity\n",
    "- create night dataset, day dataset and dataset with all observations\n",
    "- trim observations in each dataset to the length of the shortest one\n",
    "\n",
    "This way, we arrive at the following sequences lengths:\n",
    "- day: 9845\n",
    "- night: 7865\n",
    "- full data: 17710"
   ]
  },
  {
   "cell_type": "markdown",
   "id": "9a93f643",
   "metadata": {},
   "source": [
    "First, correct the data type of `timestamp` column and drop the redundant `date` column."
   ]
  },
  {
   "cell_type": "code",
   "execution_count": 16,
   "id": "45d7f546",
   "metadata": {},
   "outputs": [
    {
     "data": {
      "text/html": [
       "<div>\n",
       "<style scoped>\n",
       "    .dataframe tbody tr th:only-of-type {\n",
       "        vertical-align: middle;\n",
       "    }\n",
       "\n",
       "    .dataframe tbody tr th {\n",
       "        vertical-align: top;\n",
       "    }\n",
       "\n",
       "    .dataframe thead th {\n",
       "        text-align: right;\n",
       "    }\n",
       "</style>\n",
       "<table border=\"1\" class=\"dataframe\">\n",
       "  <thead>\n",
       "    <tr style=\"text-align: right;\">\n",
       "      <th></th>\n",
       "      <th>timestamp</th>\n",
       "      <th>activity</th>\n",
       "    </tr>\n",
       "  </thead>\n",
       "  <tbody>\n",
       "    <tr>\n",
       "      <th>0</th>\n",
       "      <td>2003-05-07 12:00:00</td>\n",
       "      <td>0</td>\n",
       "    </tr>\n",
       "    <tr>\n",
       "      <th>1</th>\n",
       "      <td>2003-05-07 12:01:00</td>\n",
       "      <td>143</td>\n",
       "    </tr>\n",
       "    <tr>\n",
       "      <th>2</th>\n",
       "      <td>2003-05-07 12:02:00</td>\n",
       "      <td>0</td>\n",
       "    </tr>\n",
       "    <tr>\n",
       "      <th>3</th>\n",
       "      <td>2003-05-07 12:03:00</td>\n",
       "      <td>20</td>\n",
       "    </tr>\n",
       "    <tr>\n",
       "      <th>4</th>\n",
       "      <td>2003-05-07 12:04:00</td>\n",
       "      <td>166</td>\n",
       "    </tr>\n",
       "  </tbody>\n",
       "</table>\n",
       "</div>"
      ],
      "text/plain": [
       "            timestamp  activity\n",
       "0 2003-05-07 12:00:00         0\n",
       "1 2003-05-07 12:01:00       143\n",
       "2 2003-05-07 12:02:00         0\n",
       "3 2003-05-07 12:03:00        20\n",
       "4 2003-05-07 12:04:00       166"
      ]
     },
     "execution_count": 16,
     "metadata": {},
     "output_type": "execute_result"
    }
   ],
   "source": [
    "for df in (conditions + controls):\n",
    "    df[\"timestamp\"] = pd.to_datetime(df[\"timestamp\"], format=\"%Y-%m-%d %H:%M:%S\")\n",
    "\n",
    "for df in (conditions + controls):\n",
    "    if \"date\" in df.columns:\n",
    "        df.drop(\"date\", axis=1, inplace=True)\n",
    "\n",
    "conditions[0].head()"
   ]
  },
  {
   "cell_type": "code",
   "execution_count": 17,
   "id": "2a294a3b",
   "metadata": {},
   "outputs": [
    {
     "data": {
      "text/plain": [
       "timestamp    datetime64[ns]\n",
       "activity              int64\n",
       "dtype: object"
      ]
     },
     "execution_count": 17,
     "metadata": {},
     "output_type": "execute_result"
    }
   ],
   "source": [
    "controls[1].dtypes"
   ]
  },
  {
   "cell_type": "markdown",
   "id": "ea7f0502",
   "metadata": {},
   "source": [
    "Next, group by hour and calculate mean hourly activity."
   ]
  },
  {
   "cell_type": "code",
   "execution_count": 18,
   "id": "6787c3ee",
   "metadata": {},
   "outputs": [],
   "source": [
    "def group_by_hour(df: pd.DataFrame) -> pd.DataFrame:\n",
    "    # group by hour, calculate means\n",
    "    timestamps = df[\"timestamp\"]\n",
    "    group_by_cols = [timestamps.dt.year, timestamps.dt.month, timestamps.dt.day, timestamps.dt.hour]\n",
    "    grouped = df.groupby(group_by_cols).mean()\n",
    "\n",
    "    # recreate flat index for 2D table\n",
    "    grouped.index = grouped.index.to_flat_index()\n",
    "    datetime_index_df = pd.DataFrame(grouped.index.values.tolist(), columns=[\"year\", \"month\", \"day\", \"hour\"])\n",
    "    datetime_index = pd.to_datetime(datetime_index_df)\n",
    "\n",
    "    # add back the datetime information\n",
    "    grouped.reset_index(inplace=True)\n",
    "    grouped[\"datetime\"] = datetime_index\n",
    "    grouped.drop(\"index\", axis=1, inplace=True)\n",
    "\n",
    "    # change column order for readability\n",
    "    grouped = grouped.reindex([\"datetime\", \"activity\"], axis=1)\n",
    "    \n",
    "    return grouped"
   ]
  },
  {
   "cell_type": "code",
   "execution_count": 19,
   "id": "c57feacb",
   "metadata": {},
   "outputs": [],
   "source": [
    "conditions_preprocessed = [group_by_hour(df) for df in conditions]\n",
    "controls_preprocessed = [group_by_hour(df) for df in controls]"
   ]
  },
  {
   "cell_type": "markdown",
   "id": "88647480",
   "metadata": {},
   "source": [
    "Lastly, create separate night and day datasets in addition to the whole dataset."
   ]
  },
  {
   "cell_type": "code",
   "execution_count": 20,
   "id": "ae873262",
   "metadata": {},
   "outputs": [],
   "source": [
    "def get_night_day_division(df: pd.DataFrame) -> Tuple[pd.DataFrame, pd.DataFrame]:\n",
    "    night_df = df.loc[(df[\"datetime\"].dt.hour >= 21) | (df[\"datetime\"].dt.hour < 8)]\n",
    "    day_df = df.loc[(df[\"datetime\"].dt.hour >= 8) & (df[\"datetime\"].dt.hour < 21)]\n",
    "    return night_df, day_df"
   ]
  },
  {
   "cell_type": "code",
   "execution_count": 21,
   "id": "8f9c3515",
   "metadata": {},
   "outputs": [],
   "source": [
    "conditions_night = []\n",
    "conditions_day = []\n",
    "\n",
    "controls_night = []\n",
    "controls_day = []\n",
    "\n",
    "for df in conditions_preprocessed:\n",
    "    night_df, day_df = get_night_day_division(df)\n",
    "    conditions_night.append(night_df)\n",
    "    conditions_day.append(day_df)\n",
    "\n",
    "for df in controls_preprocessed:\n",
    "    night_df, day_df = get_night_day_division(df)\n",
    "    controls_night.append(night_df)\n",
    "    controls_day.append(day_df)"
   ]
  },
  {
   "cell_type": "markdown",
   "id": "29564196",
   "metadata": {},
   "source": [
    "Trim to the same number of 1-hour segments, so we have equal length sequences for night, day and all data."
   ]
  },
  {
   "cell_type": "code",
   "execution_count": 22,
   "id": "b85be87e",
   "metadata": {},
   "outputs": [],
   "source": [
    "min_length_night = min([len(df) for df in conditions_night + controls_night])\n",
    "min_length_day = min([len(df) for df in conditions_day + controls_day])\n",
    "min_length_all = min(min_length_night, min_length_day)\n",
    "\n",
    "conditions_trimmed = {\n",
    "    \"night\": [df[:min_length_night] for df in conditions_night],\n",
    "    \"day\": [df[:min_length_day] for df in conditions_day],\n",
    "    \"all\": [df[:min_length_all] for df in conditions_night + conditions_day]\n",
    "}\n",
    "\n",
    "controls_trimmed = {\n",
    "    \"night\": [df[:min_length_night] for df in controls_night],\n",
    "    \"day\": [df[:min_length_day] for df in controls_day],\n",
    "    \"all\": [df[:min_length_all] for df in controls_night + controls_day]\n",
    "}"
   ]
  },
  {
   "cell_type": "markdown",
   "id": "52cb0718",
   "metadata": {},
   "source": [
    "Let's check the number of hour segments."
   ]
  },
  {
   "cell_type": "code",
   "execution_count": 23,
   "id": "c1024f4d",
   "metadata": {},
   "outputs": [
    {
     "name": "stdout",
     "output_type": "stream",
     "text": [
      "Day: 9845\n",
      "Night: 7865\n",
      "Full data: 17710\n"
     ]
    }
   ],
   "source": [
    "night_observations = sum([len(df) for df in conditions_trimmed[\"night\"] + controls_trimmed[\"night\"]])\n",
    "day_observations = sum([len(df) for df in conditions_trimmed[\"day\"] + controls_trimmed[\"day\"]])\n",
    "all_observations= sum([len(df) for df in conditions_trimmed[\"all\"] + controls_trimmed[\"all\"]])\n",
    "\n",
    "print(f\"Day: {day_observations}\")\n",
    "print(f\"Night: {night_observations}\")\n",
    "print(f\"Full data: {day_observations + night_observations}\")"
   ]
  },
  {
   "cell_type": "markdown",
   "id": "e518e4e6",
   "metadata": {},
   "source": [
    "As you can see, the number of segments is very different than stated in the paper. However, that was probably just a mistake in specifying the table contents and authors got similiar numbers of actual hourly segments as here."
   ]
  },
  {
   "cell_type": "markdown",
   "id": "166408a1",
   "metadata": {},
   "source": [
    "Before further processing it will come in handy to work on regular Numpy arrays instead of lists of DataFrames. We will have 1 row per patient, with columns indicating measurements (short and wide matrix)."
   ]
  },
  {
   "cell_type": "code",
   "execution_count": 24,
   "id": "71315ee1",
   "metadata": {},
   "outputs": [],
   "source": [
    "X_night = [df[\"activity\"].values for df in conditions_trimmed[\"night\"]] + \\\n",
    "          [df[\"activity\"].values for df in controls_trimmed[\"night\"]]\n",
    "X_night = np.vstack(X_night)\n",
    "\n",
    "y_night = np.zeros(X_night.shape[0])\n",
    "y_night[:len(conditions_trimmed[\"night\"]) + 1] = 1\n",
    "\n",
    "\n",
    "X_day = [df[\"activity\"].values for df in conditions_trimmed[\"day\"]] + \\\n",
    "        [df[\"activity\"].values for df in controls_trimmed[\"day\"]]\n",
    "X_day = np.vstack(X_day)\n",
    "\n",
    "y_day = np.zeros(X_day.shape[0])\n",
    "y_day[:len(conditions_trimmed[\"day\"]) + 1] = 1\n",
    "\n",
    "\n",
    "X_all = [df[\"activity\"].values for df in conditions_trimmed[\"all\"]] + \\\n",
    "        [df[\"activity\"].values for df in controls_trimmed[\"all\"]]\n",
    "X_all = np.vstack(X_all)\n",
    "\n",
    "y_all = np.zeros(X_all.shape[0])\n",
    "y_all[:len(conditions_trimmed[\"all\"]) + 1] = 1"
   ]
  },
  {
   "cell_type": "markdown",
   "id": "5fbc18eb",
   "metadata": {},
   "source": [
    "Make sure that the data is correct:"
   ]
  },
  {
   "cell_type": "code",
   "execution_count": 25,
   "id": "ad786920",
   "metadata": {},
   "outputs": [
    {
     "data": {
      "text/plain": [
       "array([[4.15333333e+01, 3.24500000e+01, 1.48733333e+02, 8.00000000e+00,\n",
       "        4.08333333e+00, 7.06666667e+00, 4.03333333e+00, 1.22166667e+01,\n",
       "        9.66666667e-01, 1.00000000e+01, 1.37000000e+01, 1.20050000e+02,\n",
       "        4.65166667e+01, 6.78666667e+01, 6.97000000e+01, 2.22500000e+01,\n",
       "        1.10166667e+01, 2.08333333e+00, 1.26500000e+01, 4.51666667e+00,\n",
       "        6.43333333e+00, 5.66666667e+00, 1.78116667e+02, 5.82000000e+01,\n",
       "        3.67000000e+01, 1.00616667e+02, 9.86333333e+01, 7.71666667e+00,\n",
       "        3.28333333e+00, 3.70000000e+00, 5.83333333e-01, 1.96666667e+00,\n",
       "        1.77833333e+01, 4.76666667e+01, 7.99666667e+01, 8.54833333e+01,\n",
       "        2.76666667e+00, 9.16666667e-01, 4.08333333e+00, 6.51666667e+00,\n",
       "        2.03666667e+01, 7.95000000e+00, 1.37333333e+01, 1.08666667e+01,\n",
       "        5.21500000e+01, 4.39666667e+01, 1.11233333e+02, 2.76666667e+00,\n",
       "        2.66666667e+00, 1.24500000e+01, 5.25000000e+00, 9.81666667e+00,\n",
       "        9.68333333e+00, 9.68333333e+00, 9.86666667e+00, 1.40200000e+02,\n",
       "        5.63666667e+01, 3.18000000e+01, 5.20000000e+01, 1.00483333e+02,\n",
       "        1.57333333e+01, 9.53333333e+00, 3.00000000e-01, 7.30000000e+00,\n",
       "        1.25333333e+01, 1.64500000e+01, 6.60500000e+01, 1.32216667e+02,\n",
       "        9.90000000e+00, 3.78333333e+00, 2.91666667e+00, 1.40166667e+01,\n",
       "        5.63333333e+00, 2.57500000e+01, 2.50000000e+00, 1.73166667e+01,\n",
       "        6.57333333e+01, 2.06883333e+02, 1.87466667e+02, 7.47500000e+01,\n",
       "        8.90833333e+01, 9.90000000e+00, 9.00000000e-01, 3.60000000e+00,\n",
       "        3.56666667e+00, 6.45000000e+00, 9.56666667e+00, 1.15833333e+01,\n",
       "        1.32616667e+02, 1.49733333e+02, 1.05783333e+02, 8.41666667e+00,\n",
       "        1.92666667e+01, 1.39833333e+01, 7.91666667e+00, 6.18333333e+00,\n",
       "        1.71166667e+01, 2.62500000e+01, 1.77350000e+02, 5.76166667e+01,\n",
       "        7.06833333e+01, 6.17333333e+01, 9.84000000e+01, 1.34666667e+01,\n",
       "        8.01666667e+00, 7.06666667e+00, 1.78333333e+01, 9.16666667e-01,\n",
       "        7.98333333e+00, 8.35000000e+00, 1.20533333e+02, 5.10166667e+01,\n",
       "        9.74833333e+01, 7.28833333e+01, 1.17333333e+01, 1.36000000e+01,\n",
       "        6.45000000e+00, 6.96666667e+00, 1.07666667e+01, 9.45000000e+00,\n",
       "        4.70666667e+01, 9.97500000e+01, 3.26500000e+01, 9.69333333e+01,\n",
       "        3.95000000e+00, 9.03333333e+00, 4.91666667e+00, 4.21666667e+00,\n",
       "        6.91666667e+00, 1.75500000e+01, 1.18000000e+01, 2.53166667e+01,\n",
       "        0.00000000e+00, 0.00000000e+00, 0.00000000e+00, 0.00000000e+00,\n",
       "        0.00000000e+00, 0.00000000e+00, 0.00000000e+00, 0.00000000e+00,\n",
       "        0.00000000e+00, 0.00000000e+00, 1.33333333e-01],\n",
       "       [2.60433333e+02, 3.93850000e+02, 2.25500000e+01, 1.59833333e+01,\n",
       "        5.46666667e+00, 2.71500000e+01, 1.06833333e+01, 7.33333333e+00,\n",
       "        9.13333333e+00, 5.76666667e+00, 2.13033333e+02, 4.43233333e+02,\n",
       "        6.02700000e+02, 7.82666667e+01, 1.58500000e+01, 2.03333333e+01,\n",
       "        9.38333333e+00, 1.23333333e+01, 2.04166667e+01, 3.21500000e+01,\n",
       "        1.67333333e+01, 4.94166667e+01, 5.03516667e+02, 4.42050000e+02,\n",
       "        7.26833333e+01, 9.67666667e+01, 1.22333333e+01, 2.18333333e+00,\n",
       "        7.45000000e+00, 7.05000000e+00, 2.17666667e+01, 8.60000000e+00,\n",
       "        3.09766667e+02, 4.51766667e+02, 5.09433333e+02, 1.29000000e+02,\n",
       "        1.97666667e+01, 6.66666667e+00, 1.32333333e+01, 9.16666667e+00,\n",
       "        9.20000000e+00, 1.54833333e+01, 4.29166667e+01, 2.43533333e+02,\n",
       "        6.36716667e+02, 2.93683333e+02, 4.15550000e+02, 8.46666667e+00,\n",
       "        1.54833333e+01, 1.24500000e+01, 1.83833333e+01, 2.61000000e+01,\n",
       "        1.98166667e+01, 1.97833333e+01, 2.93166667e+01, 4.06383333e+02,\n",
       "        3.81933333e+02, 8.66666667e+00, 9.71666667e+00, 7.71666667e+00,\n",
       "        1.42333333e+01, 2.54666667e+01, 5.60666667e+01, 5.94333333e+01,\n",
       "        5.64333333e+01, 2.06216667e+02, 3.30083333e+02, 3.30750000e+02,\n",
       "        2.95500000e+01, 3.33500000e+01, 2.08500000e+01, 5.01666667e+00,\n",
       "        1.84333333e+01, 2.00666667e+01, 2.67000000e+01, 2.01000000e+01,\n",
       "        2.46183333e+02, 7.63416667e+02, 3.06983333e+02, 1.25000000e+01,\n",
       "        1.56500000e+01, 1.32166667e+01, 5.16666667e+00, 3.65000000e+00,\n",
       "        2.24000000e+01, 1.25000000e+01, 1.88333333e+01, 4.58833333e+01,\n",
       "        3.30083333e+02, 5.62666667e+01, 3.01500000e+01, 1.92500000e+01,\n",
       "        1.32333333e+01, 2.59166667e+01, 1.26333333e+01, 9.81666667e+00,\n",
       "        2.72166667e+01, 2.35833333e+01, 2.17816667e+02, 3.57050000e+02,\n",
       "        1.84766667e+02, 1.43666667e+01, 1.71333333e+01, 4.37000000e+01,\n",
       "        1.56000000e+01, 3.09833333e+01, 3.63666667e+01, 2.03000000e+01,\n",
       "        1.99166667e+01, 4.17833333e+01, 3.82483333e+02, 3.18116667e+02,\n",
       "        4.08083333e+02, 2.52450000e+02, 1.10166667e+01, 2.36333333e+01,\n",
       "        5.81666667e+00, 3.25500000e+01, 2.49666667e+01, 2.71500000e+01,\n",
       "        8.18666667e+01, 2.29000000e+02, 1.40550000e+02, 1.85166667e+01,\n",
       "        2.78166667e+01, 1.49666667e+01, 2.64333333e+01, 1.79166667e+01,\n",
       "        1.81166667e+01, 1.64666667e+01, 8.10000000e+01, 8.21166667e+01,\n",
       "        4.54266667e+02, 2.12750000e+02, 2.26166667e+01, 2.49166667e+01,\n",
       "        1.48666667e+01, 1.87333333e+01, 4.16666667e+00, 2.05666667e+01,\n",
       "        1.15833333e+01, 3.33833333e+01, 4.67666667e+01],\n",
       "       [3.92583333e+02, 5.11000000e+01, 5.47833333e+01, 6.96833333e+01,\n",
       "        2.66666667e+00, 1.37500000e+01, 4.48333333e+00, 1.20333333e+01,\n",
       "        5.11666667e+01, 7.09500000e+01, 5.61666667e+00, 2.30333333e+01,\n",
       "        2.15783333e+02, 6.00666667e+01, 6.51000000e+01, 2.30000000e+00,\n",
       "        1.11666667e+00, 9.45000000e+00, 7.66666667e+00, 8.26333333e+01,\n",
       "        5.70833333e+01, 7.25000000e+00, 2.19683333e+02, 1.52900000e+02,\n",
       "        9.86000000e+01, 5.67166667e+01, 7.20000000e+01, 8.67166667e+01,\n",
       "        8.16500000e+01, 6.16666667e-01, 1.04500000e+01, 0.00000000e+00,\n",
       "        2.40000000e+00, 3.02983333e+02, 4.04083333e+02, 2.43383333e+02,\n",
       "        5.02316667e+02, 3.19916667e+02, 2.98783333e+02, 7.29500000e+01,\n",
       "        1.49566667e+02, 0.00000000e+00, 7.00000000e+00, 4.90000000e+00,\n",
       "        3.60250000e+02, 3.65600000e+02, 2.65033333e+02, 2.14166667e+02,\n",
       "        1.30200000e+02, 1.07566667e+02, 1.01650000e+02, 0.00000000e+00,\n",
       "        8.31666667e+00, 5.86666667e+00, 5.68333333e+00, 1.38500000e+01,\n",
       "        2.57000000e+01, 2.06300000e+02, 1.36000000e+01, 7.41666667e+00,\n",
       "        3.18333333e+00, 4.00000000e+00, 6.26666667e+00, 1.78333333e+00,\n",
       "        7.68333333e+00, 1.15666667e+01, 1.17116667e+02, 1.10216667e+02,\n",
       "        3.01666667e+00, 1.27666667e+01, 3.06666667e+00, 1.07166667e+01,\n",
       "        5.31666667e+00, 5.31666667e+00, 3.33666667e+01, 8.21833333e+01,\n",
       "        5.06666667e+00, 2.34350000e+02, 1.60866667e+02, 5.06666667e+00,\n",
       "        6.66666667e-01, 9.50000000e+00, 1.10000000e+00, 1.08666667e+01,\n",
       "        5.91666667e+00, 4.70000000e+00, 1.01500000e+01, 6.28333333e+00,\n",
       "        2.38633333e+02, 1.28116667e+02, 2.08566667e+02, 8.31666667e+01,\n",
       "        7.11166667e+01, 3.77833333e+01, 8.77333333e+01, 1.16666667e+00,\n",
       "        1.22166667e+01, 4.66666667e-01, 4.95000000e+00, 1.91350000e+02,\n",
       "        6.02333333e+01, 1.88916667e+02, 4.86666667e+01, 4.60666667e+01,\n",
       "        0.00000000e+00, 7.78333333e+00, 0.00000000e+00, 2.10000000e+00,\n",
       "        7.11666667e+00, 3.81666667e+00, 5.01333333e+02, 4.45833333e+02,\n",
       "        3.79200000e+02, 2.27250000e+02, 3.88650000e+02, 1.03466667e+02,\n",
       "        2.57333333e+02, 1.24033333e+02, 4.31666667e+00, 3.23333333e+00,\n",
       "        0.00000000e+00, 2.35533333e+02, 3.10500000e+02, 1.75566667e+02,\n",
       "        3.19716667e+02, 3.63716667e+02, 9.40333333e+01, 8.77166667e+01,\n",
       "        3.10333333e+01, 6.62000000e+01, 1.03833333e+01, 8.83333333e-01,\n",
       "        3.02166667e+01, 1.32000000e+01, 2.64666667e+02, 4.20000000e+01,\n",
       "        7.11666667e+00, 4.11666667e+00, 9.26666667e+00, 1.19333333e+01,\n",
       "        6.56666667e+00, 1.04500000e+01, 5.76666667e+00],\n",
       "       [5.32350000e+02, 2.02416667e+02, 7.50333333e+01, 1.17666667e+01,\n",
       "        4.96333333e+01, 1.10333333e+01, 7.83333333e-01, 6.38333333e+00,\n",
       "        1.07166667e+01, 6.69666667e+01, 9.44666667e+01, 2.99533333e+02,\n",
       "        1.80083333e+02, 4.93500000e+01, 7.22166667e+01, 1.17166667e+01,\n",
       "        1.15000000e+00, 2.04833333e+01, 2.31666667e+00, 4.68333333e+00,\n",
       "        1.04000000e+01, 1.30600000e+02, 4.49750000e+02, 1.50816667e+02,\n",
       "        2.40466667e+02, 2.38816667e+02, 3.09166667e+01, 5.46666667e+00,\n",
       "        2.44833333e+01, 3.20000000e+00, 3.11666667e+00, 7.41666667e+00,\n",
       "        8.63833333e+01, 1.46983333e+02, 1.14266667e+02, 1.20050000e+02,\n",
       "        2.21616667e+02, 4.93333333e+01, 4.31666667e+00, 4.71666667e+00,\n",
       "        2.51666667e+00, 4.16666667e-01, 5.33333333e+00, 1.39500000e+01,\n",
       "        1.73550000e+02, 2.70050000e+02, 1.11100000e+02, 2.94333333e+02,\n",
       "        3.03766667e+02, 2.64900000e+02, 1.22933333e+02, 1.98000000e+01,\n",
       "        4.78333333e+00, 1.22000000e+01, 8.40000000e+00, 4.25833333e+01,\n",
       "        2.24150000e+02, 1.21983333e+02, 6.95666667e+01, 2.62000000e+01,\n",
       "        1.39000000e+01, 4.23333333e+00, 6.71666667e+00, 2.38333333e+00,\n",
       "        8.81666667e+00, 1.04816667e+02, 4.42650000e+02, 9.46833333e+01,\n",
       "        2.53383333e+02, 4.36500000e+01, 5.10500000e+01, 4.16666667e-01,\n",
       "        6.03333333e+00, 1.29000000e+01, 1.79333333e+01, 1.85666667e+01,\n",
       "        9.36166667e+01, 2.92600000e+02, 2.54166667e+02, 2.10466667e+02,\n",
       "        7.76833333e+01, 9.10333333e+01, 9.01666667e+00, 1.01333333e+01,\n",
       "        8.16666667e-01, 8.65000000e+00, 8.75000000e+00, 8.61333333e+01,\n",
       "        2.86283333e+02, 1.23050000e+02, 8.27333333e+01, 4.91666667e+01,\n",
       "        1.88166667e+01, 1.36500000e+01, 3.60000000e+00, 2.24833333e+01,\n",
       "        5.53333333e+00, 9.53333333e+00, 8.41666667e+01, 2.26783333e+02,\n",
       "        1.05866667e+02, 1.20200000e+02, 8.55000000e+00, 8.40000000e+00,\n",
       "        4.70000000e+00, 4.60000000e+00, 5.40000000e+00, 1.27833333e+01,\n",
       "        7.63000000e+01, 1.16733333e+02, 2.40083333e+02, 2.94500000e+02,\n",
       "        3.31433333e+02, 5.99666667e+01, 4.12333333e+01, 9.20000000e+00,\n",
       "        3.76666667e+00, 6.51666667e+00, 1.23833333e+01, 1.06666667e+01,\n",
       "        2.47833333e+01, 1.18916667e+02, 1.80566667e+02, 8.31666667e+01,\n",
       "        6.07500000e+01, 5.07833333e+01, 1.41166667e+01, 4.21666667e+00,\n",
       "        4.08333333e+00, 2.85333333e+01, 2.34666667e+01, 4.38333333e+00,\n",
       "        4.89500000e+01, 1.40733333e+02, 1.11900000e+02, 5.09000000e+01,\n",
       "        6.61166667e+01, 4.86333333e+01, 1.84833333e+01, 5.13333333e+00,\n",
       "        1.47333333e+01, 9.96666667e+00, 6.51666667e+00],\n",
       "       [3.09816667e+02, 1.14166667e+02, 3.58666667e+01, 5.06666667e+00,\n",
       "        1.01000000e+01, 5.26666667e+00, 3.79166667e+01, 6.83833333e+01,\n",
       "        2.69783333e+02, 2.44866667e+02, 1.44683333e+02, 2.51150000e+02,\n",
       "        3.67200000e+02, 3.85916667e+02, 4.72100000e+02, 2.51216667e+02,\n",
       "        1.90233333e+02, 2.94166667e+01, 5.55666667e+01, 3.73333333e+00,\n",
       "        1.04666667e+01, 2.75333333e+01, 1.93750000e+02, 4.17500000e+02,\n",
       "        2.68466667e+02, 4.77566667e+02, 1.42666667e+02, 2.80666667e+01,\n",
       "        4.58333333e+00, 1.38000000e+01, 9.98333333e+00, 8.55000000e+00,\n",
       "        4.01000000e+01, 2.39033333e+02, 1.62450000e+02, 1.59316667e+02,\n",
       "        3.06350000e+02, 8.32333333e+01, 1.35333333e+02, 1.94500000e+01,\n",
       "        1.26666667e+01, 8.63333333e+00, 1.68666667e+01, 2.52500000e+02,\n",
       "        2.93216667e+02, 1.63883333e+02, 8.40333333e+01, 2.77333333e+02,\n",
       "        1.03483333e+02, 2.81500000e+01, 1.17833333e+01, 4.35000000e+00,\n",
       "        3.03833333e+01, 1.12366667e+02, 1.22166667e+01, 1.13816667e+02,\n",
       "        1.36950000e+02, 3.29750000e+02, 6.55166667e+01, 2.96316667e+02,\n",
       "        1.81050000e+02, 3.26333333e+01, 1.61166667e+01, 1.50000000e+01,\n",
       "        2.04166667e+01, 1.84666667e+01, 2.50866667e+02, 2.57300000e+02,\n",
       "        1.09050000e+02, 6.08166667e+01, 5.20500000e+01, 2.25833333e+01,\n",
       "        2.24666667e+01, 3.47833333e+01, 5.60833333e+01, 1.82333333e+01,\n",
       "        6.63333333e+01, 5.28583333e+02, 3.13100000e+02, 2.46616667e+02,\n",
       "        2.74200000e+02, 1.38833333e+01, 1.75000000e+01, 8.68333333e+00,\n",
       "        1.58000000e+01, 7.46666667e+00, 8.21833333e+01, 6.66816667e+02,\n",
       "        3.47366667e+02, 2.26650000e+02, 1.49616667e+02, 1.88950000e+02,\n",
       "        5.34500000e+01, 8.96666667e+00, 1.66666667e+01, 1.46666667e+01,\n",
       "        8.33333333e+00, 1.31483333e+02, 3.04066667e+02, 2.26966667e+02,\n",
       "        1.87800000e+02, 1.29883333e+02, 1.75183333e+02, 2.24833333e+01,\n",
       "        1.08783333e+02, 1.00166667e+01, 7.76666667e+00, 9.46666667e+00,\n",
       "        5.47666667e+01, 9.01666667e+00, 3.91616667e+02, 3.32366667e+02,\n",
       "        4.01466667e+02, 6.20150000e+02, 2.91166667e+01, 7.88333333e+00,\n",
       "        6.46000000e+01, 1.96833333e+01, 2.12833333e+01, 1.80666667e+01,\n",
       "        4.00700000e+02, 2.33750000e+02, 2.95416667e+02, 1.22250000e+02,\n",
       "        1.52500000e+01, 1.42333333e+01, 2.53333333e+00, 2.88000000e+01,\n",
       "        2.58333333e+00, 1.55166667e+01, 5.73333333e+00, 2.57833333e+01,\n",
       "        3.06900000e+02, 4.22083333e+02, 3.08333333e+02, 5.36616667e+02,\n",
       "        1.74166667e+02, 1.92233333e+02, 3.06383333e+02, 3.19666667e+01,\n",
       "        1.35166667e+01, 1.06333333e+01, 2.01333333e+01]])"
      ]
     },
     "execution_count": 25,
     "metadata": {},
     "output_type": "execute_result"
    }
   ],
   "source": [
    "X_night[:5]"
   ]
  },
  {
   "cell_type": "code",
   "execution_count": 26,
   "id": "80ea2114",
   "metadata": {
    "scrolled": true
   },
   "outputs": [
    {
     "data": {
      "text/plain": [
       "array([1., 1., 1., 1., 1., 1., 1., 1., 1., 1., 1., 1., 1., 1., 1., 1., 1.,\n",
       "       1., 1., 1., 1., 1., 1., 1., 0., 0., 0., 0., 0., 0., 0., 0., 0., 0.,\n",
       "       0., 0., 0., 0., 0., 0., 0., 0., 0., 0., 0., 0., 0., 0., 0., 0., 0.,\n",
       "       0., 0., 0., 0.])"
      ]
     },
     "execution_count": 26,
     "metadata": {},
     "output_type": "execute_result"
    }
   ],
   "source": [
    "y_night"
   ]
  },
  {
   "cell_type": "markdown",
   "id": "8a5e2cf7",
   "metadata": {},
   "source": [
    "There seem to be no missing values, despite what's described in the paper. There is a possibility that dataset available online has already been cleaned in this regard."
   ]
  },
  {
   "cell_type": "markdown",
   "id": "a48106b4",
   "metadata": {},
   "source": [
    "Next we standardize the data, i.e. subtract mean and divide by standard deviation. I assume that standardization is done separately for all 3 sets of data, though this has not been specified in the paper."
   ]
  },
  {
   "cell_type": "code",
   "execution_count": 27,
   "id": "15683d23",
   "metadata": {},
   "outputs": [],
   "source": [
    "X_night_standardized = (X_night - X_night.mean()) / X_night.std()\n",
    "X_day_standardized = (X_day - X_day.mean()) / X_day.std()\n",
    "X_all_standardized = (X_all - X_all.mean()) / X_all.std()"
   ]
  },
  {
   "cell_type": "markdown",
   "id": "6b0ec911",
   "metadata": {},
   "source": [
    "### Time domain"
   ]
  },
  {
   "cell_type": "markdown",
   "id": "71b7249c",
   "metadata": {},
   "source": [
    "Time features are extracted according to the article:\n",
    "- `mean`, `median`, `stddev`, `variance`, `kurtosis`, `minimum`, `maximum` - quite self explanatory statistical features\n",
    "- `coeff_of_var` - coefficient of variation, the ratio of the biased standard deviation to the mean\n",
    "- `iqr` - interquartile range, difference between 75 and 25 percentile (3rd and 1st quartile)\n",
    "- `trimmed_mean` - alternatively truncated mean, mean of the values where the most extreme values (from both ends) are not used; since the article doesn't specify this, I assume that the popular 10% trim percentage is used\n",
    "\n",
    "Data is saved as a DataFrame, since some machine learning models can provide additional insight when using named columns."
   ]
  },
  {
   "cell_type": "code",
   "execution_count": null,
   "id": "e84ed9cb",
   "metadata": {},
   "outputs": [],
   "source": [
    "from scipy.stats import iqr, kurtosis, trim_mean, variation"
   ]
  },
  {
   "cell_type": "code",
   "execution_count": null,
   "id": "9f05403c",
   "metadata": {},
   "outputs": [],
   "source": [
    "def extract_features(X: np.ndarray) -> pd.DataFrame:\n",
    "    features = {\n",
    "        \"mean\": X.mean(axis=1),\n",
    "        \"median\": np.median(X, axis=1),\n",
    "        \"stddev\": X.std(axis=1),\n",
    "        \"variance\": np.var(X, axis=1),\n",
    "        \"kurtosis\": kurtosis(X, axis=1),\n",
    "        \"coeff_of_var\": variation(X, axis=1),\n",
    "        \"iqr\": iqr(X, axis=1),\n",
    "        \"minimum\": X.min(axis=1),\n",
    "        \"maximum\": X.max(axis=1),\n",
    "        \"trimmed_mean\": trim_mean(X, proportiontocut=0.1, axis=1)\n",
    "    }\n",
    "    return pd.DataFrame(features)"
   ]
  },
  {
   "cell_type": "code",
   "execution_count": null,
   "id": "930771a7",
   "metadata": {},
   "outputs": [],
   "source": [
    "X_night_features = extract_features(X_night_standardized)\n",
    "X_day_features = extract_features(X_day_standardized)\n",
    "X_all_features = extract_features(X_all_standardized)"
   ]
  },
  {
   "cell_type": "markdown",
   "id": "2ccdd88a",
   "metadata": {},
   "source": [
    "### Frequency domain"
   ]
  },
  {
   "cell_type": "code",
   "execution_count": 31,
   "id": "92b218f9",
   "metadata": {},
   "outputs": [
    {
     "data": {
      "text/html": [
       "<div>\n",
       "<style scoped>\n",
       "    .dataframe tbody tr th:only-of-type {\n",
       "        vertical-align: middle;\n",
       "    }\n",
       "\n",
       "    .dataframe tbody tr th {\n",
       "        vertical-align: top;\n",
       "    }\n",
       "\n",
       "    .dataframe thead th {\n",
       "        text-align: right;\n",
       "    }\n",
       "</style>\n",
       "<table border=\"1\" class=\"dataframe\">\n",
       "  <thead>\n",
       "    <tr style=\"text-align: right;\">\n",
       "      <th></th>\n",
       "      <th>timestamp</th>\n",
       "      <th>activity</th>\n",
       "      <th>number</th>\n",
       "      <th>date</th>\n",
       "      <th>hour</th>\n",
       "    </tr>\n",
       "  </thead>\n",
       "  <tbody>\n",
       "    <tr>\n",
       "      <th>0</th>\n",
       "      <td>2003-05-07 12:00:00</td>\n",
       "      <td>0</td>\n",
       "      <td>condition_1</td>\n",
       "      <td>2003-05-07</td>\n",
       "      <td>12</td>\n",
       "    </tr>\n",
       "    <tr>\n",
       "      <th>1</th>\n",
       "      <td>2003-05-07 12:01:00</td>\n",
       "      <td>143</td>\n",
       "      <td>condition_1</td>\n",
       "      <td>2003-05-07</td>\n",
       "      <td>12</td>\n",
       "    </tr>\n",
       "    <tr>\n",
       "      <th>2</th>\n",
       "      <td>2003-05-07 12:02:00</td>\n",
       "      <td>0</td>\n",
       "      <td>condition_1</td>\n",
       "      <td>2003-05-07</td>\n",
       "      <td>12</td>\n",
       "    </tr>\n",
       "    <tr>\n",
       "      <th>3</th>\n",
       "      <td>2003-05-07 12:03:00</td>\n",
       "      <td>20</td>\n",
       "      <td>condition_1</td>\n",
       "      <td>2003-05-07</td>\n",
       "      <td>12</td>\n",
       "    </tr>\n",
       "    <tr>\n",
       "      <th>4</th>\n",
       "      <td>2003-05-07 12:04:00</td>\n",
       "      <td>166</td>\n",
       "      <td>condition_1</td>\n",
       "      <td>2003-05-07</td>\n",
       "      <td>12</td>\n",
       "    </tr>\n",
       "  </tbody>\n",
       "</table>\n",
       "</div>"
      ],
      "text/plain": [
       "            timestamp  activity       number        date  hour\n",
       "0 2003-05-07 12:00:00         0  condition_1  2003-05-07    12\n",
       "1 2003-05-07 12:01:00       143  condition_1  2003-05-07    12\n",
       "2 2003-05-07 12:02:00         0  condition_1  2003-05-07    12\n",
       "3 2003-05-07 12:03:00        20  condition_1  2003-05-07    12\n",
       "4 2003-05-07 12:04:00       166  condition_1  2003-05-07    12"
      ]
     },
     "execution_count": 31,
     "metadata": {},
     "output_type": "execute_result"
    }
   ],
   "source": [
    "f_frames = []\n",
    "\n",
    "for c_i, c in enumerate(conditions, start=1):\n",
    "    c_copy = c.copy()\n",
    "    c['number'] = f'condition_{c_i}'\n",
    "    f_frames.append(c_copy)\n",
    "    \n",
    "for c_i, c in enumerate(controls, start=1):\n",
    "    c_copy = c.copy()\n",
    "    c['number'] = f'control_{c_i}'\n",
    "    f_frames.append(c_copy)\n",
    "\n",
    "f_df = pd.concat(f_frames)\n",
    "f_df.reset_index()\n",
    "\n",
    "f_df['date'] = f_df.apply(lambda r: r['timestamp'].date(), axis=1)\n",
    "f_df['hour'] = f_df.apply(lambda r: r['timestamp'].hour, axis=1)\n",
    "\n",
    "f_df.head()"
   ]
  },
  {
   "cell_type": "code",
   "execution_count": 32,
   "id": "f617d6fc",
   "metadata": {},
   "outputs": [
    {
     "data": {
      "text/html": [
       "<div>\n",
       "<style scoped>\n",
       "    .dataframe tbody tr th:only-of-type {\n",
       "        vertical-align: middle;\n",
       "    }\n",
       "\n",
       "    .dataframe tbody tr th {\n",
       "        vertical-align: top;\n",
       "    }\n",
       "\n",
       "    .dataframe thead th {\n",
       "        text-align: right;\n",
       "    }\n",
       "</style>\n",
       "<table border=\"1\" class=\"dataframe\">\n",
       "  <thead>\n",
       "    <tr style=\"text-align: right;\">\n",
       "      <th></th>\n",
       "      <th>activity</th>\n",
       "      <th>number</th>\n",
       "      <th>date</th>\n",
       "      <th>hour</th>\n",
       "    </tr>\n",
       "  </thead>\n",
       "  <tbody>\n",
       "    <tr>\n",
       "      <th>0</th>\n",
       "      <td>0</td>\n",
       "      <td>condition_1</td>\n",
       "      <td>2003-05-07</td>\n",
       "      <td>12</td>\n",
       "    </tr>\n",
       "    <tr>\n",
       "      <th>1</th>\n",
       "      <td>143</td>\n",
       "      <td>condition_1</td>\n",
       "      <td>2003-05-07</td>\n",
       "      <td>12</td>\n",
       "    </tr>\n",
       "    <tr>\n",
       "      <th>2</th>\n",
       "      <td>0</td>\n",
       "      <td>condition_1</td>\n",
       "      <td>2003-05-07</td>\n",
       "      <td>12</td>\n",
       "    </tr>\n",
       "    <tr>\n",
       "      <th>3</th>\n",
       "      <td>20</td>\n",
       "      <td>condition_1</td>\n",
       "      <td>2003-05-07</td>\n",
       "      <td>12</td>\n",
       "    </tr>\n",
       "    <tr>\n",
       "      <th>4</th>\n",
       "      <td>166</td>\n",
       "      <td>condition_1</td>\n",
       "      <td>2003-05-07</td>\n",
       "      <td>12</td>\n",
       "    </tr>\n",
       "  </tbody>\n",
       "</table>\n",
       "</div>"
      ],
      "text/plain": [
       "   activity       number        date  hour\n",
       "0         0  condition_1  2003-05-07    12\n",
       "1       143  condition_1  2003-05-07    12\n",
       "2         0  condition_1  2003-05-07    12\n",
       "3        20  condition_1  2003-05-07    12\n",
       "4       166  condition_1  2003-05-07    12"
      ]
     },
     "execution_count": 32,
     "metadata": {},
     "output_type": "execute_result"
    }
   ],
   "source": [
    "f_df.drop('timestamp', axis=1, inplace=True)\n",
    "f_df.head()"
   ]
  },
  {
   "cell_type": "code",
   "execution_count": 33,
   "id": "8ff4be7f",
   "metadata": {},
   "outputs": [
    {
     "data": {
      "text/plain": [
       "<pandas.core.groupby.generic.DataFrameGroupBy object at 0x000001E97FFC3520>"
      ]
     },
     "execution_count": 33,
     "metadata": {},
     "output_type": "execute_result"
    }
   ],
   "source": [
    "f_df_segments = f_df.groupby(['number', 'date', 'hour'])\n",
    "f_df_segments"
   ]
  },
  {
   "cell_type": "code",
   "execution_count": 34,
   "id": "ba51e20d",
   "metadata": {},
   "outputs": [
    {
     "data": {
      "text/html": [
       "<div>\n",
       "<style scoped>\n",
       "    .dataframe tbody tr th:only-of-type {\n",
       "        vertical-align: middle;\n",
       "    }\n",
       "\n",
       "    .dataframe tbody tr th {\n",
       "        vertical-align: top;\n",
       "    }\n",
       "\n",
       "    .dataframe thead th {\n",
       "        text-align: right;\n",
       "    }\n",
       "</style>\n",
       "<table border=\"1\" class=\"dataframe\">\n",
       "  <thead>\n",
       "    <tr style=\"text-align: right;\">\n",
       "      <th></th>\n",
       "      <th></th>\n",
       "      <th></th>\n",
       "      <th>activity</th>\n",
       "    </tr>\n",
       "    <tr>\n",
       "      <th>number</th>\n",
       "      <th>date</th>\n",
       "      <th>hour</th>\n",
       "      <th></th>\n",
       "    </tr>\n",
       "  </thead>\n",
       "  <tbody>\n",
       "    <tr>\n",
       "      <th rowspan=\"5\" valign=\"top\">condition_1</th>\n",
       "      <th rowspan=\"5\" valign=\"top\">2003-05-07</th>\n",
       "      <th>12</th>\n",
       "      <td>[0, 143, 0, 20, 166, 160, 17, 646, 978, 306, 2...</td>\n",
       "    </tr>\n",
       "    <tr>\n",
       "      <th>13</th>\n",
       "      <td>[306, 286, 12, 0, 130, 160, 296, 317, 338, 277...</td>\n",
       "    </tr>\n",
       "    <tr>\n",
       "      <th>14</th>\n",
       "      <td>[0, 0, 21, 67, 88, 43, 485, 568, 550, 328, 64,...</td>\n",
       "    </tr>\n",
       "    <tr>\n",
       "      <th>15</th>\n",
       "      <td>[38, 85, 0, 38, 52, 49, 338, 52, 70, 0, 0, 500...</td>\n",
       "    </tr>\n",
       "    <tr>\n",
       "      <th>16</th>\n",
       "      <td>[15, 0, 0, 646, 587, 439, 197, 425, 361, 338, ...</td>\n",
       "    </tr>\n",
       "    <tr>\n",
       "      <th>...</th>\n",
       "      <th>...</th>\n",
       "      <th>...</th>\n",
       "      <td>...</td>\n",
       "    </tr>\n",
       "    <tr>\n",
       "      <th rowspan=\"5\" valign=\"top\">control_9</th>\n",
       "      <th rowspan=\"5\" valign=\"top\">2003-12-29</th>\n",
       "      <th>6</th>\n",
       "      <td>[0, 0, 0, 0, 0, 0, 0, 0, 0, 0, 0, 0, 0, 0, 0, ...</td>\n",
       "    </tr>\n",
       "    <tr>\n",
       "      <th>7</th>\n",
       "      <td>[0, 0, 0, 0, 0, 0, 0, 0, 0, 0, 0, 0, 0, 0, 0, ...</td>\n",
       "    </tr>\n",
       "    <tr>\n",
       "      <th>8</th>\n",
       "      <td>[0, 0, 0, 0, 0, 0, 0, 0, 0, 0, 0, 0, 0, 0, 0, ...</td>\n",
       "    </tr>\n",
       "    <tr>\n",
       "      <th>9</th>\n",
       "      <td>[361, 116, 361, 3, 11, 3, 3, 3, 3, 3, 0, 0, 0,...</td>\n",
       "    </tr>\n",
       "    <tr>\n",
       "      <th>10</th>\n",
       "      <td>[0, 0, 0, 0, 0, 0, 0, 0, 20, 12, 0, 0, 0, 0, 0...</td>\n",
       "    </tr>\n",
       "  </tbody>\n",
       "</table>\n",
       "<p>26230 rows × 1 columns</p>\n",
       "</div>"
      ],
      "text/plain": [
       "                                                                      activity\n",
       "number      date       hour                                                   \n",
       "condition_1 2003-05-07 12    [0, 143, 0, 20, 166, 160, 17, 646, 978, 306, 2...\n",
       "                       13    [306, 286, 12, 0, 130, 160, 296, 317, 338, 277...\n",
       "                       14    [0, 0, 21, 67, 88, 43, 485, 568, 550, 328, 64,...\n",
       "                       15    [38, 85, 0, 38, 52, 49, 338, 52, 70, 0, 0, 500...\n",
       "                       16    [15, 0, 0, 646, 587, 439, 197, 425, 361, 338, ...\n",
       "...                                                                        ...\n",
       "control_9   2003-12-29 6     [0, 0, 0, 0, 0, 0, 0, 0, 0, 0, 0, 0, 0, 0, 0, ...\n",
       "                       7     [0, 0, 0, 0, 0, 0, 0, 0, 0, 0, 0, 0, 0, 0, 0, ...\n",
       "                       8     [0, 0, 0, 0, 0, 0, 0, 0, 0, 0, 0, 0, 0, 0, 0, ...\n",
       "                       9     [361, 116, 361, 3, 11, 3, 3, 3, 3, 3, 0, 0, 0,...\n",
       "                       10    [0, 0, 0, 0, 0, 0, 0, 0, 20, 12, 0, 0, 0, 0, 0...\n",
       "\n",
       "[26230 rows x 1 columns]"
      ]
     },
     "execution_count": 34,
     "metadata": {},
     "output_type": "execute_result"
    }
   ],
   "source": [
    "f_df_grouped = f_df_segments['activity'].apply(list).to_frame()\n",
    "f_df_grouped"
   ]
  },
  {
   "cell_type": "code",
   "execution_count": 35,
   "id": "efe3f4b4",
   "metadata": {},
   "outputs": [],
   "source": [
    "from scipy.fft import fft\n",
    "\n",
    "# Now:\n",
    "# 1. Adjust the number of samples for each 'number'\n",
    "# 2. Create three subsets: night, day, all\n",
    "# 3. Standardize\n",
    "# 4. Do the feature extraction"
   ]
  },
  {
   "cell_type": "code",
   "execution_count": 36,
   "id": "f52005b3",
   "metadata": {},
   "outputs": [
    {
     "data": {
      "text/html": [
       "<div>\n",
       "<style scoped>\n",
       "    .dataframe tbody tr th:only-of-type {\n",
       "        vertical-align: middle;\n",
       "    }\n",
       "\n",
       "    .dataframe tbody tr th {\n",
       "        vertical-align: top;\n",
       "    }\n",
       "\n",
       "    .dataframe thead th {\n",
       "        text-align: right;\n",
       "    }\n",
       "</style>\n",
       "<table border=\"1\" class=\"dataframe\">\n",
       "  <thead>\n",
       "    <tr style=\"text-align: right;\">\n",
       "      <th></th>\n",
       "      <th></th>\n",
       "      <th></th>\n",
       "      <th>activity</th>\n",
       "      <th>f_activity</th>\n",
       "    </tr>\n",
       "    <tr>\n",
       "      <th>number</th>\n",
       "      <th>date</th>\n",
       "      <th>hour</th>\n",
       "      <th></th>\n",
       "      <th></th>\n",
       "    </tr>\n",
       "  </thead>\n",
       "  <tbody>\n",
       "    <tr>\n",
       "      <th rowspan=\"5\" valign=\"top\">condition_1</th>\n",
       "      <th rowspan=\"5\" valign=\"top\">2003-05-07</th>\n",
       "      <th>12</th>\n",
       "      <td>[0, 143, 0, 20, 166, 160, 17, 646, 978, 306, 2...</td>\n",
       "      <td>[(20793-0j), (-1630.2969907381178+817.34903708...</td>\n",
       "    </tr>\n",
       "    <tr>\n",
       "      <th>13</th>\n",
       "      <td>[306, 286, 12, 0, 130, 160, 296, 317, 338, 277...</td>\n",
       "      <td>[(17074-0j), (177.780596192526+5535.7818431306...</td>\n",
       "    </tr>\n",
       "    <tr>\n",
       "      <th>14</th>\n",
       "      <td>[0, 0, 21, 67, 88, 43, 485, 568, 550, 328, 64,...</td>\n",
       "      <td>[(16751-0j), (-1483.4003873449071+2032.9306819...</td>\n",
       "    </tr>\n",
       "    <tr>\n",
       "      <th>15</th>\n",
       "      <td>[38, 85, 0, 38, 52, 49, 338, 52, 70, 0, 0, 500...</td>\n",
       "      <td>[(13127-0j), (-2890.6840630105316-5341.6468336...</td>\n",
       "    </tr>\n",
       "    <tr>\n",
       "      <th>16</th>\n",
       "      <td>[15, 0, 0, 646, 587, 439, 197, 425, 361, 338, ...</td>\n",
       "      <td>[(14313-0j), (1735.4839053778308+2022.24283617...</td>\n",
       "    </tr>\n",
       "    <tr>\n",
       "      <th>...</th>\n",
       "      <th>...</th>\n",
       "      <th>...</th>\n",
       "      <td>...</td>\n",
       "      <td>...</td>\n",
       "    </tr>\n",
       "    <tr>\n",
       "      <th rowspan=\"5\" valign=\"top\">control_9</th>\n",
       "      <th rowspan=\"5\" valign=\"top\">2003-12-29</th>\n",
       "      <th>6</th>\n",
       "      <td>[0, 0, 0, 0, 0, 0, 0, 0, 0, 0, 0, 0, 0, 0, 0, ...</td>\n",
       "      <td>[-0j, 0j, 0j, 0j, 0j, 0j, 0j, 0j, 0j, 0j, 0j, ...</td>\n",
       "    </tr>\n",
       "    <tr>\n",
       "      <th>7</th>\n",
       "      <td>[0, 0, 0, 0, 0, 0, 0, 0, 0, 0, 0, 0, 0, 0, 0, ...</td>\n",
       "      <td>[-0j, 0j, 0j, 0j, 0j, 0j, 0j, 0j, 0j, 0j, 0j, ...</td>\n",
       "    </tr>\n",
       "    <tr>\n",
       "      <th>8</th>\n",
       "      <td>[0, 0, 0, 0, 0, 0, 0, 0, 0, 0, 0, 0, 0, 0, 0, ...</td>\n",
       "      <td>[(1806-0j), (-107.81150519681631+261.696621124...</td>\n",
       "    </tr>\n",
       "    <tr>\n",
       "      <th>9</th>\n",
       "      <td>[361, 116, 361, 3, 11, 3, 3, 3, 3, 3, 0, 0, 0,...</td>\n",
       "      <td>[(1551-0j), (812.8979265663858-360.05671419706...</td>\n",
       "    </tr>\n",
       "    <tr>\n",
       "      <th>10</th>\n",
       "      <td>[0, 0, 0, 0, 0, 0, 0, 0, 20, 12, 0, 0, 0, 0, 0...</td>\n",
       "      <td>[(339-0j), (44.024459704554275-41.830546232505...</td>\n",
       "    </tr>\n",
       "  </tbody>\n",
       "</table>\n",
       "<p>26230 rows × 2 columns</p>\n",
       "</div>"
      ],
      "text/plain": [
       "                                                                      activity  \\\n",
       "number      date       hour                                                      \n",
       "condition_1 2003-05-07 12    [0, 143, 0, 20, 166, 160, 17, 646, 978, 306, 2...   \n",
       "                       13    [306, 286, 12, 0, 130, 160, 296, 317, 338, 277...   \n",
       "                       14    [0, 0, 21, 67, 88, 43, 485, 568, 550, 328, 64,...   \n",
       "                       15    [38, 85, 0, 38, 52, 49, 338, 52, 70, 0, 0, 500...   \n",
       "                       16    [15, 0, 0, 646, 587, 439, 197, 425, 361, 338, ...   \n",
       "...                                                                        ...   \n",
       "control_9   2003-12-29 6     [0, 0, 0, 0, 0, 0, 0, 0, 0, 0, 0, 0, 0, 0, 0, ...   \n",
       "                       7     [0, 0, 0, 0, 0, 0, 0, 0, 0, 0, 0, 0, 0, 0, 0, ...   \n",
       "                       8     [0, 0, 0, 0, 0, 0, 0, 0, 0, 0, 0, 0, 0, 0, 0, ...   \n",
       "                       9     [361, 116, 361, 3, 11, 3, 3, 3, 3, 3, 0, 0, 0,...   \n",
       "                       10    [0, 0, 0, 0, 0, 0, 0, 0, 20, 12, 0, 0, 0, 0, 0...   \n",
       "\n",
       "                                                                    f_activity  \n",
       "number      date       hour                                                     \n",
       "condition_1 2003-05-07 12    [(20793-0j), (-1630.2969907381178+817.34903708...  \n",
       "                       13    [(17074-0j), (177.780596192526+5535.7818431306...  \n",
       "                       14    [(16751-0j), (-1483.4003873449071+2032.9306819...  \n",
       "                       15    [(13127-0j), (-2890.6840630105316-5341.6468336...  \n",
       "                       16    [(14313-0j), (1735.4839053778308+2022.24283617...  \n",
       "...                                                                        ...  \n",
       "control_9   2003-12-29 6     [-0j, 0j, 0j, 0j, 0j, 0j, 0j, 0j, 0j, 0j, 0j, ...  \n",
       "                       7     [-0j, 0j, 0j, 0j, 0j, 0j, 0j, 0j, 0j, 0j, 0j, ...  \n",
       "                       8     [(1806-0j), (-107.81150519681631+261.696621124...  \n",
       "                       9     [(1551-0j), (812.8979265663858-360.05671419706...  \n",
       "                       10    [(339-0j), (44.024459704554275-41.830546232505...  \n",
       "\n",
       "[26230 rows x 2 columns]"
      ]
     },
     "execution_count": 36,
     "metadata": {},
     "output_type": "execute_result"
    }
   ],
   "source": [
    "# 4. Frequency-domain feature extraction\n",
    "f_df_grouped['f_activity'] = f_df_grouped.apply(lambda r: fft(r['activity']), axis=1)\n",
    "f_df_grouped"
   ]
  },
  {
   "cell_type": "markdown",
   "id": "62cf0793",
   "metadata": {},
   "source": [
    "### Feature selection"
   ]
  },
  {
   "cell_type": "code",
   "execution_count": null,
   "id": "dd6bc799",
   "metadata": {},
   "outputs": [],
   "source": []
  }
 ],
 "metadata": {
  "kernelspec": {
   "display_name": "Python 3",
   "language": "python",
   "name": "python3"
  },
  "language_info": {
   "codemirror_mode": {
    "name": "ipython",
    "version": 3
   },
   "file_extension": ".py",
   "mimetype": "text/x-python",
   "name": "python",
   "nbconvert_exporter": "python",
   "pygments_lexer": "ipython3",
   "version": "3.7.6"
  }
 },
 "nbformat": 4,
 "nbformat_minor": 5
}
